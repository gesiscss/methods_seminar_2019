{
 "cells": [
  {
   "cell_type": "markdown",
   "metadata": {},
   "source": [
    "# Granovetter Threshold Model"
   ]
  },
  {
   "cell_type": "markdown",
   "metadata": {},
   "source": [
    "Author: Fariba Karimi\n",
    "\n",
    "Website: frbkrm.com\n",
    "\n",
    "Version: 18 July 2019\n",
    "\n",
    "Generating networks with python and networkx"
   ]
  },
  {
   "cell_type": "code",
   "execution_count": 8,
   "metadata": {
    "collapsed": true
   },
   "outputs": [],
   "source": [
    "# loading libraries\n",
    "import matplotlib.pyplot as plt ###for plotting\n",
    "\n",
    "import random\n",
    "\n",
    "import networkx as nx\n"
   ]
  },
  {
   "cell_type": "code",
   "execution_count": 92,
   "metadata": {
    "collapsed": true
   },
   "outputs": [],
   "source": [
    "def draw(g):\n",
    "    positions = nx.spring_layout(g)\n",
    "    nx.draw(g, with_labels = False, pos = positions,\n",
    "            node_color = [g.node[n]['color'] for n in g.nodes()])\n",
    "    nx.draw_networkx_labels(g,pos = positions)\n",
    "    plt.show()\n"
   ]
  },
  {
   "cell_type": "markdown",
   "metadata": {},
   "source": [
    "We have now had a look at how we can use algorithms to build psychological\n",
    "mechanisms of social network formation into our models.\n",
    "\n",
    "lets now have a look at how we can model the spread of information, norms,\n",
    "decisions, opinions within social networks.\n",
    "\n",
    "The most basic form of model for the spread of such information in networks is the Granovetter Threshold Model.\n",
    "Its basic idea is that each node in the network starts with one of x different attributes.  In the social science\n",
    "these attributes can represents norms, values, opinions or beliefs. After the initialization of the model, the model goes through\n",
    "different rounds. In each round, each node polls its immediate neighbours and checks the proportion of neighbours the\n",
    "have a specific attribute. If the proportion of neighbours exceeds a specfic threshold t (e.g. 50%), the node will adopt the\n",
    "attribute as well. [Link](https://www.uzh.ch/cmsssl/suz/dam/jcr:ffffffff-f952-f950-ffff-ffff87498b5e/03.18_granovetter_78.pdf) to the original paper by Granovetter."
   ]
  },
  {
   "cell_type": "code",
   "execution_count": 93,
   "metadata": {
    "collapsed": true
   },
   "outputs": [],
   "source": [
    "#build an undirected empty graph called Net"
   ]
  },
  {
   "cell_type": "code",
   "execution_count": 94,
   "metadata": {
    "collapsed": false
   },
   "outputs": [
    {
     "data": {
      "text/plain": [
       "EdgeView([('Mat', 'Homer'), ('Mat', 'Jack'), ('Bob', 'Fred'), ('Bob', 'Hank'), ('Fred', 'Hank'), ('Fred', 'Homer'), ('Homer', 'Jack')])"
      ]
     },
     "execution_count": 94,
     "metadata": {},
     "output_type": "execute_result"
    }
   ],
   "source": [
    "# lets build a very basic network to start with.\n",
    "\n",
    "edge_list = [('Bob', 'Hank'), ('Homer', 'Mat'), ('Fred', 'Bob'), ('Homer', 'Fred'), ('Hank', 'Fred'),('Mat','Jack'),('Homer','Jack')]\n",
    "\n",
    "\n",
    "Net.add_edges_from(edge_list)\n",
    "\n",
    "Net.edges()\n"
   ]
  },
  {
   "cell_type": "markdown",
   "metadata": {},
   "source": [
    "Now lets assign the vertices attributes, for example the norms they hold on a specific issue.\n",
    "\n",
    "\n",
    "Lets say we ask them if they think people should wear suits to work at university."
   ]
  },
  {
   "cell_type": "code",
   "execution_count": 95,
   "metadata": {
    "collapsed": false
   },
   "outputs": [
    {
     "name": "stdout",
     "output_type": "stream",
     "text": [
      "[('Mat', {'norm': 'casual'}), ('Bob', {'norm': 'suits'}), ('Fred', {'norm': 'suits'}), ('Hank', {'norm': 'suits'}), ('Homer', {'norm': 'suits'}), ('Jack', {'norm': 'casual'})]\n"
     ]
    }
   ],
   "source": [
    "# creating a norm attribute as an example\n",
    "node_norm_dictionary =  {'Hank':\"suits\",'Homer':\"suits\",'Mat':\"casual\",'Fred':\"suits\",'Bob':\"suits\",'Jack':\"casual\"}\n",
    "nx.set_node_attributes(Net,  node_norm_dictionary , 'norm') #setting node attributes into the graph Net\n",
    "\n"
   ]
  },
  {
   "cell_type": "markdown",
   "metadata": {},
   "source": [
    "Lets define another vector to assign colors to the different norms"
   ]
  },
  {
   "cell_type": "code",
   "execution_count": 96,
   "metadata": {
    "collapsed": false
   },
   "outputs": [],
   "source": [
    "# suits = red\n",
    "# casual = blue\n",
    "colors = []\n",
    "nx.set_node_attributes(Net, colors, 'color')\n",
    "for node, attr_dict in Net.nodes(data = True):\n",
    "    if attr_dict['norm'] == 'suits':\n",
    "        attr_dict['color'] = 'red'\n",
    "    if attr_dict['norm'] == 'casual':\n",
    "        attr_dict['color'] = 'blue'        "
   ]
  },
  {
   "cell_type": "code",
   "execution_count": 1,
   "metadata": {
    "collapsed": false
   },
   "outputs": [],
   "source": [
    "# lets plot the network\n"
   ]
  },
  {
   "cell_type": "markdown",
   "metadata": {},
   "source": [
    "We now have a graph that displays the structure of the network for six people\n",
    "and the respective norms they hold.\n",
    "\n",
    "Hank, Bob, Fred and Homer think people should wear suits while Mat and Jack think people should dress casually"
   ]
  },
  {
   "cell_type": "markdown",
   "metadata": {},
   "source": [
    "### Granovetter Threshold Model"
   ]
  },
  {
   "cell_type": "markdown",
   "metadata": {},
   "source": [
    "Lets say the norm evolves in the network according to a Granovettre threshold Model with t = 0.6, meaning\n",
    "that people will adopt the norm that over 60% of their contacts are displaying. Once someone adopts a new norm, he doesn't switch back to the previous norm.\n",
    "\n",
    "Can you guess what happens to Homer and Fred?"
   ]
  },
  {
   "cell_type": "markdown",
   "metadata": {},
   "source": [
    "Lets build a procedure that generalizes this mechanism to the whole network\n",
    "We need a function that updates the norm for a single node and then apply that functon to all nodes."
   ]
  },
  {
   "cell_type": "markdown",
   "metadata": {},
   "source": [
    "initializing empty dictionaries to keep track of updates"
   ]
  },
  {
   "cell_type": "code",
   "execution_count": 98,
   "metadata": {
    "collapsed": true
   },
   "outputs": [],
   "source": [
    "threshold = 0.6\n",
    "#initializing empty dictionaries to keep track of updates\n",
    "node_norm_update = {}\n",
    "node_color_update = {}"
   ]
  },
  {
   "cell_type": "markdown",
   "metadata": {},
   "source": [
    "loop over nodes and count the norms of the neighbors"
   ]
  },
  {
   "cell_type": "code",
   "execution_count": 99,
   "metadata": {
    "collapsed": false
   },
   "outputs": [],
   "source": [
    "# loop over nodes and count the norms of the neighbors\n",
    "\n",
    "        "
   ]
  },
  {
   "cell_type": "markdown",
   "metadata": {},
   "source": [
    "calculating fraction of neighbors for each norm"
   ]
  },
  {
   "cell_type": "code",
   "execution_count": 100,
   "metadata": {
    "collapsed": true
   },
   "outputs": [],
   "source": [
    "#calculating fraction of norms \n"
   ]
  },
  {
   "cell_type": "markdown",
   "metadata": {},
   "source": [
    "check if fraction of norms exceed the threshold"
   ]
  },
  {
   "cell_type": "code",
   "execution_count": 101,
   "metadata": {
    "collapsed": false
   },
   "outputs": [],
   "source": [
    "#check if fraction of norms exceed the threshold\n",
    "\n"
   ]
  },
  {
   "cell_type": "markdown",
   "metadata": {},
   "source": [
    "update node's norm"
   ]
  },
  {
   "cell_type": "code",
   "execution_count": 102,
   "metadata": {
    "collapsed": true
   },
   "outputs": [],
   "source": [
    "# update node's norm         \n"
   ]
  },
  {
   "cell_type": "markdown",
   "metadata": {},
   "source": [
    "Let's put all the above steps in a function that we can run multiple times for different networks'"
   ]
  },
  {
   "cell_type": "code",
   "execution_count": 103,
   "metadata": {
    "collapsed": false
   },
   "outputs": [],
   "source": [
    "def update_norm_granovetter_1_round(g , threshold):\n",
    "    \n",
    "    node_norm_update = {}\n",
    "    node_color_update = {}\n",
    "\n",
    "    for n in g.nodes():\n",
    "        node_norm = g.node[n]['norm']\n",
    "        nbr_suits = 0\n",
    "        nbr_casual = 0\n",
    "        \n",
    "        for nbr in g.neighbors(n):\n",
    "            nbr_norm = g.node[nbr]['norm']\n",
    "            print(nbr_norm)\n",
    "            if nbr_norm == 'suits':\n",
    "                nbr_suits += 1\n",
    "            if nbr_norm == 'casual':\n",
    "                nbr_casual += 1\n",
    "        \n",
    "        suit_frac = nbr_suits /(nbr_suits+nbr_casual)\n",
    "        casual_frac = nbr_casual /(nbr_suits+nbr_casual)\n",
    "\n",
    "        if suit_frac >= threshold:\n",
    "            if node_norm == 'casual':\n",
    "                node_norm_update[n]='suits'\n",
    "                node_color_update[n]='red'\n",
    "                \n",
    "\n",
    "        if casual_frac >= threshold:\n",
    "            if node_norm == 'suits': \n",
    "                node_norm_update[n]='casual'\n",
    "                node_color_update[n]='blue'\n",
    "\n",
    "                \n",
    "    for node in node_norm_update.keys():\n",
    "        print('node to change',node)\n",
    "        g.node[node]['norm'] = node_norm_update[node]\n",
    "        g.node[node]['color'] = node_color_update[node]\n",
    "        \n",
    "        \n",
    "\n",
    "    return g"
   ]
  },
  {
   "cell_type": "markdown",
   "metadata": {},
   "source": [
    "Now we can update all nodes simultanously according to the Granovetter threshold Model"
   ]
  },
  {
   "cell_type": "code",
   "execution_count": 3,
   "metadata": {
    "collapsed": false
   },
   "outputs": [],
   "source": [
    "#old_ntw = Net.copy()\n",
    "#updated_ntw = update_norm_granovetter_1_round(old_ntw , threshold = 0.6)"
   ]
  },
  {
   "cell_type": "code",
   "execution_count": 6,
   "metadata": {
    "collapsed": false
   },
   "outputs": [],
   "source": [
    "#draw(Net)\n"
   ]
  },
  {
   "cell_type": "markdown",
   "metadata": {},
   "source": [
    "Note: when using jupyter notebook, the network is updated on the fly. To work with the original network, always make a copy of Net and then give that to the function. "
   ]
  },
  {
   "cell_type": "markdown",
   "metadata": {},
   "source": [
    "### What happens if we let the network evovles based on this simple rule?"
   ]
  },
  {
   "cell_type": "markdown",
   "metadata": {},
   "source": [
    "We now need a function that takes a network as input and then updates all nodes and returns the updated network. For simplicity, we assume once an agent changes her state, she doesn't return to her previous state. We all want to be fasion forwards!! "
   ]
  },
  {
   "cell_type": "code",
   "execution_count": 107,
   "metadata": {
    "collapsed": true
   },
   "outputs": [],
   "source": [
    "def update_norm_granovetter_multi_round(g , threshold):\n",
    "    \n",
    "    nodes_already_changed = [] #we make a list of nodes that have already changed their norm\n",
    "    for i in range(20):\n",
    "        node_norm_update = {}\n",
    "        node_color_update = {}\n",
    "    \n",
    "        for n in g.nodes():\n",
    "            if n in nodes_already_changed: #to make the code efficient, we don't loop over nodes who have already changed\n",
    "                continue\n",
    "            node_norm = g.node[n]['norm']\n",
    "            nbr_suits = 0\n",
    "            nbr_casual = 0\n",
    "        \n",
    "            for nbr in g.neighbors(n):\n",
    "                nbr_norm = g.node[nbr]['norm']\n",
    "                if nbr_norm == 'suits':\n",
    "                    nbr_suits += 1\n",
    "                if nbr_norm == 'casual':\n",
    "                    nbr_casual += 1\n",
    "        \n",
    "            suit_frac = nbr_suits /(nbr_suits+nbr_casual)\n",
    "            casual_frac = nbr_casual /(nbr_suits+nbr_casual)\n",
    "\n",
    "            if suit_frac >= threshold:\n",
    "                if node_norm == 'casual': \n",
    "                    node_norm_update[n]='suits'\n",
    "                    node_color_update[n]='red'                \n",
    "                \n",
    "\n",
    "            if casual_frac >= threshold:\n",
    "                if node_norm == 'suits': \n",
    "                    node_norm_update[n]='casual'\n",
    "                    node_color_update[n]='blue'\n",
    "                \n",
    "        for node in node_norm_update.keys():\n",
    "            g.node[node]['norm'] = node_norm_update[node]\n",
    "            g.node[node]['color'] = node_color_update[node]\n",
    "            nodes_already_changed.append(node) #we add this node to the list\n",
    "\n",
    "    return g"
   ]
  },
  {
   "cell_type": "markdown",
   "metadata": {},
   "source": [
    "lets use the function to do multiple iteration of the Granovetter Threshold Model"
   ]
  },
  {
   "cell_type": "code",
   "execution_count": 108,
   "metadata": {
    "collapsed": true
   },
   "outputs": [],
   "source": [
    "old_ntw = Net.copy()\n",
    "updated_ntw = update_norm_granovetter_multi_round(old_ntw , threshold = 0.6)"
   ]
  },
  {
   "cell_type": "code",
   "execution_count": null,
   "metadata": {
    "collapsed": false
   },
   "outputs": [],
   "source": []
  },
  {
   "cell_type": "markdown",
   "metadata": {},
   "source": [
    "### Impact of network structure on Granovetter threshold model"
   ]
  },
  {
   "cell_type": "markdown",
   "metadata": {},
   "source": [
    "#### Zachary Karate Club"
   ]
  },
  {
   "cell_type": "markdown",
   "metadata": {},
   "source": [
    "A social network of a karate club was studied by Wayne W. Zachary for a period of three years from 1970 to 1972.[2] The network captures 34 members of a karate club, documenting links between pairs of members who interacted outside the club. During the study a conflict arose between the administrator \"John A\" and instructor \"Mr. Hi\" (pseudonyms), which led to the split of the club into two. Half of the members formed a new club around Mr. Hi; members from the other part found a new instructor or gave up karate. Based on collected data Zachary correctly assigned all but one member of the club to the groups they actually joined after the split. (Wikipedia)"
   ]
  },
  {
   "cell_type": "code",
   "execution_count": 10,
   "metadata": {
    "collapsed": true
   },
   "outputs": [],
   "source": [
    "G = nx.karate_club_graph()"
   ]
  },
  {
   "cell_type": "code",
   "execution_count": 11,
   "metadata": {
    "collapsed": false
   },
   "outputs": [],
   "source": [
    "draw_karate = nx.draw(G, pos = nx.spring_layout(G))\n",
    "#show\n"
   ]
  },
  {
   "cell_type": "markdown",
   "metadata": {},
   "source": [
    "Lets apply the Threshold Model on the Zachari club.\n",
    "First, let's assume all nodes are casual and 1 random person decides to wear suits. How many people will follow that person?"
   ]
  },
  {
   "cell_type": "markdown",
   "metadata": {},
   "source": [
    "Frist, we need to modify the code by initializing 'norm' attribute and choosing number of seeds."
   ]
  },
  {
   "cell_type": "code",
   "execution_count": 114,
   "metadata": {
    "collapsed": true
   },
   "outputs": [],
   "source": [
    "def update_norm_granovetter_karate(g , threshold, seeds_nr):\n",
    "    nodes_already_changed = [] #we make a list of nodes that have already changed their norm\n",
    "\n",
    "    # initializing\n",
    "\n",
    "    # choosing a random node and changing her norm\n",
    "\n",
    "        \n",
    "    for i in range(20): #let's increase number of itterations to make sure we reach stability\n",
    "        node_norm_update = {}\n",
    "        node_color_update = {}\n",
    "    \n",
    "        for n in g.nodes():\n",
    "            if n in nodes_already_changed: continue #we pass nodes who have already changes \n",
    "            node_norm = g.node[n]['norm']\n",
    "            nbr_suits = 0\n",
    "            nbr_casual = 0\n",
    "        \n",
    "            for nbr in g.neighbors(n):\n",
    "                nbr_norm = g.node[nbr]['norm']\n",
    "                if nbr_norm == 'suits':\n",
    "                    nbr_suits += 1\n",
    "                if nbr_norm == 'casual':\n",
    "                    nbr_casual += 1\n",
    "        \n",
    "            suit_frac = nbr_suits /(nbr_suits+nbr_casual)\n",
    "            casual_frac = nbr_casual /(nbr_suits+nbr_casual)\n",
    "\n",
    "            if suit_frac >= threshold:\n",
    "                if node_norm == 'casual': \n",
    "                    node_norm_update[n]='suits'\n",
    "                    node_color_update[n]='red'                \n",
    "                \n",
    "\n",
    "            if casual_frac >= threshold:\n",
    "                if node_norm == 'suits': \n",
    "                    node_norm_update[n]='casual'\n",
    "                    node_color_update[n]='blue'\n",
    "                \n",
    "        for node in node_norm_update.keys():\n",
    "            g.node[node]['norm'] = node_norm_update[node]\n",
    "            g.node[node]['color'] = node_color_update[node]\n",
    "            nodes_already_changed.append(node)\n",
    "\n",
    "    return g"
   ]
  },
  {
   "cell_type": "code",
   "execution_count": 115,
   "metadata": {
    "collapsed": false
   },
   "outputs": [],
   "source": [
    "update_karate_ntw = G.copy()"
   ]
  },
  {
   "cell_type": "code",
   "execution_count": 116,
   "metadata": {
    "collapsed": false
   },
   "outputs": [
    {
     "name": "stdout",
     "output_type": "stream",
     "text": [
      "random node is 9\n"
     ]
    }
   ],
   "source": [
    "update_karate_ntw = update_norm_granovetter_karate(update_karate_ntw , threshold = 0.6 , seeds_nr = 1)"
   ]
  },
  {
   "cell_type": "code",
   "execution_count": 4,
   "metadata": {
    "collapsed": false
   },
   "outputs": [],
   "source": [
    "#draw(update_karate_ntw)"
   ]
  },
  {
   "cell_type": "markdown",
   "metadata": {},
   "source": [
    "Let's increase number of initial seeds"
   ]
  },
  {
   "cell_type": "code",
   "execution_count": null,
   "metadata": {
    "collapsed": true
   },
   "outputs": [],
   "source": []
  }
 ],
 "metadata": {
  "kernelspec": {
   "display_name": "Python 3",
   "language": "python",
   "name": "python3"
  },
  "language_info": {
   "codemirror_mode": {
    "name": "ipython",
    "version": 3
   },
   "file_extension": ".py",
   "mimetype": "text/x-python",
   "name": "python",
   "nbconvert_exporter": "python",
   "pygments_lexer": "ipython3",
   "version": "3.4.2"
  }
 },
 "nbformat": 4,
 "nbformat_minor": 2
}
