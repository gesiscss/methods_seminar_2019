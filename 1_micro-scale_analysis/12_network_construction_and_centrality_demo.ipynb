{
 "cells": [
  {
   "cell_type": "markdown",
   "metadata": {},
   "source": [
    "### 39. Methodenseminar\n",
    "## Big Data Module II: Introduction to Social Network Science with Python\n",
    "# 1.2 Network Construction and Centrality (Demo)\n",
    "**Author**: <a href='https://www.gesis.org/person/haiko.lietz'>Haiko Lietz</a>, GESIS - Leibniz Institute for the Social Sciences\n",
    "\n",
    "**Date**: 15 July 2019\n",
    "\n",
    "**Library versions**: ``networkx`` 2.2 ([documentation](https://networkx.github.io/documentation/))"
   ]
  },
  {
   "cell_type": "markdown",
   "metadata": {},
   "source": [
    "***\n",
    "## Table of Contents\n",
    "#### [1.2.1 Unipartite Networks](#1_2_1)\n",
    "[1.2.1.1 Create Graph Objects](#1_2_1_1) |\n",
    "[1.2.1.2 Populate Graph Object Using Labels and Loops](#1_2_1_2) |\n",
    "[1.2.1.3 Populate DiGraph Object Using Integers and Lists](#1_2_1_3) |\n",
    "[1.2.1.4 Convert Node Labels to Integers](#1_2_1_4)\n",
    "#### [1.2.2 Multigraphs, Weights, Attributes, and Plotting](#1_2_2)\n",
    "[1.2.2.1 The Medici MultiDiGraph](#1_2_2_1) |\n",
    "[1.2.2.2 Set-Like Views of Graphs](#1_2_2_2) |\n",
    "[1.2.2.3 Node-Level Views](#1_2_2_3)\n",
    "#### [1.2.3 Centrality](#1_2_3)\n",
    "#### [1.2.4 Brokerage and Closure](#1_2_4)\n",
    "#### [1.2.5 Bipartite Networks and Link Communities](#1_2_5)\n",
    "[1.2.5.1 Selection Graph](#1_2_5_1) |\n",
    "[1.2.5.2 Projection to Transaction Co-Fact Graph](#1_2_5_2) |\n",
    "[1.2.5.3 Projection to Fact Co-Transaction Graph](#1_2_5_3) |\n",
    "[1.2.5.4 Duality of Groups and Link Communities](#1_2_5_4)\n",
    "***"
   ]
  },
  {
   "cell_type": "markdown",
   "metadata": {},
   "source": [
    "## 1.2.1 Unipartite Networks <a name='1_2_1'></a>"
   ]
  },
  {
   "cell_type": "code",
   "execution_count": null,
   "metadata": {},
   "outputs": [],
   "source": []
  },
  {
   "cell_type": "markdown",
   "metadata": {},
   "source": [
    "### 1.2.1.1 Create Graph Objects <a name='1_2_1_1'></a>"
   ]
  },
  {
   "cell_type": "code",
   "execution_count": null,
   "metadata": {},
   "outputs": [],
   "source": []
  },
  {
   "cell_type": "markdown",
   "metadata": {},
   "source": [
    "### 1.2.1.2 Populate Graph Object Using Labels and Loops <a name='1_2_1_2'></a>"
   ]
  },
  {
   "cell_type": "markdown",
   "metadata": {},
   "source": [
    "#### Nodes"
   ]
  },
  {
   "cell_type": "code",
   "execution_count": null,
   "metadata": {},
   "outputs": [],
   "source": []
  },
  {
   "cell_type": "markdown",
   "metadata": {},
   "source": [
    "#### Edges"
   ]
  },
  {
   "cell_type": "code",
   "execution_count": null,
   "metadata": {},
   "outputs": [],
   "source": []
  },
  {
   "cell_type": "markdown",
   "metadata": {},
   "source": [
    "### 1.2.1.3 Populate DiGraph Object Using Integers and Lists <a name='1_2_1_3'></a>"
   ]
  },
  {
   "cell_type": "code",
   "execution_count": null,
   "metadata": {},
   "outputs": [],
   "source": []
  },
  {
   "cell_type": "markdown",
   "metadata": {},
   "source": [
    "### 1.2.1.4 Convert Node Labels to Integers <a name='1_2_1_4'></a>"
   ]
  },
  {
   "cell_type": "code",
   "execution_count": null,
   "metadata": {},
   "outputs": [],
   "source": []
  },
  {
   "cell_type": "markdown",
   "metadata": {},
   "source": [
    "## 1.2.2 Multigraphs, Weights, Attributes, and Plotting <a name='1_2_2'></a>"
   ]
  },
  {
   "cell_type": "markdown",
   "metadata": {},
   "source": [
    "### 1.2.2.1 The Medici MultiDiGraph <a name='1_2_2_1'></a>"
   ]
  },
  {
   "cell_type": "markdown",
   "metadata": {},
   "source": [
    "<img src='images/medici.jpg'>"
   ]
  },
  {
   "cell_type": "code",
   "execution_count": null,
   "metadata": {},
   "outputs": [],
   "source": [
    "import pandas as pd"
   ]
  },
  {
   "cell_type": "code",
   "execution_count": null,
   "metadata": {},
   "outputs": [],
   "source": [
    "families = pd.read_csv('../data/medici/families.txt', header='infer', delimiter='\\t', encoding='utf-8')\n",
    "families.head()"
   ]
  },
  {
   "cell_type": "markdown",
   "metadata": {},
   "source": [
    "#### Single Domains"
   ]
  },
  {
   "cell_type": "markdown",
   "metadata": {},
   "source": [
    "The friendship domain is the only undirected one."
   ]
  },
  {
   "cell_type": "code",
   "execution_count": null,
   "metadata": {},
   "outputs": [],
   "source": [
    "friendship = pd.read_csv('../data/medici/friendship.txt', header='infer', delimiter='\\t', encoding='utf-8')\n",
    "friendship"
   ]
  },
  {
   "cell_type": "code",
   "execution_count": null,
   "metadata": {},
   "outputs": [],
   "source": []
  },
  {
   "cell_type": "markdown",
   "metadata": {},
   "source": [
    "#### Graph Functions"
   ]
  },
  {
   "cell_type": "code",
   "execution_count": null,
   "metadata": {},
   "outputs": [],
   "source": []
  },
  {
   "cell_type": "markdown",
   "metadata": {},
   "source": [
    "#### MultiDiGraph"
   ]
  },
  {
   "cell_type": "code",
   "execution_count": null,
   "metadata": {},
   "outputs": [],
   "source": [
    "M = nx.MultiDiGraph()"
   ]
  },
  {
   "cell_type": "code",
   "execution_count": null,
   "metadata": {},
   "outputs": [],
   "source": [
    "colors = ['#e41a1c', '#377eb8', '#4daf4a', '#984ea3', '#ff7f00', '#ffff33', '#a65628', '#f781bf', '#999999']"
   ]
  },
  {
   "cell_type": "code",
   "execution_count": null,
   "metadata": {},
   "outputs": [],
   "source": [
    "M.add_weighted_edges_from(friendship.values, color=colors[6])"
   ]
  },
  {
   "cell_type": "code",
   "execution_count": null,
   "metadata": {},
   "outputs": [],
   "source": [
    "M.add_weighted_edges_from(economic.values, color=colors[4])"
   ]
  },
  {
   "cell_type": "code",
   "execution_count": null,
   "metadata": {},
   "outputs": [],
   "source": [
    "M.add_weighted_edges_from(political.values, color=colors[2])"
   ]
  },
  {
   "cell_type": "code",
   "execution_count": null,
   "metadata": {},
   "outputs": [],
   "source": [
    "M.add_weighted_edges_from(kinship.values, color=colors[3])"
   ]
  },
  {
   "cell_type": "code",
   "execution_count": null,
   "metadata": {},
   "outputs": [],
   "source": [
    "nx.draw(M, with_labels=True)"
   ]
  },
  {
   "cell_type": "markdown",
   "metadata": {},
   "source": [
    "#### Node Positions"
   ]
  },
  {
   "cell_type": "code",
   "execution_count": null,
   "metadata": {},
   "outputs": [],
   "source": []
  },
  {
   "cell_type": "code",
   "execution_count": null,
   "metadata": {},
   "outputs": [],
   "source": [
    "import numpy as np"
   ]
  },
  {
   "cell_type": "code",
   "execution_count": null,
   "metadata": {},
   "outputs": [],
   "source": [
    "M_pos = {'ALBIZZI': np.array([-0.006, -0.1166]),\n",
    "         'ALDOBRANDINI': np.array([0.063, -0.4]),\n",
    "         'ALTOVITI': np.array([0.1944, -0.1514]),\n",
    "         'ARDINGHELLI': np.array([-0.3648, -0.1236]),\n",
    "         'BARONCELLI': np.array([-0.2912, -0.1793]),\n",
    "         'BENIZZI': np.array([-0.0727, -0.2918]),\n",
    "         'BISCHERI': np.array([0.4, 0.4]),\n",
    "         'CASTELLANI': np.array([0.0869, -0.2025]),\n",
    "         'COCCO-DONATI': np.array([-0.1493, 0.1514]),\n",
    "         'DA UZZANO': np.array([-0.266, -0.1034]),\n",
    "         'DALL ANTELLA': np.array([-0.327, 0.2273]),\n",
    "         'DAVANZATI': np.array([-0.0352, 0.3202]),\n",
    "         'DELLA CASA': np.array([0.1161, -0.0902]),\n",
    "         'DIETISALVI': np.array([-0.4, 0.1282]),\n",
    "         'FIORAVANTI': np.array([0.1891, 0.2327]),\n",
    "         'GINORI': np.array([-0.2381, 0.1034]),\n",
    "         'GUADAGNI': np.array([0.2978, 0.3171]),\n",
    "         'GUASCONI': np.array([-0.0852, -0.1171]),\n",
    "         'GUICCIARDINI': np.array([-0.1761, -0.0705]),\n",
    "         'LAMBERTESCHI': np.array([-0.0988, -0.3667]),\n",
    "         'MEDICI': np.array([-0.0776, 0.0391]),\n",
    "         'ORLANDINI': np.array([-0.0405, 0.1715]),\n",
    "         'PANCIATICHI': np.array([-0.0034, -0.2863]),\n",
    "         'PEPI': np.array([0.2527, -0.242]),\n",
    "         'PERUZZI': np.array([0.0216, -0.205]),\n",
    "         'RONDINELLI': np.array([0.0179, -0.0306]),\n",
    "         'RUCELLAI': np.array([-0.2249, -0.3899]),\n",
    "         'SCAMBRILLA': np.array([0.1811, -0.3404]),\n",
    "         'SOLOSMEI': np.array([0.197, 0.036]),\n",
    "         'STROZZI': np.array([-0.1307, -0.2474]),\n",
    "         'TORNABUONI': np.array([0.0776, 0.1251]),\n",
    "         'VALORI': np.array([-0.2103, 0.304]),\n",
    "         'VELLUTI': np.array([-0.1851, -0.2474])}"
   ]
  },
  {
   "cell_type": "markdown",
   "metadata": {},
   "source": [
    "#### Node Attributes"
   ]
  },
  {
   "cell_type": "code",
   "execution_count": null,
   "metadata": {},
   "outputs": [],
   "source": []
  },
  {
   "cell_type": "markdown",
   "metadata": {},
   "source": [
    "#### Node Size"
   ]
  },
  {
   "cell_type": "code",
   "execution_count": null,
   "metadata": {},
   "outputs": [],
   "source": []
  },
  {
   "cell_type": "markdown",
   "metadata": {},
   "source": [
    "#### Node Color"
   ]
  },
  {
   "cell_type": "code",
   "execution_count": null,
   "metadata": {},
   "outputs": [],
   "source": []
  },
  {
   "cell_type": "code",
   "execution_count": null,
   "metadata": {},
   "outputs": [],
   "source": [
    "party_color = {'OLIGARCH': '#e41a1c', 'MEDICI': '#377eb8'}"
   ]
  },
  {
   "cell_type": "code",
   "execution_count": null,
   "metadata": {},
   "outputs": [],
   "source": []
  },
  {
   "cell_type": "markdown",
   "metadata": {},
   "source": [
    "#### Edge Width"
   ]
  },
  {
   "cell_type": "code",
   "execution_count": null,
   "metadata": {},
   "outputs": [],
   "source": []
  },
  {
   "cell_type": "markdown",
   "metadata": {},
   "source": [
    "#### Edge Colors"
   ]
  },
  {
   "cell_type": "code",
   "execution_count": null,
   "metadata": {},
   "outputs": [],
   "source": []
  },
  {
   "cell_type": "markdown",
   "metadata": {},
   "source": [
    "#### Plot"
   ]
  },
  {
   "cell_type": "code",
   "execution_count": null,
   "metadata": {},
   "outputs": [],
   "source": []
  },
  {
   "cell_type": "markdown",
   "metadata": {},
   "source": [
    "### 1.2.2.2 Set-Like Views of Graphs <a name='1_2_2_2'></a>"
   ]
  },
  {
   "cell_type": "code",
   "execution_count": null,
   "metadata": {},
   "outputs": [],
   "source": []
  },
  {
   "cell_type": "markdown",
   "metadata": {},
   "source": [
    "### 1.2.2.3 Node-Level Views <a name='1_2_2_3'></a>"
   ]
  },
  {
   "cell_type": "code",
   "execution_count": null,
   "metadata": {},
   "outputs": [],
   "source": []
  },
  {
   "cell_type": "markdown",
   "metadata": {},
   "source": [
    "## 1.2.3 Centrality <a name='1_2_3'></a>"
   ]
  },
  {
   "cell_type": "markdown",
   "metadata": {},
   "source": [
    "#### Degree Centrality"
   ]
  },
  {
   "cell_type": "code",
   "execution_count": null,
   "metadata": {},
   "outputs": [],
   "source": []
  },
  {
   "cell_type": "markdown",
   "metadata": {},
   "source": [
    "#### Closeness Centrality"
   ]
  },
  {
   "cell_type": "code",
   "execution_count": null,
   "metadata": {},
   "outputs": [],
   "source": []
  },
  {
   "cell_type": "markdown",
   "metadata": {},
   "source": [
    "#### Betweenness Centrality"
   ]
  },
  {
   "cell_type": "code",
   "execution_count": null,
   "metadata": {},
   "outputs": [],
   "source": []
  },
  {
   "cell_type": "markdown",
   "metadata": {},
   "source": [
    "## 1.2.4 Brokerage and Closure <a name='1_2_4'></a>"
   ]
  },
  {
   "cell_type": "code",
   "execution_count": null,
   "metadata": {},
   "outputs": [],
   "source": []
  },
  {
   "cell_type": "markdown",
   "metadata": {},
   "source": [
    "## 1.2.5 Bipartite Networks and Link Communities <a name='1_2_5'></a>"
   ]
  },
  {
   "cell_type": "markdown",
   "metadata": {},
   "source": [
    "<img src='images/model_selection.png'>"
   ]
  },
  {
   "cell_type": "markdown",
   "metadata": {},
   "source": [
    "### 1.2.5.1 Selection Graph <a name='1_2_5_1'></a>"
   ]
  },
  {
   "cell_type": "code",
   "execution_count": null,
   "metadata": {},
   "outputs": [],
   "source": [
    "selections = pd.read_csv('../data/bipartite.txt', header='infer', delimiter='\\t', encoding='utf-8')\n",
    "selections"
   ]
  },
  {
   "cell_type": "code",
   "execution_count": null,
   "metadata": {},
   "outputs": [],
   "source": [
    "B = nx.Graph()"
   ]
  },
  {
   "cell_type": "code",
   "execution_count": null,
   "metadata": {},
   "outputs": [],
   "source": [
    "B.add_edges_from(selections.values)"
   ]
  },
  {
   "cell_type": "code",
   "execution_count": null,
   "metadata": {},
   "outputs": [],
   "source": []
  },
  {
   "cell_type": "code",
   "execution_count": null,
   "metadata": {},
   "outputs": [],
   "source": [
    "B_pos = {'a1': np.array([-0.33333333, 0.66666667]),\n",
    "         'a2': np.array([-0.33333333, 0.33333333]),\n",
    "         'a3': np.array([-0.33333333, 0.]),\n",
    "         'a4': np.array([-0.33333333, -0.33333333]),\n",
    "         'a5': np.array([-0.33333333, -0.66666667]),\n",
    "         'f1': np.array([ 0.33333333, 0.80000000]),\n",
    "         'f2': np.array([ 0.33333333, 0.60000000]),\n",
    "         'f3': np.array([ 0.33333333, 0.40000000]),\n",
    "         'f4': np.array([ 0.33333333, 0.20000000]),\n",
    "         'f5': np.array([ 0.33333333, 0.]),\n",
    "         'f6': np.array([ 0.33333333, -0.20000000]),\n",
    "         'f7': np.array([ 0.33333333, -0.40000000]),\n",
    "         'f8': np.array([ 0.33333333, -0.60000000]),\n",
    "         'f9': np.array([ 0.33333333, -0.80000000])}"
   ]
  },
  {
   "cell_type": "code",
   "execution_count": null,
   "metadata": {},
   "outputs": [],
   "source": []
  },
  {
   "cell_type": "markdown",
   "metadata": {},
   "source": [
    "### 1.2.5.2 Projection to Transaction Co-Fact Graph <a name='1_2_5_2'></a>"
   ]
  },
  {
   "cell_type": "code",
   "execution_count": null,
   "metadata": {},
   "outputs": [],
   "source": []
  },
  {
   "cell_type": "markdown",
   "metadata": {},
   "source": [
    "### 1.2.5.3 Projection to Fact Co-Transaction Graph <a name='1_2_5_3'></a>"
   ]
  },
  {
   "cell_type": "code",
   "execution_count": null,
   "metadata": {},
   "outputs": [],
   "source": []
  },
  {
   "cell_type": "markdown",
   "metadata": {},
   "source": [
    "### 1.2.5.4 Duality of Groups and Link Communities <a name='1_2_5_4'></a>"
   ]
  },
  {
   "cell_type": "code",
   "execution_count": null,
   "metadata": {},
   "outputs": [],
   "source": [
    "transactions_groups = pd.read_csv('../data/bipartite_transactions_groups.txt', header='infer', delimiter='\\t', encoding='utf-8')\n",
    "transactions_groups"
   ]
  },
  {
   "cell_type": "code",
   "execution_count": null,
   "metadata": {},
   "outputs": [],
   "source": [
    "groups_colors = {0: '#e41a1c', 1: '#377eb8'}"
   ]
  },
  {
   "cell_type": "markdown",
   "metadata": {},
   "source": [
    "#### Transaction Co-Fact Graph"
   ]
  },
  {
   "cell_type": "code",
   "execution_count": null,
   "metadata": {},
   "outputs": [],
   "source": [
    "def plot_transaction_graph(selections, transactions_groups, groups_colors):\n",
    "    from networkx.algorithms import bipartite\n",
    "    %matplotlib inline\n",
    "    import matplotlib.pyplot as plt\n",
    "    #colors = ['#e41a1c', '#377eb8', '#4daf4a', '#984ea3', '#ff7f00', '#ffff33', '#a65628', '#f781bf', '#999999']\n",
    "    # create and populate bipartite selection graph\n",
    "    B = nx.Graph()\n",
    "    B.add_edges_from(selections.values)\n",
    "    # set modes of graph\n",
    "    transactions, facts = set(selections['transaction']), set(selections['fact'])\n",
    "    # project selection graph to transaction graph\n",
    "    I = bipartite.weighted_projected_graph(B, transactions)\n",
    "    # assign node color based on group affiliation\n",
    "    for i in range(0, len(transactions_groups)):\n",
    "        I.nodes[transactions_groups.iloc[i]['transaction']]['color'] = groups_colors[transactions_groups.iloc[i]['group']]\n",
    "    # store node color in list\n",
    "    I_node_color = list(nx.get_node_attributes(I, 'color').values())\n",
    "    # store edge width in list\n",
    "    I_width = list(nx.get_edge_attributes(I, 'weight').values())\n",
    "    # plot transaction graph\n",
    "    plt.figure(figsize=(2, 2))\n",
    "    nx.draw_circular(I, with_labels=True, node_color=I_node_color, width=I_width)"
   ]
  },
  {
   "cell_type": "code",
   "execution_count": null,
   "metadata": {},
   "outputs": [],
   "source": [
    "plot_transaction_graph(selections, transactions_groups, groups_colors)"
   ]
  },
  {
   "cell_type": "markdown",
   "metadata": {},
   "source": [
    "#### Fact Co-Transaction Graph"
   ]
  },
  {
   "cell_type": "code",
   "execution_count": null,
   "metadata": {},
   "outputs": [],
   "source": [
    "def plot_fact_graph(selections, transactions_groups, groups_colors):\n",
    "    from networkx.algorithms import bipartite\n",
    "    %matplotlib inline\n",
    "    import matplotlib.pyplot as plt\n",
    "    # create and populate bipartite selection graph\n",
    "    B = nx.Graph()\n",
    "    B.add_edges_from(selections.values)\n",
    "    # set modes of graph\n",
    "    transactions, facts = set(selections['transaction']), set(selections['fact'])\n",
    "    # project selection graph to transaction graph\n",
    "    H = bipartite.weighted_projected_graph(B, facts)\n",
    "    # store group transactions in a list and build color palette\n",
    "    transactions_group = []\n",
    "    colors = []\n",
    "    for i in transactions_groups['group'].drop_duplicates():\n",
    "        transactions_group.append(set(transactions_groups[transactions_groups['group'] == i]['transaction']))\n",
    "        colors.append(groups_colors[i])\n",
    "    # store group selections in a list using group transactions\n",
    "    selections_group = []\n",
    "    for i in range(0, len(transactions_group)):\n",
    "        selections_group.append(selections[selections['transaction'].isin(transactions_group[i])])\n",
    "    # store group bipartite graphs in a list using group selections\n",
    "    B_group = []\n",
    "    for i in range(0, len(transactions_group)):\n",
    "        B = nx.Graph()\n",
    "        B.add_edges_from(selections_group[i].values)\n",
    "        B_group.append(B)\n",
    "    # store group facts in a list using group selections\n",
    "    facts_group = []\n",
    "    for i in range(0, len(transactions_group)):\n",
    "        facts_group.append(set(selections_group[i]['fact']))\n",
    "    # store group fact graphs in a list using group bipartite graphs and group facts\n",
    "    H_group = []\n",
    "    for i in range(0, len(transactions_group)):\n",
    "        H_group.append(bipartite.weighted_projected_graph(B_group[i], facts_group[i]))\n",
    "    # store group edge widths in a list using group fact graphs\n",
    "    H_width_group = []\n",
    "    for i in range(0, len(transactions_group)):\n",
    "        H_width_group.append(list(nx.get_edge_attributes(H_group[i], 'weight').values()))\n",
    "    # store nodes and group edges in a multigraph\n",
    "    H_multi = nx.MultiGraph()\n",
    "    H_multi.add_nodes_from(H.nodes)\n",
    "    for i in range(0, len(transactions_group)):\n",
    "        H_multi.add_edges_from(H_group[i].edges(data=True), color=colors[i])\n",
    "    # store edge colors in list\n",
    "    H_multi_edge_color = list(nx.get_edge_attributes(H_multi, 'color').values())\n",
    "    # store edge widths in list\n",
    "    H_multi_width = list(nx.get_edge_attributes(H_multi, 'weight').values())\n",
    "    # plot fact graph\n",
    "    plt.figure(figsize=(2, 2))\n",
    "    nx.draw_circular(H_multi, with_labels=True, node_color='white', edge_color=H_multi_edge_color, width=H_multi_width)"
   ]
  },
  {
   "cell_type": "code",
   "execution_count": null,
   "metadata": {},
   "outputs": [],
   "source": [
    "plot_fact_graph(selections, transactions_groups, groups_colors)"
   ]
  }
 ],
 "metadata": {
  "kernelspec": {
   "display_name": "Python 3",
   "language": "python",
   "name": "python3"
  },
  "language_info": {
   "codemirror_mode": {
    "name": "ipython",
    "version": 3
   },
   "file_extension": ".py",
   "mimetype": "text/x-python",
   "name": "python",
   "nbconvert_exporter": "python",
   "pygments_lexer": "ipython3",
   "version": "3.7.3"
  }
 },
 "nbformat": 4,
 "nbformat_minor": 2
}
