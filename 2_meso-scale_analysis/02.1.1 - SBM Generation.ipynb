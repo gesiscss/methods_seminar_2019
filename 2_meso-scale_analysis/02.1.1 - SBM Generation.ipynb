{
 "cells": [
  {
   "cell_type": "markdown",
   "metadata": {},
   "source": [
    "**39\\. Methodenseminar - Big Data Module II: Introduction to Social Network Science with Python**\n",
    "\n",
    "# A tutorial on stochastic block modelling: SBM generation\n",
    "\n",
    "**Author**: <a href='https://marcosoliveira.info/'>Marcos Oliveira</a>, GESIS - Leibniz Institute for the Social Sciences\n",
    "\n",
    "**Version**: 29 May 2019\n",
    "\n",
    "**Description**: This is an introduction to stochastic block modelling in Python using the <code>graph-tool</code> library. \n",
    "    \n",
    "## Imports and Settings"
   ]
  },
  {
   "cell_type": "code",
   "execution_count": null,
   "metadata": {},
   "outputs": [],
   "source": [
    "import matplotlib.pyplot as plt\n",
    "import numpy as np"
   ]
  },
  {
   "cell_type": "markdown",
   "metadata": {},
   "source": [
    "<div class=\"alert alert-danger\">\n",
    "    You need the <code>graph_tool</code> library in your machine. Sometimes the installation is challenging. This <a href=https://git.skewed.de/count0/graph-tool/wikis/installation-instructions>page</a> might help you.\n",
    "</div>"
   ]
  },
  {
   "cell_type": "code",
   "execution_count": null,
   "metadata": {},
   "outputs": [],
   "source": [
    "import graph_tool.all as gt\n",
    "print(gt.__version__)"
   ]
  },
  {
   "cell_type": "markdown",
   "metadata": {},
   "source": [
    "# The Stochastic Block Model"
   ]
  },
  {
   "cell_type": "markdown",
   "metadata": {},
   "source": [
    "### Generating networks with assortative mixing."
   ]
  },
  {
   "cell_type": "markdown",
   "metadata": {},
   "source": [
    "This function will help us to create an assortative propensity matrix:"
   ]
  },
  {
   "cell_type": "code",
   "execution_count": null,
   "metadata": {},
   "outputs": [],
   "source": [
    "def generate_assortative_block_mix(nodes, groups, p_ii, p_ij):\n",
    "    group_size = nodes / groups + nodes % groups\n",
    "    membership = np.concatenate([np.repeat(g, group_size) for g in range(groups)])[:nodes]\n",
    "    propensity = np.zeros([groups, groups])\n",
    "    for i in range(groups):\n",
    "        for j in range(groups):\n",
    "            if i == j:\n",
    "                propensity[i, j] = p_ii * group_size * group_size \n",
    "            else:\n",
    "                propensity[i, j] = p_ij * group_size * group_size / 2    \n",
    "    return membership, propensity"
   ]
  },
  {
   "cell_type": "markdown",
   "metadata": {},
   "source": [
    "We just need to give the number of nodes/groups in the graph and the probabilities to nodes of same (and different) group connect to each other:"
   ]
  },
  {
   "cell_type": "code",
   "execution_count": null,
   "metadata": {},
   "outputs": [],
   "source": [
    "nodes, groups = \n",
    "p_ii, p_ij = \n",
    "group_memberships, propensity = generate_assortative_block_mix(nodes, groups, p_ii, p_ij)"
   ]
  },
  {
   "cell_type": "code",
   "execution_count": null,
   "metadata": {},
   "outputs": [],
   "source": [
    "propensity"
   ]
  },
  {
   "cell_type": "code",
   "execution_count": null,
   "metadata": {},
   "outputs": [],
   "source": [
    "cax = plt.axes().matshow(propensity, cmap=plt.cm.inferno_r)\n",
    "plt.colorbar(cax);"
   ]
  },
  {
   "cell_type": "markdown",
   "metadata": {},
   "source": [
    "Most of the action happens in the <code>gt.<b>generate_sbm</b>()</code> function. \n",
    "\n",
    "<div class=\"alert alert-warning\">\n",
    "    Let's see the signature of the <code>generate_sbm</code> method:\n",
    "    \n",
    "- graph_tool.generation.<b>generate_sbm</b>(b, probs, out_degs=None, in_degs=None, directed=False, micro_ers=False, micro_degs=False)\n",
    "\n",
    "Let's focus on <code>b</code> and <code>probs</code>:\n",
    "\n",
    "- <code>b</code> is the group membership of each node; it is an iterable containing the label of each node. \n",
    "- <code>probs</code> is the matrix of propensity between groups. <code>probs[r,s]</code> is the average number of edges between groups r and s. \n",
    "</div>"
   ]
  },
  {
   "cell_type": "code",
   "execution_count": null,
   "metadata": {},
   "outputs": [],
   "source": [
    "g = "
   ]
  },
  {
   "cell_type": "code",
   "execution_count": null,
   "metadata": {},
   "outputs": [],
   "source": [
    "adjacency = "
   ]
  },
  {
   "cell_type": "code",
   "execution_count": null,
   "metadata": {},
   "outputs": [],
   "source": [
    "cax = plt.axes().matshow(adjacency.todense(), cmap=plt.cm.inferno_r)\n",
    "plt.colorbar(cax);"
   ]
  },
  {
   "cell_type": "markdown",
   "metadata": {},
   "source": [
    "We can remove self loops with the <code>gt.<b>remove_self_loops</b>(g)</code> function."
   ]
  },
  {
   "cell_type": "code",
   "execution_count": 1,
   "metadata": {},
   "outputs": [
    {
     "ename": "NameError",
     "evalue": "name 'gt' is not defined",
     "output_type": "error",
     "traceback": [
      "\u001b[0;31m---------------------------------------------------------------------------\u001b[0m",
      "\u001b[0;31mNameError\u001b[0m                                 Traceback (most recent call last)",
      "\u001b[0;32m<ipython-input-1-9838b35b3be1>\u001b[0m in \u001b[0;36m<module>\u001b[0;34m\u001b[0m\n\u001b[0;32m----> 1\u001b[0;31m \u001b[0mgt\u001b[0m\u001b[0;34m.\u001b[0m\u001b[0mremove_self_loops\u001b[0m\u001b[0;34m(\u001b[0m\u001b[0mg\u001b[0m\u001b[0;34m)\u001b[0m\u001b[0;34m\u001b[0m\u001b[0;34m\u001b[0m\u001b[0m\n\u001b[0m",
      "\u001b[0;31mNameError\u001b[0m: name 'gt' is not defined"
     ]
    }
   ],
   "source": [
    "gt.remove_self_loops(g)"
   ]
  },
  {
   "cell_type": "code",
   "execution_count": null,
   "metadata": {},
   "outputs": [],
   "source": [
    "pos = gt.sfdp_layout(g)\n",
    "gt.graph_draw(g, output_size=(250, 250));"
   ]
  },
  {
   "cell_type": "code",
   "execution_count": null,
   "metadata": {},
   "outputs": [],
   "source": [
    "def node_colors(g, group_memberships):\n",
    "    # color of the nodes\n",
    "    colors = ['#a6cee3','#1f78b4','#b2df8a','#33a02c','#fb9a99','#e31a1c','#fdbf6f','#ff7f00','#cab2d6']\n",
    "    to_rgb = lambda h: list(int(h[i:i+2], 16)/255. for i in (0, 2, 4))\n",
    "    vertex_color = g.new_vertex_property('vector<double>')\n",
    "    for m, v in zip(group_memberships, g.vertices()):\n",
    "        vertex_color[g.vertex(v)] = tuple(to_rgb(colors[m][1:]) + [255.0])\n",
    "    return vertex_color"
   ]
  },
  {
   "cell_type": "code",
   "execution_count": null,
   "metadata": {},
   "outputs": [],
   "source": [
    "vertex_color = node_colors(g, group_memberships)\n",
    "pos = gt.sfdp_layout(g)\n",
    "gt.graph_draw(g, vertex_fill_color=vertex_color, vertex_color=vertex_color, output_size=(250, 250));"
   ]
  },
  {
   "cell_type": "markdown",
   "metadata": {},
   "source": [
    "We can also create blocks of different size:"
   ]
  },
  {
   "cell_type": "code",
   "execution_count": null,
   "metadata": {},
   "outputs": [],
   "source": [
    "def generate_assortative_block_mix(group_sizes, p_ii, p_ij):\n",
    "    groups = len(group_sizes)\n",
    "    membership = np.concatenate([\n",
    "        np.repeat(i, g) for (i, g) in zip(range(groups), group_sizes)\n",
    "    ])\n",
    "    propensity = np.zeros([groups, groups])\n",
    "    for i in range(groups):\n",
    "        for j in range(groups):\n",
    "            if i == j:\n",
    "                propensity[i, j] = p_ii * group_sizes[i] * group_sizes[j] \n",
    "            else:\n",
    "                propensity[i, j] = p_ij * group_sizes[i] * group_sizes[j] / 2.    \n",
    "    return membership, propensity"
   ]
  },
  {
   "cell_type": "code",
   "execution_count": null,
   "metadata": {},
   "outputs": [],
   "source": [
    "group_sizes = []\n",
    "group_memberships, propensity = generate_assortative_block_mix(group_sizes, 0.5, 0.01)"
   ]
  },
  {
   "cell_type": "code",
   "execution_count": null,
   "metadata": {},
   "outputs": [],
   "source": [
    "propensity"
   ]
  },
  {
   "cell_type": "code",
   "execution_count": null,
   "metadata": {},
   "outputs": [],
   "source": [
    "cax = plt.axes().matshow(propensity, cmap=plt.cm.inferno_r)\n",
    "plt.colorbar(cax);"
   ]
  },
  {
   "cell_type": "markdown",
   "metadata": {},
   "source": [
    "Then we generate a network:"
   ]
  },
  {
   "cell_type": "code",
   "execution_count": null,
   "metadata": {},
   "outputs": [],
   "source": [
    "g = gt.generate_sbm(group_memberships, propensity)"
   ]
  },
  {
   "cell_type": "code",
   "execution_count": null,
   "metadata": {},
   "outputs": [],
   "source": [
    "adjacency = gt.adjacency(g)\n",
    "cax = plt.axes().matshow(adjacency.todense(), cmap=plt.cm.inferno_r)\n",
    "plt.colorbar(cax);"
   ]
  },
  {
   "cell_type": "code",
   "execution_count": null,
   "metadata": {},
   "outputs": [],
   "source": [
    "vertex_color = node_colors(g, group_memberships)\n",
    "pos = gt.sfdp_layout(g)\n",
    "gt.graph_draw(g, vertex_fill_color=vertex_color, vertex_color=vertex_color, output_size=(250, 250));"
   ]
  },
  {
   "cell_type": "markdown",
   "metadata": {},
   "source": [
    "### Generating networks with disassortative mixing."
   ]
  },
  {
   "cell_type": "markdown",
   "metadata": {},
   "source": [
    "The same old but with different probabilities:"
   ]
  },
  {
   "cell_type": "code",
   "execution_count": null,
   "metadata": {},
   "outputs": [],
   "source": [
    "group_sizes = \n",
    "group_memberships, propensity = generate_assortative_block_mix(group_sizes,"
   ]
  },
  {
   "cell_type": "code",
   "execution_count": null,
   "metadata": {},
   "outputs": [],
   "source": [
    "propensity"
   ]
  },
  {
   "cell_type": "code",
   "execution_count": null,
   "metadata": {},
   "outputs": [],
   "source": [
    "cax = plt.axes().matshow(propensity, cmap=plt.cm.inferno_r)\n",
    "plt.colorbar(cax);"
   ]
  },
  {
   "cell_type": "code",
   "execution_count": null,
   "metadata": {},
   "outputs": [],
   "source": [
    "g = gt.generate_sbm(group_memberships, propensity)"
   ]
  },
  {
   "cell_type": "code",
   "execution_count": null,
   "metadata": {},
   "outputs": [],
   "source": [
    "adjacency = gt.adjacency(g)\n",
    "cax = plt.axes().matshow(adjacency.todense(), cmap=plt.cm.inferno_r)\n",
    "plt.colorbar(cax);"
   ]
  },
  {
   "cell_type": "code",
   "execution_count": null,
   "metadata": {},
   "outputs": [],
   "source": [
    "vertex_color = node_colors(g, group_memberships)\n",
    "pos = gt.sfdp_layout(g)\n",
    "gt.graph_draw(g, vertex_fill_color=vertex_color, vertex_color=vertex_color, output_size=(250, 250));"
   ]
  },
  {
   "cell_type": "markdown",
   "metadata": {},
   "source": [
    "An extreme case of heterophily:"
   ]
  },
  {
   "cell_type": "code",
   "execution_count": null,
   "metadata": {},
   "outputs": [],
   "source": [
    "group_sizes = \n",
    "group_memberships, propensity = generate_assortative_block_mix(group_sizes, \n",
    "g = gt.generate_sbm(group_memberships, propensity)"
   ]
  },
  {
   "cell_type": "code",
   "execution_count": null,
   "metadata": {},
   "outputs": [],
   "source": [
    "vertex_color = node_colors(g, group_memberships)\n",
    "pos = gt.sfdp_layout(g)\n",
    "gt.graph_draw(g, vertex_fill_color=vertex_color, vertex_color=vertex_color, output_size=(250, 250));"
   ]
  },
  {
   "cell_type": "markdown",
   "metadata": {},
   "source": [
    "### Generating networks with core-periphery structure"
   ]
  },
  {
   "cell_type": "code",
   "execution_count": null,
   "metadata": {},
   "outputs": [],
   "source": [
    "probabilities = np.array([[.0, .0, .0],\n",
    "                          [.0, .0, .0],\n",
    "                          [.0, .0, .0]])"
   ]
  },
  {
   "cell_type": "code",
   "execution_count": null,
   "metadata": {},
   "outputs": [],
   "source": [
    "group_sizes = [25, 50, 75]\n",
    "group_memberships, _ = generate_assortative_block_mix(group_sizes, 0.5, 0.01)"
   ]
  },
  {
   "cell_type": "code",
   "execution_count": null,
   "metadata": {},
   "outputs": [],
   "source": [
    "group_memberships"
   ]
  },
  {
   "cell_type": "code",
   "execution_count": null,
   "metadata": {},
   "outputs": [],
   "source": [
    "propensity = np.zeros_like(probabilities)\n",
    "for i in range(len(group_sizes)):\n",
    "    for j in range(len(group_sizes)):\n",
    "        propensity[i][j] = probabilities[i][j]*group_sizes[i]*group_sizes[j]\n",
    "        if i == j:\n",
    "            propensity[i][j] /= 2.0"
   ]
  },
  {
   "cell_type": "code",
   "execution_count": null,
   "metadata": {},
   "outputs": [],
   "source": [
    "cax = plt.axes().matshow(probabilities, cmap=plt.cm.inferno_r)\n",
    "plt.colorbar(cax);"
   ]
  },
  {
   "cell_type": "code",
   "execution_count": null,
   "metadata": {
    "scrolled": true
   },
   "outputs": [],
   "source": [
    "cax = plt.axes().matshow(propensity, cmap=plt.cm.inferno_r)\n",
    "plt.colorbar(cax);"
   ]
  },
  {
   "cell_type": "markdown",
   "metadata": {},
   "source": [
    "<div class=\"alert alert-info\">\n",
    "Did you notice that the two matrices above are different? Can you see why?\n",
    "</div>"
   ]
  },
  {
   "cell_type": "code",
   "execution_count": null,
   "metadata": {},
   "outputs": [],
   "source": [
    "g = gt.generate_sbm(group_memberships, propensity)"
   ]
  },
  {
   "cell_type": "markdown",
   "metadata": {},
   "source": [
    "Let's plot it:"
   ]
  },
  {
   "cell_type": "code",
   "execution_count": null,
   "metadata": {},
   "outputs": [],
   "source": [
    "vertex_color = node_colors(g, group_memberships)\n",
    "pos = gt.sfdp_layout(g)\n",
    "gt.graph_draw(g, pos=pos, vertex_fill_color=vertex_color, vertex_color=vertex_color, output_size=(300, 300));"
   ]
  },
  {
   "cell_type": "markdown",
   "metadata": {},
   "source": [
    " "
   ]
  },
  {
   "cell_type": "markdown",
   "metadata": {},
   "source": [
    "<div class=\"alert alert-info\">\n",
    "What networks are like this?\n",
    "</div>"
   ]
  }
 ],
 "metadata": {
  "kernelspec": {
   "display_name": "Python 3",
   "language": "python",
   "name": "python3"
  },
  "language_info": {
   "codemirror_mode": {
    "name": "ipython",
    "version": 3
   },
   "file_extension": ".py",
   "mimetype": "text/x-python",
   "name": "python",
   "nbconvert_exporter": "python",
   "pygments_lexer": "ipython3",
   "version": "3.7.4"
  }
 },
 "nbformat": 4,
 "nbformat_minor": 2
}
