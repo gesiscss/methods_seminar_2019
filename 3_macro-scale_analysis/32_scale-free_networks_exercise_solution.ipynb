{
 "cells": [
  {
   "cell_type": "markdown",
   "metadata": {},
   "source": [
    "### 39. Methodenseminar\n",
    "## Big Data Module II: Introduction to Social Network Science with Python\n",
    "# 3.2 Scale-Free Networks (Exercise)\n",
    "**Author**: <a href='https://www.gesis.org/person/haiko.lietz'>Haiko Lietz</a>, GESIS - Leibniz Institute for the Social Sciences\n",
    "\n",
    "**Date**: 17 July 2019\n",
    "\n",
    "**Library versions**: ``networkx`` 2.2 ([documentation](https://networkx.github.io/documentation/))"
   ]
  },
  {
   "cell_type": "markdown",
   "metadata": {},
   "source": [
    "***"
   ]
  },
  {
   "cell_type": "markdown",
   "metadata": {},
   "source": [
    "## Exercise 1\n",
    "In the demo, in section 3.2.4.1, we found preferential attachment to be linear for how citations in 2007-2009 predict citations in 1020-2012.\n",
    "#### How does preferential attachment evolve over time?\n",
    "In other words, does the Matthew Effect increase over time? Compare these cultural dynamics to the emergence of the Small-World social (co-authorship) network."
   ]
  },
  {
   "cell_type": "code",
   "execution_count": 1,
   "metadata": {},
   "outputs": [],
   "source": [
    "import pandas as pd\n",
    "import numpy as np"
   ]
  },
  {
   "cell_type": "code",
   "execution_count": 2,
   "metadata": {},
   "outputs": [
    {
     "data": {
      "text/html": [
       "<div>\n",
       "<style scoped>\n",
       "    .dataframe tbody tr th:only-of-type {\n",
       "        vertical-align: middle;\n",
       "    }\n",
       "\n",
       "    .dataframe tbody tr th {\n",
       "        vertical-align: top;\n",
       "    }\n",
       "\n",
       "    .dataframe thead th {\n",
       "        text-align: right;\n",
       "    }\n",
       "</style>\n",
       "<table border=\"1\" class=\"dataframe\">\n",
       "  <thead>\n",
       "    <tr style=\"text-align: right;\">\n",
       "      <th></th>\n",
       "      <th>time</th>\n",
       "      <th>reference</th>\n",
       "      <th>citations</th>\n",
       "    </tr>\n",
       "  </thead>\n",
       "  <tbody>\n",
       "    <tr>\n",
       "      <th>0</th>\n",
       "      <td>1925</td>\n",
       "      <td>BENTHAM_1869_COMMUNICATION</td>\n",
       "      <td>1</td>\n",
       "    </tr>\n",
       "    <tr>\n",
       "      <th>1</th>\n",
       "      <td>1925</td>\n",
       "      <td>FISHER_1922_J_87</td>\n",
       "      <td>1</td>\n",
       "    </tr>\n",
       "    <tr>\n",
       "      <th>2</th>\n",
       "      <td>1925</td>\n",
       "      <td>FISHER_1992_P_309</td>\n",
       "      <td>1</td>\n",
       "    </tr>\n",
       "    <tr>\n",
       "      <th>3</th>\n",
       "      <td>1925</td>\n",
       "      <td>HOLMES_1913_AGE</td>\n",
       "      <td>1</td>\n",
       "    </tr>\n",
       "    <tr>\n",
       "      <th>4</th>\n",
       "      <td>1928</td>\n",
       "      <td>FOCK_1924_M_161</td>\n",
       "      <td>1</td>\n",
       "    </tr>\n",
       "  </tbody>\n",
       "</table>\n",
       "</div>"
      ],
      "text/plain": [
       "   time                   reference  citations\n",
       "0  1925  BENTHAM_1869_COMMUNICATION          1\n",
       "1  1925            FISHER_1922_J_87          1\n",
       "2  1925           FISHER_1992_P_309          1\n",
       "3  1925             HOLMES_1913_AGE          1\n",
       "4  1928             FOCK_1924_M_161          1"
      ]
     },
     "execution_count": 2,
     "metadata": {},
     "output_type": "execute_result"
    }
   ],
   "source": [
    "citations = pd.read_csv('../data/sns/citations.txt', header='infer', delimiter='\\t', encoding='utf-8')\n",
    "references = pd.read_csv('../data/sns/references.txt', header='infer', delimiter='\\t', encoding='utf-8')\n",
    "cited_references = pd.merge(left=citations, right=references, on='reference_id')\n",
    "publications = pd.read_csv('../data/sns/publications.txt', header='infer', delimiter='\\t', encoding='utf-8')\n",
    "publications['time'] = (3*np.floor(publications['time']/3)+2).astype('int')\n",
    "cited_references_time = pd.merge(left=cited_references, right=publications[['publication_id', 'time']], on='publication_id')\n",
    "cited_references_time = cited_references_time.groupby(['time', 'reference']).size().reset_index(name='citations')\n",
    "cited_references_time.head()"
   ]
  },
  {
   "cell_type": "code",
   "execution_count": 3,
   "metadata": {},
   "outputs": [],
   "source": [
    "years = list(cited_references_time['time'].drop_duplicates())"
   ]
  },
  {
   "cell_type": "code",
   "execution_count": 4,
   "metadata": {},
   "outputs": [],
   "source": [
    "def ols_reg(a):\n",
    "    # log and reshape data\n",
    "    x_log10 = np.log10(a[:, 0])\n",
    "    x_log10_reshape = x_log10.reshape(len(x_log10), 1)\n",
    "    y_log10 = np.log10(a[:, 1])\n",
    "    y_log10_reshape = y_log10.reshape(len(y_log10), 1)\n",
    "    # fit linear model in log space\n",
    "    import sklearn.linear_model as sk_lm\n",
    "    reg = sk_lm.LinearRegression()\n",
    "    reg.fit(x_log10_reshape, y_log10_reshape)\n",
    "    y_log10_reshape_predict = reg.predict(x_log10_reshape)\n",
    "    # create output\n",
    "    x_min = min(a[:, 0])\n",
    "    x_max = max(a[:, 0])\n",
    "    d = 10**reg.intercept_[0]\n",
    "    beta = reg.coef_[0][0]\n",
    "    from sklearn.metrics import r2_score\n",
    "    r2 = r2_score(y_log10_reshape, y_log10_reshape_predict)\n",
    "    a_fit = np.array([[x_min, d*x_min**beta], [x_max, d*x_max**beta]])\n",
    "    return beta, r2, a_fit"
   ]
  },
  {
   "cell_type": "code",
   "execution_count": 5,
   "metadata": {},
   "outputs": [
    {
     "data": {
      "text/plain": [
       "28"
      ]
     },
     "execution_count": 5,
     "metadata": {},
     "output_type": "execute_result"
    }
   ],
   "source": [
    "len(years)"
   ]
  },
  {
   "cell_type": "code",
   "execution_count": 6,
   "metadata": {},
   "outputs": [],
   "source": [
    "betas = []\n",
    "for t in range(11, len(years)):\n",
    "    cited_references_t_0 = cited_references_time[cited_references_time['time'] == years[t-1]]\n",
    "    cited_references_t = cited_references_time[cited_references_time['time'] == years[t]]\n",
    "    preferential_attachment = pd.merge(left=cited_references_t_0, right=cited_references_t, on='reference')\n",
    "    preferential_attachment.columns = ['time_0', 'reference', 'citations_0', 'time', 'citations']\n",
    "    preferential_attachment = preferential_attachment[['time_0', 'time', 'reference', 'citations_0', 'citations']]\n",
    "    a = np.column_stack((preferential_attachment['citations_0'], preferential_attachment['citations']))\n",
    "    beta, r2, a_fit = ols_reg(a)\n",
    "    betas.append(beta)"
   ]
  },
  {
   "cell_type": "code",
   "execution_count": 7,
   "metadata": {},
   "outputs": [],
   "source": [
    "%matplotlib inline\n",
    "import matplotlib.pyplot as plt"
   ]
  },
  {
   "cell_type": "code",
   "execution_count": 8,
   "metadata": {},
   "outputs": [
    {
     "data": {
      "text/plain": [
       "[<matplotlib.lines.Line2D at 0x16de6ef0>]"
      ]
     },
     "execution_count": 8,
     "metadata": {},
     "output_type": "execute_result"
    },
    {
     "data": {
      "image/png": "[encoded data removed]",
      "text/plain": [
       "<Figure size 432x288 with 1 Axes>"
      ]
     },
     "metadata": {
      "needs_background": "light"
     },
     "output_type": "display_data"
    }
   ],
   "source": [
    "plt.plot(years[11:], betas)"
   ]
  },
  {
   "cell_type": "markdown",
   "metadata": {},
   "source": [
    "#### Emergence of the co-authorship Small World for time slices\n",
    "<img src='images/social_emergence.png'>\n",
    "\n",
    "#### Emergence of the co-authorship Small World for cumulative time increases\n",
    "<img src='images/social_emergence_cum.png'>"
   ]
  },
  {
   "cell_type": "markdown",
   "metadata": {},
   "source": [
    "## Exercise 2\n",
    "Four distributions can be extracted from the BTW13 dataset of political tweets:\n",
    "- number of followee selections\n",
    "- number of hashtag selections\n",
    "- number of mentionee selections\n",
    "- number of retweetee selections\n",
    "\n",
    "#### What functions best fit these distributions? How plausible are power law fits?\n",
    "Be careful with setting lower cutoffs ``xmin`` because they don't make sense if the best fit is not a power law. Plot the distribution first to decide what ``xmin`` to set. When comparing functions, disregard the ``lognormal`` (not the ``lognormal_positive``) as the lognormal can have a negative mean. Think about possible underlying mechanisms and what the patterns mean for the Twitter users."
   ]
  },
  {
   "cell_type": "code",
   "execution_count": 9,
   "metadata": {},
   "outputs": [],
   "source": [
    "import powerlaw as pl"
   ]
  },
  {
   "cell_type": "code",
   "execution_count": 10,
   "metadata": {},
   "outputs": [],
   "source": [
    "def plot_pdf(l):\n",
    "    fit = pl.Fit(l, discrete=True, xmin=1)\n",
    "    fit.plot_pdf(marker='o', ls='', linear_bins=True)\n",
    "    fit.plot_pdf(marker='o', ls='', linear_bins=False)"
   ]
  },
  {
   "cell_type": "code",
   "execution_count": 11,
   "metadata": {},
   "outputs": [],
   "source": [
    "def fit_power_law(l, xmin=None):\n",
    "    fit = pl.Fit(l, discrete=True, xmin=xmin)\n",
    "    fit.plot_pdf(marker='o', ls='', linear_bins=True)\n",
    "    fit.plot_pdf(marker='o', ls='')\n",
    "    #fit.exponential.plot_pdf(label='Exponential')\n",
    "    fit.stretched_exponential.plot_pdf(label='Stretched Exponential')\n",
    "    fit.lognormal_positive.plot_pdf(label='Lognormal')\n",
    "    fit.power_law.plot_pdf(label='Power Law')\n",
    "    fit.truncated_power_law.plot_pdf(label='Truncated Power Law')\n",
    "    plt.legend()\n",
    "    return fit"
   ]
  },
  {
   "cell_type": "code",
   "execution_count": 12,
   "metadata": {},
   "outputs": [],
   "source": [
    "def compare_functions(f):\n",
    "    function = ['exponential', 'stretched_exponential', 'lognormal', 'lognormal_positive', 'power_law', 'truncated_power_law']\n",
    "    from numpy import zeros\n",
    "    f_compare_R = zeros((6, 6), dtype=float)\n",
    "    f_compare_p_R = zeros((6, 6), dtype=float)\n",
    "    for i in range(0, 6):\n",
    "        for j in range(0, 6):\n",
    "            R, p_R = f.distribution_compare(function[i], function[j])\n",
    "            f_compare_R[i, j] = R\n",
    "            f_compare_p_R[i, j] = p_R\n",
    "    from pandas import DataFrame\n",
    "    return DataFrame(f_compare_R, index=function, columns=function), DataFrame(f_compare_p_R, index=function, columns=function)"
   ]
  },
  {
   "cell_type": "code",
   "execution_count": 13,
   "metadata": {},
   "outputs": [],
   "source": [
    "def p_value(f, sims=2500):\n",
    "    prob = f.n_tail/len(f.data_original)\n",
    "    body = [x for x in f.data_original if x < f.xmin]\n",
    "    l = []\n",
    "    from random import random, sample\n",
    "    from powerlaw import Fit, Power_Law\n",
    "    for i in range(0, sims):\n",
    "        x = []\n",
    "        for j in range(0, len(f.data_original)):\n",
    "            if random() <= prob:\n",
    "                x.append(int(Power_Law(discrete=True, xmin=f.xmin, parameters=[f.power_law.alpha]).generate_random(1)))\n",
    "            else:\n",
    "                x.append(sample(body, 1)[0])\n",
    "        x_fit = Fit(x, discrete=True).power_law\n",
    "        l.append(x_fit.KS() > f.power_law.KS())\n",
    "    p = sum(l)/sims\n",
    "    return p"
   ]
  },
  {
   "cell_type": "markdown",
   "metadata": {},
   "source": [
    "#### Following"
   ]
  },
  {
   "cell_type": "code",
   "execution_count": 14,
   "metadata": {},
   "outputs": [
    {
     "data": {
      "text/html": [
       "<div>\n",
       "<style scoped>\n",
       "    .dataframe tbody tr th:only-of-type {\n",
       "        vertical-align: middle;\n",
       "    }\n",
       "\n",
       "    .dataframe tbody tr th {\n",
       "        vertical-align: top;\n",
       "    }\n",
       "\n",
       "    .dataframe thead th {\n",
       "        text-align: right;\n",
       "    }\n",
       "</style>\n",
       "<table border=\"1\" class=\"dataframe\">\n",
       "  <thead>\n",
       "    <tr style=\"text-align: right;\">\n",
       "      <th></th>\n",
       "      <th>user_id_follower</th>\n",
       "      <th>user_id_followee</th>\n",
       "    </tr>\n",
       "  </thead>\n",
       "  <tbody>\n",
       "    <tr>\n",
       "      <th>0</th>\n",
       "      <td>0</td>\n",
       "      <td>3</td>\n",
       "    </tr>\n",
       "    <tr>\n",
       "      <th>1</th>\n",
       "      <td>0</td>\n",
       "      <td>17</td>\n",
       "    </tr>\n",
       "    <tr>\n",
       "      <th>2</th>\n",
       "      <td>0</td>\n",
       "      <td>20</td>\n",
       "    </tr>\n",
       "    <tr>\n",
       "      <th>3</th>\n",
       "      <td>0</td>\n",
       "      <td>41</td>\n",
       "    </tr>\n",
       "    <tr>\n",
       "      <th>4</th>\n",
       "      <td>0</td>\n",
       "      <td>59</td>\n",
       "    </tr>\n",
       "  </tbody>\n",
       "</table>\n",
       "</div>"
      ],
      "text/plain": [
       "   user_id_follower  user_id_followee\n",
       "0                 0                 3\n",
       "1                 0                17\n",
       "2                 0                20\n",
       "3                 0                41\n",
       "4                 0                59"
      ]
     },
     "execution_count": 14,
     "metadata": {},
     "output_type": "execute_result"
    }
   ],
   "source": [
    "follow = pd.read_csv('../data/btw13/follow.txt', header='infer', delimiter='\\t', encoding='utf-8')\n",
    "follow.head()"
   ]
  },
  {
   "cell_type": "code",
   "execution_count": 15,
   "metadata": {},
   "outputs": [],
   "source": [
    "number_of_followers = list(follow.groupby('user_id_followee').size())"
   ]
  },
  {
   "cell_type": "code",
   "execution_count": 16,
   "metadata": {},
   "outputs": [
    {
     "name": "stderr",
     "output_type": "stream",
     "text": [
      "C:\\Anaconda3\\lib\\site-packages\\powerlaw.py:700: RuntimeWarning: invalid value encountered in true_divide\n",
      "  (Theoretical_CDF * (1 - Theoretical_CDF))\n"
     ]
    },
    {
     "data": {
      "image/png": "[encoded data removed]",
      "text/plain": [
       "<Figure size 432x288 with 1 Axes>"
      ]
     },
     "metadata": {
      "needs_background": "light"
     },
     "output_type": "display_data"
    }
   ],
   "source": [
    "plot_pdf(number_of_followers)"
   ]
  },
  {
   "cell_type": "code",
   "execution_count": 17,
   "metadata": {},
   "outputs": [],
   "source": [
    "fit_follow = pl.Fit(number_of_followers, discrete=True, xmin=1)"
   ]
  },
  {
   "cell_type": "code",
   "execution_count": 18,
   "metadata": {},
   "outputs": [
    {
     "name": "stderr",
     "output_type": "stream",
     "text": [
      "Assuming nested distributions\n",
      "Assuming nested distributions\n",
      "Assuming nested distributions\n",
      "Assuming nested distributions\n",
      "Assuming nested distributions\n",
      "Assuming nested distributions\n",
      "Assuming nested distributions\n",
      "Assuming nested distributions\n",
      "Assuming nested distributions\n",
      "Assuming nested distributions\n",
      "Assuming nested distributions\n",
      "Assuming nested distributions\n"
     ]
    },
    {
     "data": {
      "text/plain": [
       "(                       exponential  stretched_exponential   lognormal  \\\n",
       " exponential               0.000000             -34.124561   27.542496   \n",
       " stretched_exponential    34.124561               0.000000   61.667057   \n",
       " lognormal               -27.542496             -61.667057    0.000000   \n",
       " lognormal_positive      -27.542496             -61.667057    0.000000   \n",
       " power_law              -510.209657            -544.334218 -482.667161   \n",
       " truncated_power_law    -144.630261            -178.754822 -117.087765   \n",
       " \n",
       "                        lognormal_positive   power_law  truncated_power_law  \n",
       " exponential                     27.542496  510.209657           144.630261  \n",
       " stretched_exponential           61.667057  544.334218           178.754822  \n",
       " lognormal                        0.000000  482.667161           117.087765  \n",
       " lognormal_positive               0.000000  482.667161           117.087765  \n",
       " power_law                     -482.667161    0.000000          -365.579396  \n",
       " truncated_power_law           -117.087765  365.579396             0.000000  ,\n",
       "                         exponential  stretched_exponential     lognormal  \\\n",
       " exponential            1.000000e+00           1.110223e-16  3.651701e-02   \n",
       " stretched_exponential  1.110223e-16           1.000000e+00  1.483271e-20   \n",
       " lognormal              3.651701e-02           1.483271e-20  1.000000e+00   \n",
       " lognormal_positive     3.651701e-02           1.483271e-20  1.000000e+00   \n",
       " power_law              1.030878e-49          7.557150e-100  6.569767e-83   \n",
       " truncated_power_law    8.598656e-08           9.582204e-23  9.439117e-11   \n",
       " \n",
       "                        lognormal_positive      power_law  truncated_power_law  \n",
       " exponential                  3.651701e-02   1.030878e-49         8.598656e-08  \n",
       " stretched_exponential        1.483271e-20  7.557150e-100         9.582204e-23  \n",
       " lognormal                    1.000000e+00   6.569767e-83         9.439117e-11  \n",
       " lognormal_positive           1.000000e+00   6.569767e-83         9.439117e-11  \n",
       " power_law                    6.569767e-83   1.000000e+00         0.000000e+00  \n",
       " truncated_power_law          9.439117e-11   0.000000e+00         1.000000e+00  )"
      ]
     },
     "execution_count": 18,
     "metadata": {},
     "output_type": "execute_result"
    }
   ],
   "source": [
    "compare_functions(fit_follow)"
   ]
  },
  {
   "cell_type": "code",
   "execution_count": 19,
   "metadata": {},
   "outputs": [
    {
     "name": "stderr",
     "output_type": "stream",
     "text": [
      "Calculating best minimal value for power law fit\n",
      "Calculating best minimal value for power law fit\n",
      "Calculating best minimal value for power law fit\n",
      "C:\\Anaconda3\\lib\\site-packages\\powerlaw.py:700: RuntimeWarning: divide by zero encountered in true_divide\n",
      "  (Theoretical_CDF * (1 - Theoretical_CDF))\n",
      "Calculating best minimal value for power law fit\n",
      "Calculating best minimal value for power law fit\n",
      "Calculating best minimal value for power law fit\n",
      "Calculating best minimal value for power law fit\n",
      "Calculating best minimal value for power law fit\n",
      "Calculating best minimal value for power law fit\n",
      "Calculating best minimal value for power law fit\n"
     ]
    },
    {
     "data": {
      "text/plain": [
       "0.0"
      ]
     },
     "execution_count": 19,
     "metadata": {},
     "output_type": "execute_result"
    }
   ],
   "source": [
    "p_value(fit_follow, sims=10)"
   ]
  },
  {
   "cell_type": "code",
   "execution_count": 20,
   "metadata": {},
   "outputs": [
    {
     "data": {
      "text/plain": [
       "<matplotlib.legend.Legend at 0x1808a4a8>"
      ]
     },
     "execution_count": 20,
     "metadata": {},
     "output_type": "execute_result"
    },
    {
     "data": {
      "image/png": "[encoded data removed]",
      "text/plain": [
       "<Figure size 432x288 with 1 Axes>"
      ]
     },
     "metadata": {
      "needs_background": "light"
     },
     "output_type": "display_data"
    }
   ],
   "source": [
    "fit_follow.plot_pdf(marker='o', ls='', linear_bins=False)\n",
    "fit_follow.stretched_exponential.plot_pdf(label='Stretched Exponential')\n",
    "plt.legend()"
   ]
  },
  {
   "cell_type": "markdown",
   "metadata": {},
   "source": [
    "No scaling regime (linear behavior on log-log plot) is visible. Therefore ``xmin=1``.\n",
    "\n",
    "The stretched exponential is always a better fit and the difference can be trusted.\n",
    "\n",
    "A power law fit is not plausible at all."
   ]
  },
  {
   "cell_type": "markdown",
   "metadata": {},
   "source": [
    "#### Tagging"
   ]
  },
  {
   "cell_type": "code",
   "execution_count": 21,
   "metadata": {},
   "outputs": [
    {
     "data": {
      "text/html": [
       "<div>\n",
       "<style scoped>\n",
       "    .dataframe tbody tr th:only-of-type {\n",
       "        vertical-align: middle;\n",
       "    }\n",
       "\n",
       "    .dataframe tbody tr th {\n",
       "        vertical-align: top;\n",
       "    }\n",
       "\n",
       "    .dataframe thead th {\n",
       "        text-align: right;\n",
       "    }\n",
       "</style>\n",
       "<table border=\"1\" class=\"dataframe\">\n",
       "  <thead>\n",
       "    <tr style=\"text-align: right;\">\n",
       "      <th></th>\n",
       "      <th>transaction_id</th>\n",
       "      <th>hashtag_id</th>\n",
       "    </tr>\n",
       "  </thead>\n",
       "  <tbody>\n",
       "    <tr>\n",
       "      <th>0</th>\n",
       "      <td>0</td>\n",
       "      <td>13587</td>\n",
       "    </tr>\n",
       "    <tr>\n",
       "      <th>1</th>\n",
       "      <td>1</td>\n",
       "      <td>22197</td>\n",
       "    </tr>\n",
       "    <tr>\n",
       "      <th>2</th>\n",
       "      <td>2</td>\n",
       "      <td>1231</td>\n",
       "    </tr>\n",
       "    <tr>\n",
       "      <th>3</th>\n",
       "      <td>2</td>\n",
       "      <td>15234</td>\n",
       "    </tr>\n",
       "    <tr>\n",
       "      <th>4</th>\n",
       "      <td>2</td>\n",
       "      <td>17076</td>\n",
       "    </tr>\n",
       "  </tbody>\n",
       "</table>\n",
       "</div>"
      ],
      "text/plain": [
       "   transaction_id  hashtag_id\n",
       "0               0       13587\n",
       "1               1       22197\n",
       "2               2        1231\n",
       "3               2       15234\n",
       "4               2       17076"
      ]
     },
     "execution_count": 21,
     "metadata": {},
     "output_type": "execute_result"
    }
   ],
   "source": [
    "tag = pd.read_csv('../data/btw13/tag.txt', header='infer', delimiter='\\t', encoding='utf-8')\n",
    "tag.head()"
   ]
  },
  {
   "cell_type": "code",
   "execution_count": 22,
   "metadata": {},
   "outputs": [],
   "source": [
    "number_of_tags = list(tag.groupby('hashtag_id').size())"
   ]
  },
  {
   "cell_type": "code",
   "execution_count": 23,
   "metadata": {},
   "outputs": [
    {
     "data": {
      "image/png": "[encoded data removed]",
      "text/plain": [
       "<Figure size 432x288 with 1 Axes>"
      ]
     },
     "metadata": {
      "needs_background": "light"
     },
     "output_type": "display_data"
    }
   ],
   "source": [
    "plot_pdf(number_of_tags)"
   ]
  },
  {
   "cell_type": "code",
   "execution_count": 24,
   "metadata": {},
   "outputs": [
    {
     "name": "stderr",
     "output_type": "stream",
     "text": [
      "Calculating best minimal value for power law fit\n"
     ]
    }
   ],
   "source": [
    "fit_tag = pl.Fit(number_of_tags, discrete=True, xmin=None)"
   ]
  },
  {
   "cell_type": "code",
   "execution_count": 25,
   "metadata": {},
   "outputs": [
    {
     "name": "stderr",
     "output_type": "stream",
     "text": [
      "Assuming nested distributions\n",
      "Assuming nested distributions\n",
      "Assuming nested distributions\n",
      "Assuming nested distributions\n",
      "Assuming nested distributions\n",
      "Assuming nested distributions\n",
      "Assuming nested distributions\n",
      "Assuming nested distributions\n",
      "Assuming nested distributions\n",
      "Assuming nested distributions\n",
      "Assuming nested distributions\n",
      "Assuming nested distributions\n"
     ]
    },
    {
     "data": {
      "text/plain": [
       "(                       exponential  stretched_exponential    lognormal  \\\n",
       " exponential               0.000000           -6648.578524 -6669.015453   \n",
       " stretched_exponential  6648.578524               0.000000   -20.436929   \n",
       " lognormal              6669.015453              20.436929     0.000000   \n",
       " lognormal_positive     6509.023098            -139.555425  -159.992354   \n",
       " power_law              6663.808380              15.229856    -5.207073   \n",
       " truncated_power_law    6668.064838              19.486314    -0.950615   \n",
       " \n",
       "                        lognormal_positive    power_law  truncated_power_law  \n",
       " exponential                  -6509.023098 -6663.808380         -6668.064838  \n",
       " stretched_exponential          139.555425   -15.229856           -19.486314  \n",
       " lognormal                      159.992354     5.207073             0.950615  \n",
       " lognormal_positive               0.000000  -154.785282          -159.041740  \n",
       " power_law                      154.785282     0.000000            -4.256458  \n",
       " truncated_power_law            159.041740     4.256458             0.000000  ,\n",
       "                         exponential  stretched_exponential     lognormal  \\\n",
       " exponential            1.000000e+00           0.000000e+00  4.819051e-15   \n",
       " stretched_exponential  0.000000e+00           1.000000e+00  3.482976e-03   \n",
       " lognormal              4.819051e-15           3.482976e-03  1.000000e+00   \n",
       " lognormal_positive     8.948633e-15           2.058347e-26  0.000000e+00   \n",
       " power_law              5.728478e-15           1.039080e-01  3.774864e-02   \n",
       " truncated_power_law    4.609295e-15           1.357579e-02  6.153644e-01   \n",
       " \n",
       "                        lognormal_positive     power_law  truncated_power_law  \n",
       " exponential                  8.948633e-15  5.728478e-15         4.609295e-15  \n",
       " stretched_exponential        2.058347e-26  1.039080e-01         1.357579e-02  \n",
       " lognormal                    0.000000e+00  3.774864e-02         6.153644e-01  \n",
       " lognormal_positive           1.000000e+00  4.093788e-12         3.335458e-14  \n",
       " power_law                    4.093788e-12  1.000000e+00         3.526346e-03  \n",
       " truncated_power_law          3.335458e-14  3.526346e-03         1.000000e+00  )"
      ]
     },
     "execution_count": 25,
     "metadata": {},
     "output_type": "execute_result"
    }
   ],
   "source": [
    "compare_functions(fit_tag)"
   ]
  },
  {
   "cell_type": "code",
   "execution_count": 26,
   "metadata": {},
   "outputs": [
    {
     "name": "stderr",
     "output_type": "stream",
     "text": [
      "Calculating best minimal value for power law fit\n",
      "Calculating best minimal value for power law fit\n",
      "Calculating best minimal value for power law fit\n",
      "Calculating best minimal value for power law fit\n",
      "Calculating best minimal value for power law fit\n",
      "Calculating best minimal value for power law fit\n",
      "Calculating best minimal value for power law fit\n",
      "Calculating best minimal value for power law fit\n",
      "Calculating best minimal value for power law fit\n",
      "Calculating best minimal value for power law fit\n"
     ]
    },
    {
     "data": {
      "text/plain": [
       "1.0"
      ]
     },
     "execution_count": 26,
     "metadata": {},
     "output_type": "execute_result"
    }
   ],
   "source": [
    "p_value(fit_tag, sims=10)"
   ]
  },
  {
   "cell_type": "code",
   "execution_count": 27,
   "metadata": {},
   "outputs": [
    {
     "data": {
      "text/plain": [
       "<matplotlib.legend.Legend at 0x17e59390>"
      ]
     },
     "execution_count": 27,
     "metadata": {},
     "output_type": "execute_result"
    },
    {
     "data": {
      "image/png": "[encoded data removed]",
      "text/plain": [
       "<Figure size 432x288 with 1 Axes>"
      ]
     },
     "metadata": {
      "needs_background": "light"
     },
     "output_type": "display_data"
    }
   ],
   "source": [
    "fit_tag.plot_pdf(marker='o', ls='', linear_bins=False)\n",
    "fit_tag.power_law.plot_pdf(label='Power Law')\n",
    "fit_tag.truncated_power_law.plot_pdf(label='Truncated Power Law')\n",
    "plt.legend()"
   ]
  },
  {
   "cell_type": "code",
   "execution_count": 28,
   "metadata": {},
   "outputs": [
    {
     "data": {
      "text/plain": [
       "1.8785889876034108"
      ]
     },
     "execution_count": 28,
     "metadata": {},
     "output_type": "execute_result"
    }
   ],
   "source": [
    "fit_tag.power_law.alpha"
   ]
  },
  {
   "cell_type": "code",
   "execution_count": 29,
   "metadata": {},
   "outputs": [
    {
     "data": {
      "text/plain": [
       "1.879819965347695"
      ]
     },
     "execution_count": 29,
     "metadata": {},
     "output_type": "execute_result"
    }
   ],
   "source": [
    "fit_tag.truncated_power_law.alpha"
   ]
  },
  {
   "cell_type": "markdown",
   "metadata": {},
   "source": [
    "A scaling regime is visible. Therefore ``xmin=None``.\n",
    "\n",
    "The truncated power law is the best fit, but a simple power law is highly plausible.\n",
    "\n",
    "The exponents of the power law and the truncated power law are almost identical, i.e., risk of overfitting is low."
   ]
  },
  {
   "cell_type": "markdown",
   "metadata": {},
   "source": [
    "#### Mentioning"
   ]
  },
  {
   "cell_type": "code",
   "execution_count": 30,
   "metadata": {},
   "outputs": [
    {
     "data": {
      "text/html": [
       "<div>\n",
       "<style scoped>\n",
       "    .dataframe tbody tr th:only-of-type {\n",
       "        vertical-align: middle;\n",
       "    }\n",
       "\n",
       "    .dataframe tbody tr th {\n",
       "        vertical-align: top;\n",
       "    }\n",
       "\n",
       "    .dataframe thead th {\n",
       "        text-align: right;\n",
       "    }\n",
       "</style>\n",
       "<table border=\"1\" class=\"dataframe\">\n",
       "  <thead>\n",
       "    <tr style=\"text-align: right;\">\n",
       "      <th></th>\n",
       "      <th>transaction_id</th>\n",
       "      <th>user_id_mentioner</th>\n",
       "      <th>user_id_mentionee</th>\n",
       "    </tr>\n",
       "  </thead>\n",
       "  <tbody>\n",
       "    <tr>\n",
       "      <th>0</th>\n",
       "      <td>3</td>\n",
       "      <td>96</td>\n",
       "      <td>756</td>\n",
       "    </tr>\n",
       "    <tr>\n",
       "      <th>1</th>\n",
       "      <td>4</td>\n",
       "      <td>413</td>\n",
       "      <td>756</td>\n",
       "    </tr>\n",
       "    <tr>\n",
       "      <th>2</th>\n",
       "      <td>9</td>\n",
       "      <td>37</td>\n",
       "      <td>856</td>\n",
       "    </tr>\n",
       "    <tr>\n",
       "      <th>3</th>\n",
       "      <td>32</td>\n",
       "      <td>821</td>\n",
       "      <td>748</td>\n",
       "    </tr>\n",
       "    <tr>\n",
       "      <th>4</th>\n",
       "      <td>43</td>\n",
       "      <td>426</td>\n",
       "      <td>709</td>\n",
       "    </tr>\n",
       "  </tbody>\n",
       "</table>\n",
       "</div>"
      ],
      "text/plain": [
       "   transaction_id  user_id_mentioner  user_id_mentionee\n",
       "0               3                 96                756\n",
       "1               4                413                756\n",
       "2               9                 37                856\n",
       "3              32                821                748\n",
       "4              43                426                709"
      ]
     },
     "execution_count": 30,
     "metadata": {},
     "output_type": "execute_result"
    }
   ],
   "source": [
    "mention = pd.read_csv('../data/btw13/mention.txt', header='infer', delimiter='\\t', encoding='utf-8')\n",
    "mention.head()"
   ]
  },
  {
   "cell_type": "code",
   "execution_count": 31,
   "metadata": {},
   "outputs": [],
   "source": [
    "number_of_mentioners = list(mention.groupby('user_id_mentionee').size())"
   ]
  },
  {
   "cell_type": "code",
   "execution_count": 32,
   "metadata": {},
   "outputs": [
    {
     "data": {
      "image/png": "[encoded data removed]",
      "text/plain": [
       "<Figure size 432x288 with 1 Axes>"
      ]
     },
     "metadata": {
      "needs_background": "light"
     },
     "output_type": "display_data"
    }
   ],
   "source": [
    "plot_pdf(number_of_mentioners)"
   ]
  },
  {
   "cell_type": "code",
   "execution_count": 33,
   "metadata": {},
   "outputs": [
    {
     "name": "stderr",
     "output_type": "stream",
     "text": [
      "Calculating best minimal value for power law fit\n"
     ]
    }
   ],
   "source": [
    "fit_mention = pl.Fit(number_of_mentioners, discrete=True, xmin=None)"
   ]
  },
  {
   "cell_type": "code",
   "execution_count": 34,
   "metadata": {},
   "outputs": [
    {
     "data": {
      "text/plain": [
       "67.0"
      ]
     },
     "execution_count": 34,
     "metadata": {},
     "output_type": "execute_result"
    }
   ],
   "source": [
    "fit_mention.xmin"
   ]
  },
  {
   "cell_type": "code",
   "execution_count": 35,
   "metadata": {},
   "outputs": [],
   "source": [
    "fit_mention = pl.Fit(number_of_mentioners, discrete=True, xmin=1)"
   ]
  },
  {
   "cell_type": "code",
   "execution_count": 36,
   "metadata": {},
   "outputs": [
    {
     "name": "stderr",
     "output_type": "stream",
     "text": [
      "Assuming nested distributions\n",
      "Assuming nested distributions\n",
      "Assuming nested distributions\n",
      "Assuming nested distributions\n",
      "Assuming nested distributions\n",
      "Assuming nested distributions\n",
      "Assuming nested distributions\n",
      "Assuming nested distributions\n",
      "Assuming nested distributions\n",
      "Assuming nested distributions\n",
      "Assuming nested distributions\n",
      "Assuming nested distributions\n"
     ]
    },
    {
     "data": {
      "text/plain": [
       "(                       exponential  stretched_exponential   lognormal  \\\n",
       " exponential               0.000000            -159.723481 -142.842761   \n",
       " stretched_exponential   159.723481               0.000000   16.880721   \n",
       " lognormal               142.842761             -16.880721    0.000000   \n",
       " lognormal_positive      142.842761             -16.880721    0.000000   \n",
       " power_law                15.642451            -144.081030 -127.200309   \n",
       " truncated_power_law     154.961939              -4.761542   12.119179   \n",
       " \n",
       "                        lognormal_positive   power_law  truncated_power_law  \n",
       " exponential                   -142.842761  -15.642451          -154.961939  \n",
       " stretched_exponential           16.880721  144.081030             4.761542  \n",
       " lognormal                        0.000000  127.200309           -12.119179  \n",
       " lognormal_positive               0.000000  127.200309           -12.119179  \n",
       " power_law                     -127.200309    0.000000          -139.319488  \n",
       " truncated_power_law             12.119179  139.319488             0.000000  ,\n",
       "                         exponential  stretched_exponential     lognormal  \\\n",
       " exponential            1.000000e+00           0.000000e+00  4.854053e-10   \n",
       " stretched_exponential  0.000000e+00           1.000000e+00  1.266095e-09   \n",
       " lognormal              4.854053e-10           1.266095e-09  1.000000e+00   \n",
       " lognormal_positive     4.854053e-10           1.266095e-09  1.000000e+00   \n",
       " power_law              6.443611e-01           2.471553e-27  2.106524e-24   \n",
       " truncated_power_law    2.007783e-09           3.575962e-01  2.634270e-02   \n",
       " \n",
       "                        lognormal_positive     power_law  truncated_power_law  \n",
       " exponential                  4.854053e-10  6.443611e-01         2.007783e-09  \n",
       " stretched_exponential        1.266095e-09  2.471553e-27         3.575962e-01  \n",
       " lognormal                    1.000000e+00  2.106524e-24         2.634270e-02  \n",
       " lognormal_positive           1.000000e+00  2.106524e-24         2.634270e-02  \n",
       " power_law                    2.106524e-24  1.000000e+00         0.000000e+00  \n",
       " truncated_power_law          2.634270e-02  0.000000e+00         1.000000e+00  )"
      ]
     },
     "execution_count": 36,
     "metadata": {},
     "output_type": "execute_result"
    }
   ],
   "source": [
    "compare_functions(fit_mention)"
   ]
  },
  {
   "cell_type": "code",
   "execution_count": 37,
   "metadata": {},
   "outputs": [
    {
     "name": "stderr",
     "output_type": "stream",
     "text": [
      "Calculating best minimal value for power law fit\n",
      "Calculating best minimal value for power law fit\n",
      "Calculating best minimal value for power law fit\n",
      "Calculating best minimal value for power law fit\n",
      "Calculating best minimal value for power law fit\n",
      "Calculating best minimal value for power law fit\n",
      "Calculating best minimal value for power law fit\n",
      "Calculating best minimal value for power law fit\n",
      "Calculating best minimal value for power law fit\n",
      "Calculating best minimal value for power law fit\n"
     ]
    },
    {
     "data": {
      "text/plain": [
       "0.0"
      ]
     },
     "execution_count": 37,
     "metadata": {},
     "output_type": "execute_result"
    }
   ],
   "source": [
    "p_value(fit_mention, sims=10)"
   ]
  },
  {
   "cell_type": "code",
   "execution_count": 38,
   "metadata": {},
   "outputs": [
    {
     "data": {
      "text/plain": [
       "1.0000000328297283"
      ]
     },
     "execution_count": 38,
     "metadata": {},
     "output_type": "execute_result"
    }
   ],
   "source": [
    "fit_mention.truncated_power_law.alpha"
   ]
  },
  {
   "cell_type": "code",
   "execution_count": 39,
   "metadata": {},
   "outputs": [
    {
     "data": {
      "text/plain": [
       "<matplotlib.legend.Legend at 0x17e25c18>"
      ]
     },
     "execution_count": 39,
     "metadata": {},
     "output_type": "execute_result"
    },
    {
     "data": {
      "image/png": "[encoded data removed]",
      "text/plain": [
       "<Figure size 432x288 with 1 Axes>"
      ]
     },
     "metadata": {
      "needs_background": "light"
     },
     "output_type": "display_data"
    }
   ],
   "source": [
    "fit_mention.plot_pdf(marker='o', ls='', linear_bins=False)\n",
    "fit_mention.stretched_exponential.plot_pdf(label='Stretched Exponential')\n",
    "plt.legend()"
   ]
  },
  {
   "cell_type": "markdown",
   "metadata": {},
   "source": [
    "There is a possible scaling regime starting at the minimum. But setting ``xmin=None`` causes a lower cutoff of 67 to be estimated, resulting in a \"fat tail\" that is too small to speak of scaling. Therefore, ``xmin=1``.\n",
    "\n",
    "A pure power law is highly implausible.\n",
    "\n",
    "The stretched exponential and truncated power law are equally good fits based on log-likelihood comparison. But the exponent for the truncated power law is too small (``alpha=1``), too small for a social system.\n",
    "\n",
    "Therefore the stretched exponential is the best fit."
   ]
  },
  {
   "cell_type": "markdown",
   "metadata": {},
   "source": [
    "#### Retweeting"
   ]
  },
  {
   "cell_type": "code",
   "execution_count": 40,
   "metadata": {},
   "outputs": [
    {
     "data": {
      "text/html": [
       "<div>\n",
       "<style scoped>\n",
       "    .dataframe tbody tr th:only-of-type {\n",
       "        vertical-align: middle;\n",
       "    }\n",
       "\n",
       "    .dataframe tbody tr th {\n",
       "        vertical-align: top;\n",
       "    }\n",
       "\n",
       "    .dataframe thead th {\n",
       "        text-align: right;\n",
       "    }\n",
       "</style>\n",
       "<table border=\"1\" class=\"dataframe\">\n",
       "  <thead>\n",
       "    <tr style=\"text-align: right;\">\n",
       "      <th></th>\n",
       "      <th>transaction_id</th>\n",
       "      <th>user_id_retweeter</th>\n",
       "      <th>user_id_retweetee</th>\n",
       "    </tr>\n",
       "  </thead>\n",
       "  <tbody>\n",
       "    <tr>\n",
       "      <th>0</th>\n",
       "      <td>10</td>\n",
       "      <td>48</td>\n",
       "      <td>20</td>\n",
       "    </tr>\n",
       "    <tr>\n",
       "      <th>1</th>\n",
       "      <td>44</td>\n",
       "      <td>712</td>\n",
       "      <td>37</td>\n",
       "    </tr>\n",
       "    <tr>\n",
       "      <th>2</th>\n",
       "      <td>57</td>\n",
       "      <td>13</td>\n",
       "      <td>37</td>\n",
       "    </tr>\n",
       "    <tr>\n",
       "      <th>3</th>\n",
       "      <td>62</td>\n",
       "      <td>13</td>\n",
       "      <td>37</td>\n",
       "    </tr>\n",
       "    <tr>\n",
       "      <th>4</th>\n",
       "      <td>65</td>\n",
       "      <td>13</td>\n",
       "      <td>37</td>\n",
       "    </tr>\n",
       "  </tbody>\n",
       "</table>\n",
       "</div>"
      ],
      "text/plain": [
       "   transaction_id  user_id_retweeter  user_id_retweetee\n",
       "0              10                 48                 20\n",
       "1              44                712                 37\n",
       "2              57                 13                 37\n",
       "3              62                 13                 37\n",
       "4              65                 13                 37"
      ]
     },
     "execution_count": 40,
     "metadata": {},
     "output_type": "execute_result"
    }
   ],
   "source": [
    "retweet = pd.read_csv('../data/btw13/retweet.txt', header='infer', delimiter='\\t', encoding='utf-8')\n",
    "retweet.head()"
   ]
  },
  {
   "cell_type": "code",
   "execution_count": 41,
   "metadata": {},
   "outputs": [],
   "source": [
    "number_of_retweeters = list(retweet.groupby('user_id_retweetee').size())"
   ]
  },
  {
   "cell_type": "code",
   "execution_count": 42,
   "metadata": {},
   "outputs": [
    {
     "data": {
      "image/png": "[encoded data removed]",
      "text/plain": [
       "<Figure size 432x288 with 1 Axes>"
      ]
     },
     "metadata": {
      "needs_background": "light"
     },
     "output_type": "display_data"
    }
   ],
   "source": [
    "plot_pdf(number_of_retweeters)"
   ]
  },
  {
   "cell_type": "code",
   "execution_count": 43,
   "metadata": {},
   "outputs": [],
   "source": [
    "fit_retweet = pl.Fit(number_of_retweeters, discrete=True, xmin=1)"
   ]
  },
  {
   "cell_type": "code",
   "execution_count": 44,
   "metadata": {},
   "outputs": [
    {
     "name": "stderr",
     "output_type": "stream",
     "text": [
      "Assuming nested distributions\n",
      "Assuming nested distributions\n",
      "Assuming nested distributions\n",
      "Assuming nested distributions\n",
      "Assuming nested distributions\n",
      "Assuming nested distributions\n",
      "Assuming nested distributions\n",
      "Assuming nested distributions\n",
      "Assuming nested distributions\n",
      "Assuming nested distributions\n",
      "Assuming nested distributions\n",
      "Assuming nested distributions\n"
     ]
    },
    {
     "data": {
      "text/plain": [
       "(                       exponential  stretched_exponential   lognormal  \\\n",
       " exponential               0.000000             -50.057247  -53.680436   \n",
       " stretched_exponential    50.057247               0.000000   -3.623189   \n",
       " lognormal                53.680436               3.623189    0.000000   \n",
       " lognormal_positive       53.680436               3.623189    0.000000   \n",
       " power_law              -118.423152            -168.480399 -172.103588   \n",
       " truncated_power_law       9.301694             -40.755553  -44.378742   \n",
       " \n",
       "                        lognormal_positive   power_law  truncated_power_law  \n",
       " exponential                    -53.680436  118.423152            -9.301694  \n",
       " stretched_exponential           -3.623189  168.480399            40.755553  \n",
       " lognormal                        0.000000  172.103588            44.378742  \n",
       " lognormal_positive               0.000000  172.103588            44.378742  \n",
       " power_law                     -172.103588    0.000000          -127.724846  \n",
       " truncated_power_law            -44.378742  127.724846             0.000000  ,\n",
       "                        exponential  stretched_exponential     lognormal  \\\n",
       " exponential               1.000000           0.000000e+00  2.125272e-04   \n",
       " stretched_exponential     0.000000           1.000000e+00  4.002876e-01   \n",
       " lognormal                 0.000213           4.002876e-01  1.000000e+00   \n",
       " lognormal_positive        0.000213           4.002876e-01  1.000000e+00   \n",
       " power_law                 0.000002           5.964378e-40  3.032958e-36   \n",
       " truncated_power_law       0.632382           2.554508e-08  1.017851e-06   \n",
       " \n",
       "                        lognormal_positive     power_law  truncated_power_law  \n",
       " exponential                  2.125272e-04  1.788536e-06         6.323821e-01  \n",
       " stretched_exponential        4.002876e-01  5.964378e-40         2.554508e-08  \n",
       " lognormal                    1.000000e+00  3.032958e-36         1.017851e-06  \n",
       " lognormal_positive           1.000000e+00  3.032958e-36         1.017851e-06  \n",
       " power_law                    3.032958e-36  1.000000e+00         0.000000e+00  \n",
       " truncated_power_law          1.017851e-06  0.000000e+00         1.000000e+00  )"
      ]
     },
     "execution_count": 44,
     "metadata": {},
     "output_type": "execute_result"
    }
   ],
   "source": [
    "compare_functions(fit_retweet)"
   ]
  },
  {
   "cell_type": "code",
   "execution_count": 45,
   "metadata": {},
   "outputs": [
    {
     "name": "stderr",
     "output_type": "stream",
     "text": [
      "Calculating best minimal value for power law fit\n",
      "Calculating best minimal value for power law fit\n",
      "Calculating best minimal value for power law fit\n",
      "Calculating best minimal value for power law fit\n",
      "Calculating best minimal value for power law fit\n",
      "Calculating best minimal value for power law fit\n",
      "Calculating best minimal value for power law fit\n",
      "Calculating best minimal value for power law fit\n",
      "Calculating best minimal value for power law fit\n",
      "Calculating best minimal value for power law fit\n"
     ]
    },
    {
     "data": {
      "text/plain": [
       "0.0"
      ]
     },
     "execution_count": 45,
     "metadata": {},
     "output_type": "execute_result"
    }
   ],
   "source": [
    "p_value(fit_retweet, sims=10)"
   ]
  },
  {
   "cell_type": "code",
   "execution_count": 46,
   "metadata": {
    "scrolled": true
   },
   "outputs": [
    {
     "data": {
      "text/plain": [
       "<matplotlib.legend.Legend at 0x1980fd30>"
      ]
     },
     "execution_count": 46,
     "metadata": {},
     "output_type": "execute_result"
    },
    {
     "data": {
      "image/png": "[encoded data removed]",
      "text/plain": [
       "<Figure size 432x288 with 1 Axes>"
      ]
     },
     "metadata": {
      "needs_background": "light"
     },
     "output_type": "display_data"
    }
   ],
   "source": [
    "fit_retweet.plot_pdf(marker='o', ls='', linear_bins=False)\n",
    "fit_retweet.stretched_exponential.plot_pdf(label='Stretched Exponential')\n",
    "fit_retweet.lognormal_positive.plot_pdf(label='Lognormal')\n",
    "plt.legend()"
   ]
  },
  {
   "cell_type": "markdown",
   "metadata": {},
   "source": [
    "No scaling regime is visible. Therefore ``xmin=1``.\n",
    "\n",
    "The stretched exponential and Lognormal are equally good fits.\n",
    "\n",
    "A power law fit is not plausible at all."
   ]
  },
  {
   "cell_type": "markdown",
   "metadata": {},
   "source": [
    "## Exercise 3\n",
    "The goal of Network Science is to find patterns that universally appear in complex systems (not only social systems). Ten complex networks, described [here](http://www.networksciencebook.com/translations/en/resources/data.html), are studied by Barabási in his book *Network Science*.\n",
    "#### What's the evidence for scale-freeness in the networks selected by Barabási?\n",
    "Can you reproduce the results [here](http://www.networksciencebook.com/chapter/4#advanced-c) (table 4.1)? Networks are ordered by size, so the collaboration network is fastest to assess."
   ]
  },
  {
   "cell_type": "markdown",
   "metadata": {},
   "source": [
    "#### Barabási's Datsets\n",
    "Of these, the citation, email, metabolic, phonecalls, and www are directed."
   ]
  },
  {
   "cell_type": "code",
   "execution_count": 47,
   "metadata": {},
   "outputs": [],
   "source": [
    "collaboration = pd.read_csv('../data/networksciencebook/collaboration.edgelist.zip', header='infer', delimiter='\\t', encoding='utf-8')\n",
    "phonecalls = pd.read_csv('../data/networksciencebook/phonecalls.edgelist.zip', header='infer', delimiter='\\t', encoding='utf-8')\n",
    "email = pd.read_csv('../data/networksciencebook/email.edgelist.zip', header='infer', delimiter='\\t', encoding='utf-8')\n",
    "www = pd.read_csv('../data/networksciencebook/www.edgelist.zip', header='infer', delimiter='\\t', encoding='utf-8')\n",
    "citation = pd.read_csv('../data/networksciencebook/citation.edgelist.zip', header='infer', delimiter='\\t', encoding='utf-8')\n",
    "actor = pd.read_csv('../data/networksciencebook/actor.edgelist.zip', header='infer', delimiter='\\t', encoding='utf-8')\n",
    "#internet = pd.read_csv('../data/networksciencebook/internet.edgelist.zip', header='infer', delimiter='\\t', encoding='utf-8')\n",
    "#metabolic = pd.read_csv('../data/networksciencebook/metabolic.edgelist.zip', header='infer', delimiter='\\t', encoding='utf-8')\n",
    "#powergrid = pd.read_csv('../data/networksciencebook/powergrid.edgelist.zip', header='infer', delimiter='\\t', encoding='utf-8')\n",
    "#protein = pd.read_csv('../data/networksciencebook/protein.edgelist.zip', header='infer', delimiter='\\t', encoding='utf-8')"
   ]
  },
  {
   "cell_type": "code",
   "execution_count": 48,
   "metadata": {},
   "outputs": [],
   "source": [
    "def fit_power_law(l, xmin=None):\n",
    "    fit = pl.Fit(l, discrete=True, xmin=xmin)\n",
    "    fit.plot_pdf(marker='o', ls='', linear_bins=True)\n",
    "    fit.plot_pdf(marker='o', ls='')\n",
    "    #fit.exponential.plot_pdf(label='Exponential')\n",
    "    fit.stretched_exponential.plot_pdf(label='Stretched Exponential')\n",
    "    fit.lognormal_positive.plot_pdf(label='Lognormal')\n",
    "    fit.power_law.plot_pdf(label='Power Law')\n",
    "    fit.truncated_power_law.plot_pdf(label='Truncated Power Law')\n",
    "    plt.legend()\n",
    "    return fit"
   ]
  },
  {
   "cell_type": "code",
   "execution_count": 49,
   "metadata": {},
   "outputs": [],
   "source": [
    "import networkx as nx"
   ]
  },
  {
   "cell_type": "markdown",
   "metadata": {},
   "source": [
    "#### The Collaboration Dataset"
   ]
  },
  {
   "cell_type": "code",
   "execution_count": 50,
   "metadata": {},
   "outputs": [
    {
     "name": "stdout",
     "output_type": "stream",
     "text": [
      "Name: collaboration\n",
      "Type: Graph\n",
      "Number of nodes: 23133\n",
      "Number of edges: 93439\n",
      "Average degree:   8.0784\n"
     ]
    }
   ],
   "source": [
    "Co = nx.Graph(name='collaboration')\n",
    "Co.add_edges_from(collaboration.values)\n",
    "Co_degree = [degree for (node, degree) in Co.degree]\n",
    "print(nx.info(Co))"
   ]
  },
  {
   "cell_type": "code",
   "execution_count": 51,
   "metadata": {},
   "outputs": [
    {
     "name": "stderr",
     "output_type": "stream",
     "text": [
      "Calculating best minimal value for power law fit\n"
     ]
    },
    {
     "data": {
      "image/png": "[encoded data removed]",
      "text/plain": [
       "<Figure size 432x288 with 1 Axes>"
      ]
     },
     "metadata": {
      "needs_background": "light"
     },
     "output_type": "display_data"
    }
   ],
   "source": [
    "fit_Co = fit_power_law(Co_degree)"
   ]
  },
  {
   "cell_type": "code",
   "execution_count": 52,
   "metadata": {},
   "outputs": [
    {
     "data": {
      "text/plain": [
       "25.0"
      ]
     },
     "execution_count": 52,
     "metadata": {},
     "output_type": "execute_result"
    }
   ],
   "source": [
    "fit_Co.xmin"
   ]
  },
  {
   "cell_type": "code",
   "execution_count": 53,
   "metadata": {},
   "outputs": [
    {
     "data": {
      "text/plain": [
       "3.3514046617578286"
      ]
     },
     "execution_count": 53,
     "metadata": {},
     "output_type": "execute_result"
    }
   ],
   "source": [
    "fit_Co.power_law.alpha"
   ]
  },
  {
   "cell_type": "code",
   "execution_count": 54,
   "metadata": {},
   "outputs": [
    {
     "name": "stderr",
     "output_type": "stream",
     "text": [
      "Assuming nested distributions\n",
      "Assuming nested distributions\n",
      "Assuming nested distributions\n",
      "Assuming nested distributions\n",
      "Assuming nested distributions\n",
      "Assuming nested distributions\n",
      "Assuming nested distributions\n",
      "Assuming nested distributions\n",
      "Assuming nested distributions\n",
      "Assuming nested distributions\n",
      "Assuming nested distributions\n",
      "Assuming nested distributions\n"
     ]
    },
    {
     "data": {
      "text/plain": [
       "(                       exponential  stretched_exponential  lognormal  \\\n",
       " exponential               0.000000             -47.632231 -47.476112   \n",
       " stretched_exponential    47.632231               0.000000   0.156119   \n",
       " lognormal                47.476112              -0.156119   0.000000   \n",
       " lognormal_positive       47.476112              -0.156119   0.000000   \n",
       " power_law                39.251731              -8.380500  -8.224381   \n",
       " truncated_power_law      47.684085               0.051854   0.207973   \n",
       " \n",
       "                        lognormal_positive  power_law  truncated_power_law  \n",
       " exponential                    -47.476112 -39.251731           -47.684085  \n",
       " stretched_exponential            0.156119   8.380500            -0.051854  \n",
       " lognormal                        0.000000   8.224381            -0.207973  \n",
       " lognormal_positive               0.000000   8.224381            -0.207973  \n",
       " power_law                       -8.224381   0.000000            -8.432354  \n",
       " truncated_power_law              0.207973   8.432354             0.000000  ,\n",
       "                        exponential  stretched_exponential  lognormal  \\\n",
       " exponential               1.000000               0.000000   0.000265   \n",
       " stretched_exponential     0.000000               1.000000   0.541539   \n",
       " lognormal                 0.000265               0.541539   1.000000   \n",
       " lognormal_positive        0.000265               0.541539   1.000000   \n",
       " power_law                 0.015807               0.016574   0.017869   \n",
       " truncated_power_law       0.000226               0.930320   0.803901   \n",
       " \n",
       "                        lognormal_positive  power_law  truncated_power_law  \n",
       " exponential                      0.000265   0.015807             0.000226  \n",
       " stretched_exponential            0.541539   0.016574             0.930320  \n",
       " lognormal                        1.000000   0.017869             0.803901  \n",
       " lognormal_positive               1.000000   0.017869             0.803901  \n",
       " power_law                        0.017869   1.000000             0.000040  \n",
       " truncated_power_law              0.803901   0.000040             1.000000  )"
      ]
     },
     "execution_count": 54,
     "metadata": {},
     "output_type": "execute_result"
    }
   ],
   "source": [
    "compare_functions(fit_Co)"
   ]
  },
  {
   "cell_type": "code",
   "execution_count": 55,
   "metadata": {},
   "outputs": [
    {
     "name": "stderr",
     "output_type": "stream",
     "text": [
      "Calculating best minimal value for power law fit\n",
      "Calculating best minimal value for power law fit\n",
      "Calculating best minimal value for power law fit\n",
      "Calculating best minimal value for power law fit\n",
      "Calculating best minimal value for power law fit\n",
      "Calculating best minimal value for power law fit\n",
      "Calculating best minimal value for power law fit\n",
      "Calculating best minimal value for power law fit\n",
      "Calculating best minimal value for power law fit\n",
      "Calculating best minimal value for power law fit\n"
     ]
    },
    {
     "data": {
      "text/plain": [
       "0.0"
      ]
     },
     "execution_count": 55,
     "metadata": {},
     "output_type": "execute_result"
    }
   ],
   "source": [
    "p_value(fit_Co, sims=10)"
   ]
  },
  {
   "cell_type": "markdown",
   "metadata": {},
   "source": [
    "#### The Phonecalls Dataset"
   ]
  },
  {
   "cell_type": "code",
   "execution_count": 56,
   "metadata": {},
   "outputs": [
    {
     "name": "stdout",
     "output_type": "stream",
     "text": [
      "Name: phonecalls\n",
      "Type: DiGraph\n",
      "Number of nodes: 36595\n",
      "Number of edges: 91826\n",
      "Average in degree:   2.5092\n",
      "Average out degree:   2.5092\n"
     ]
    }
   ],
   "source": [
    "P = nx.DiGraph(name='phonecalls')\n",
    "P.add_edges_from(phonecalls.values)\n",
    "P_out_degree = [out_degree for (node, out_degree) in P.out_degree if out_degree > 0]\n",
    "P_in_degree = [in_degree for (node, in_degree) in P.in_degree if in_degree > 0]\n",
    "print(nx.info(P))"
   ]
  },
  {
   "cell_type": "code",
   "execution_count": 57,
   "metadata": {},
   "outputs": [
    {
     "name": "stderr",
     "output_type": "stream",
     "text": [
      "Calculating best minimal value for power law fit\n"
     ]
    },
    {
     "data": {
      "image/png": "[encoded data removed]",
      "text/plain": [
       "<Figure size 432x288 with 1 Axes>"
      ]
     },
     "metadata": {
      "needs_background": "light"
     },
     "output_type": "display_data"
    }
   ],
   "source": [
    "fit_P_out = fit_power_law(P_out_degree)"
   ]
  },
  {
   "cell_type": "code",
   "execution_count": 58,
   "metadata": {},
   "outputs": [
    {
     "data": {
      "text/plain": [
       "8.0"
      ]
     },
     "execution_count": 58,
     "metadata": {},
     "output_type": "execute_result"
    }
   ],
   "source": [
    "fit_P_out.xmin"
   ]
  },
  {
   "cell_type": "code",
   "execution_count": 59,
   "metadata": {},
   "outputs": [
    {
     "data": {
      "text/plain": [
       "4.518884303185142"
      ]
     },
     "execution_count": 59,
     "metadata": {},
     "output_type": "execute_result"
    }
   ],
   "source": [
    "fit_P_out.power_law.alpha"
   ]
  },
  {
   "cell_type": "code",
   "execution_count": 60,
   "metadata": {},
   "outputs": [
    {
     "name": "stderr",
     "output_type": "stream",
     "text": [
      "Assuming nested distributions\n",
      "Assuming nested distributions\n",
      "Assuming nested distributions\n",
      "Assuming nested distributions\n",
      "Assuming nested distributions\n",
      "Assuming nested distributions\n",
      "Assuming nested distributions\n",
      "Assuming nested distributions\n",
      "Assuming nested distributions\n",
      "Assuming nested distributions\n",
      "Assuming nested distributions\n",
      "Assuming nested distributions\n"
     ]
    },
    {
     "data": {
      "text/plain": [
       "(                       exponential  stretched_exponential  lognormal  \\\n",
       " exponential               0.000000             -28.440269 -28.570827   \n",
       " stretched_exponential    28.440269               0.000000  -0.130559   \n",
       " lognormal                28.570827               0.130559   0.000000   \n",
       " lognormal_positive       28.297338              -0.142931  -0.273490   \n",
       " power_law                25.410788              -3.029480  -3.160039   \n",
       " truncated_power_law      28.323093              -0.117176  -0.247735   \n",
       " \n",
       "                        lognormal_positive  power_law  truncated_power_law  \n",
       " exponential                    -28.297338 -25.410788           -28.323093  \n",
       " stretched_exponential            0.142931   3.029480             0.117176  \n",
       " lognormal                        0.273490   3.160039             0.247735  \n",
       " lognormal_positive               0.000000   2.886549            -0.025755  \n",
       " power_law                       -2.886549   0.000000            -2.912304  \n",
       " truncated_power_law              0.025755   2.912304             0.000000  ,\n",
       "                         exponential  stretched_exponential  lognormal  \\\n",
       " exponential            1.000000e+00           4.629630e-14   0.002304   \n",
       " stretched_exponential  4.629630e-14           1.000000e+00   0.672604   \n",
       " lognormal              2.303893e-03           6.726043e-01   1.000000   \n",
       " lognormal_positive     1.066253e-03           7.791618e-01   0.459555   \n",
       " power_law              2.839635e-02           2.252994e-01   0.162571   \n",
       " truncated_power_law    3.106685e-03           8.345121e-01   0.525409   \n",
       " \n",
       "                        lognormal_positive  power_law  truncated_power_law  \n",
       " exponential                      0.001066   0.028396             0.003107  \n",
       " stretched_exponential            0.779162   0.225299             0.834512  \n",
       " lognormal                        0.459555   0.162571             0.525409  \n",
       " lognormal_positive               1.000000   0.334820             0.980418  \n",
       " power_law                        0.334820   1.000000             0.015803  \n",
       " truncated_power_law              0.980418   0.015803             1.000000  )"
      ]
     },
     "execution_count": 60,
     "metadata": {},
     "output_type": "execute_result"
    }
   ],
   "source": [
    "compare_functions(fit_P_out)"
   ]
  },
  {
   "cell_type": "code",
   "execution_count": 61,
   "metadata": {},
   "outputs": [
    {
     "name": "stderr",
     "output_type": "stream",
     "text": [
      "Calculating best minimal value for power law fit\n",
      "Calculating best minimal value for power law fit\n",
      "Calculating best minimal value for power law fit\n",
      "Calculating best minimal value for power law fit\n",
      "Calculating best minimal value for power law fit\n",
      "Calculating best minimal value for power law fit\n",
      "Calculating best minimal value for power law fit\n",
      "Calculating best minimal value for power law fit\n",
      "Calculating best minimal value for power law fit\n",
      "Calculating best minimal value for power law fit\n"
     ]
    },
    {
     "data": {
      "text/plain": [
       "0.5"
      ]
     },
     "execution_count": 61,
     "metadata": {},
     "output_type": "execute_result"
    }
   ],
   "source": [
    "p_value(fit_P_out, sims=10)"
   ]
  },
  {
   "cell_type": "code",
   "execution_count": 62,
   "metadata": {},
   "outputs": [
    {
     "name": "stderr",
     "output_type": "stream",
     "text": [
      "Calculating best minimal value for power law fit\n"
     ]
    },
    {
     "data": {
      "image/png": "[encoded data removed]",
      "text/plain": [
       "<Figure size 432x288 with 1 Axes>"
      ]
     },
     "metadata": {
      "needs_background": "light"
     },
     "output_type": "display_data"
    }
   ],
   "source": [
    "fit_P_in = fit_power_law(P_in_degree)"
   ]
  },
  {
   "cell_type": "code",
   "execution_count": 63,
   "metadata": {},
   "outputs": [
    {
     "data": {
      "text/plain": [
       "9.0"
      ]
     },
     "execution_count": 63,
     "metadata": {},
     "output_type": "execute_result"
    }
   ],
   "source": [
    "fit_P_in.xmin"
   ]
  },
  {
   "cell_type": "code",
   "execution_count": 64,
   "metadata": {},
   "outputs": [
    {
     "data": {
      "text/plain": [
       "4.627294006680148"
      ]
     },
     "execution_count": 64,
     "metadata": {},
     "output_type": "execute_result"
    }
   ],
   "source": [
    "fit_P_in.power_law.alpha"
   ]
  },
  {
   "cell_type": "code",
   "execution_count": 65,
   "metadata": {},
   "outputs": [
    {
     "name": "stderr",
     "output_type": "stream",
     "text": [
      "Assuming nested distributions\n",
      "Assuming nested distributions\n",
      "Assuming nested distributions\n",
      "Assuming nested distributions\n",
      "Assuming nested distributions\n",
      "Assuming nested distributions\n",
      "Assuming nested distributions\n",
      "Assuming nested distributions\n",
      "Assuming nested distributions\n",
      "Assuming nested distributions\n",
      "Assuming nested distributions\n",
      "Assuming nested distributions\n"
     ]
    },
    {
     "data": {
      "text/plain": [
       "(                       exponential  stretched_exponential  lognormal  \\\n",
       " exponential               0.000000             -27.907851 -28.286712   \n",
       " stretched_exponential    27.907851               0.000000  -0.378861   \n",
       " lognormal                28.286712               0.378861   0.000000   \n",
       " lognormal_positive       27.559749              -0.348101  -0.726962   \n",
       " power_law                27.249683              -0.658168  -1.037029   \n",
       " truncated_power_law      27.896924              -0.010927  -0.389788   \n",
       " \n",
       "                        lognormal_positive  power_law  truncated_power_law  \n",
       " exponential                    -27.559749 -27.249683           -27.896924  \n",
       " stretched_exponential            0.348101   0.658168             0.010927  \n",
       " lognormal                        0.726962   1.037029             0.389788  \n",
       " lognormal_positive               0.000000   0.310067            -0.337174  \n",
       " power_law                       -0.310067   0.000000            -0.647241  \n",
       " truncated_power_law              0.337174   0.647241             0.000000  ,\n",
       "                         exponential  stretched_exponential  lognormal  \\\n",
       " exponential            1.000000e+00           7.960299e-14   0.048390   \n",
       " stretched_exponential  7.960299e-14           1.000000e+00   0.682731   \n",
       " lognormal              4.839022e-02           6.827308e-01   1.000000   \n",
       " lognormal_positive     3.244221e-02           5.761632e-01   0.227899   \n",
       " power_law              8.639397e-02           7.917828e-01   0.519881   \n",
       " truncated_power_law    5.547662e-02           9.929792e-01   0.346504   \n",
       " \n",
       "                        lognormal_positive  power_law  truncated_power_law  \n",
       " exponential                      0.032442   0.086394             0.055477  \n",
       " stretched_exponential            0.576163   0.791783             0.992979  \n",
       " lognormal                        0.227899   0.519881             0.346504  \n",
       " lognormal_positive               1.000000   0.920195             0.855179  \n",
       " power_law                        0.920195   1.000000             0.255224  \n",
       " truncated_power_law              0.855179   0.255224             1.000000  )"
      ]
     },
     "execution_count": 65,
     "metadata": {},
     "output_type": "execute_result"
    }
   ],
   "source": [
    "compare_functions(fit_P_in)"
   ]
  },
  {
   "cell_type": "code",
   "execution_count": 66,
   "metadata": {},
   "outputs": [
    {
     "name": "stderr",
     "output_type": "stream",
     "text": [
      "Calculating best minimal value for power law fit\n",
      "Calculating best minimal value for power law fit\n",
      "Calculating best minimal value for power law fit\n",
      "Calculating best minimal value for power law fit\n",
      "Calculating best minimal value for power law fit\n",
      "Calculating best minimal value for power law fit\n",
      "Calculating best minimal value for power law fit\n",
      "Calculating best minimal value for power law fit\n",
      "Calculating best minimal value for power law fit\n",
      "Calculating best minimal value for power law fit\n"
     ]
    },
    {
     "data": {
      "text/plain": [
       "0.7"
      ]
     },
     "execution_count": 66,
     "metadata": {},
     "output_type": "execute_result"
    }
   ],
   "source": [
    "p_value(fit_P_in, sims=10)"
   ]
  },
  {
   "cell_type": "markdown",
   "metadata": {},
   "source": [
    "#### The Email Dataset"
   ]
  },
  {
   "cell_type": "code",
   "execution_count": 67,
   "metadata": {},
   "outputs": [
    {
     "name": "stdout",
     "output_type": "stream",
     "text": [
      "Name: email\n",
      "Type: DiGraph\n",
      "Number of nodes: 57194\n",
      "Number of edges: 103731\n",
      "Average in degree:   1.8137\n",
      "Average out degree:   1.8137\n"
     ]
    }
   ],
   "source": [
    "E = nx.DiGraph(name='email')\n",
    "E.add_edges_from(email.values)\n",
    "E_out_degree = [out_degree for (node, out_degree) in E.out_degree if out_degree > 0]\n",
    "E_in_degree = [in_degree for (node, in_degree) in E.in_degree if in_degree > 0]\n",
    "print(nx.info(E))"
   ]
  },
  {
   "cell_type": "code",
   "execution_count": 68,
   "metadata": {},
   "outputs": [
    {
     "name": "stderr",
     "output_type": "stream",
     "text": [
      "Calculating best minimal value for power law fit\n"
     ]
    },
    {
     "data": {
      "image/png": "[encoded data removed]",
      "text/plain": [
       "<Figure size 432x288 with 1 Axes>"
      ]
     },
     "metadata": {
      "needs_background": "light"
     },
     "output_type": "display_data"
    }
   ],
   "source": [
    "fit_E_out = fit_power_law(E_out_degree)"
   ]
  },
  {
   "cell_type": "code",
   "execution_count": 69,
   "metadata": {},
   "outputs": [
    {
     "data": {
      "text/plain": [
       "3.0"
      ]
     },
     "execution_count": 69,
     "metadata": {},
     "output_type": "execute_result"
    }
   ],
   "source": [
    "fit_E_out.xmin"
   ]
  },
  {
   "cell_type": "code",
   "execution_count": 70,
   "metadata": {},
   "outputs": [
    {
     "data": {
      "text/plain": [
       "2.0060491661243693"
      ]
     },
     "execution_count": 70,
     "metadata": {},
     "output_type": "execute_result"
    }
   ],
   "source": [
    "fit_E_out.power_law.alpha"
   ]
  },
  {
   "cell_type": "code",
   "execution_count": 71,
   "metadata": {},
   "outputs": [
    {
     "name": "stderr",
     "output_type": "stream",
     "text": [
      "Assuming nested distributions\n",
      "Assuming nested distributions\n",
      "Assuming nested distributions\n",
      "Assuming nested distributions\n",
      "Assuming nested distributions\n",
      "Assuming nested distributions\n",
      "Assuming nested distributions\n",
      "Assuming nested distributions\n",
      "Assuming nested distributions\n",
      "Assuming nested distributions\n",
      "Assuming nested distributions\n",
      "Assuming nested distributions\n"
     ]
    },
    {
     "data": {
      "text/plain": [
       "(                       exponential  stretched_exponential    lognormal  \\\n",
       " exponential               0.000000           -2742.131045 -2742.694073   \n",
       " stretched_exponential  2742.131045               0.000000    -0.563028   \n",
       " lognormal              2742.694073               0.563028     0.000000   \n",
       " lognormal_positive     2687.672331             -54.458714   -55.021742   \n",
       " power_law              2727.110148             -15.020896   -15.583924   \n",
       " truncated_power_law    2733.412533              -8.718512    -9.281540   \n",
       " \n",
       "                        lognormal_positive    power_law  truncated_power_law  \n",
       " exponential                  -2687.672331 -2727.110148         -2733.412533  \n",
       " stretched_exponential           54.458714    15.020896             8.718512  \n",
       " lognormal                       55.021742    15.583924             9.281540  \n",
       " lognormal_positive               0.000000   -39.437818           -45.740202  \n",
       " power_law                       39.437818     0.000000            -6.302384  \n",
       " truncated_power_law             45.740202     6.302384             0.000000  ,\n",
       "                        exponential  stretched_exponential  lognormal  \\\n",
       " exponential               1.000000           0.000000e+00   0.000009   \n",
       " stretched_exponential     0.000000           1.000000e+00   0.783455   \n",
       " lognormal                 0.000009           7.834553e-01   1.000000   \n",
       " lognormal_positive        0.000010           5.702429e-08   0.000000   \n",
       " power_law                 0.000011           2.780967e-02   0.001422   \n",
       " truncated_power_law       0.000009           5.288644e-02   0.021880   \n",
       " \n",
       "                        lognormal_positive  power_law  truncated_power_law  \n",
       " exponential                  1.039626e-05   0.000011             0.000009  \n",
       " stretched_exponential        5.702429e-08   0.027810             0.052886  \n",
       " lognormal                    0.000000e+00   0.001422             0.021880  \n",
       " lognormal_positive           1.000000e+00   0.018456             0.000857  \n",
       " power_law                    1.845603e-02   1.000000             0.000385  \n",
       " truncated_power_law          8.569110e-04   0.000385             1.000000  )"
      ]
     },
     "execution_count": 71,
     "metadata": {},
     "output_type": "execute_result"
    }
   ],
   "source": [
    "compare_functions(fit_E_out)"
   ]
  },
  {
   "cell_type": "code",
   "execution_count": 72,
   "metadata": {},
   "outputs": [
    {
     "name": "stderr",
     "output_type": "stream",
     "text": [
      "Calculating best minimal value for power law fit\n",
      "Calculating best minimal value for power law fit\n",
      "Calculating best minimal value for power law fit\n",
      "Calculating best minimal value for power law fit\n",
      "Calculating best minimal value for power law fit\n",
      "Calculating best minimal value for power law fit\n",
      "Calculating best minimal value for power law fit\n",
      "Calculating best minimal value for power law fit\n",
      "Calculating best minimal value for power law fit\n",
      "Calculating best minimal value for power law fit\n"
     ]
    },
    {
     "data": {
      "text/plain": [
       "0.2"
      ]
     },
     "execution_count": 72,
     "metadata": {},
     "output_type": "execute_result"
    }
   ],
   "source": [
    "p_value(fit_E_out, sims=10)"
   ]
  },
  {
   "cell_type": "code",
   "execution_count": 73,
   "metadata": {},
   "outputs": [
    {
     "name": "stderr",
     "output_type": "stream",
     "text": [
      "Calculating best minimal value for power law fit\n"
     ]
    },
    {
     "data": {
      "image/png": "[encoded data removed]",
      "text/plain": [
       "<Figure size 432x288 with 1 Axes>"
      ]
     },
     "metadata": {
      "needs_background": "light"
     },
     "output_type": "display_data"
    }
   ],
   "source": [
    "fit_E_in = fit_power_law(E_in_degree)"
   ]
  },
  {
   "cell_type": "code",
   "execution_count": 74,
   "metadata": {},
   "outputs": [
    {
     "data": {
      "text/plain": [
       "89.0"
      ]
     },
     "execution_count": 74,
     "metadata": {},
     "output_type": "execute_result"
    }
   ],
   "source": [
    "fit_E_in.xmin"
   ]
  },
  {
   "cell_type": "code",
   "execution_count": 75,
   "metadata": {},
   "outputs": [
    {
     "data": {
      "text/plain": [
       "3.4273463456450557"
      ]
     },
     "execution_count": 75,
     "metadata": {},
     "output_type": "execute_result"
    }
   ],
   "source": [
    "fit_E_in.power_law.alpha"
   ]
  },
  {
   "cell_type": "code",
   "execution_count": 76,
   "metadata": {},
   "outputs": [
    {
     "name": "stderr",
     "output_type": "stream",
     "text": [
      "Assuming nested distributions\n",
      "Assuming nested distributions\n",
      "Assuming nested distributions\n",
      "Assuming nested distributions\n",
      "Assuming nested distributions\n",
      "Assuming nested distributions\n",
      "Assuming nested distributions\n",
      "Assuming nested distributions\n",
      "Assuming nested distributions\n",
      "Assuming nested distributions\n",
      "Assuming nested distributions\n",
      "Assuming nested distributions\n"
     ]
    },
    {
     "data": {
      "text/plain": [
       "(                       exponential  stretched_exponential  lognormal  \\\n",
       " exponential               0.000000              -5.676341  -5.621521   \n",
       " stretched_exponential     5.676341               0.000000   0.054820   \n",
       " lognormal                 5.621521              -0.054820   0.000000   \n",
       " lognormal_positive        5.621521              -0.054820   0.000000   \n",
       " power_law                 5.167304              -0.509037  -0.454217   \n",
       " truncated_power_law       5.864931               0.188590   0.243411   \n",
       " \n",
       "                        lognormal_positive  power_law  truncated_power_law  \n",
       " exponential                     -5.621521  -5.167304            -5.864931  \n",
       " stretched_exponential            0.054820   0.509037            -0.188590  \n",
       " lognormal                        0.000000   0.454217            -0.243411  \n",
       " lognormal_positive               0.000000   0.454217            -0.243411  \n",
       " power_law                       -0.454217   0.000000            -0.697627  \n",
       " truncated_power_law              0.243411   0.697627             0.000000  ,\n",
       "                        exponential  stretched_exponential  lognormal  \\\n",
       " exponential               1.000000               0.000753   0.104436   \n",
       " stretched_exponential     0.000753               1.000000   0.564704   \n",
       " lognormal                 0.104436               0.564704   1.000000   \n",
       " lognormal_positive        0.104436               0.564704   1.000000   \n",
       " power_law                 0.210075               0.515501   0.512592   \n",
       " truncated_power_law       0.082234               0.106290   0.155895   \n",
       " \n",
       "                        lognormal_positive  power_law  truncated_power_law  \n",
       " exponential                      0.104436   0.210075             0.082234  \n",
       " stretched_exponential            0.564704   0.515501             0.106290  \n",
       " lognormal                        1.000000   0.512592             0.155895  \n",
       " lognormal_positive               1.000000   0.512592             0.155895  \n",
       " power_law                        0.512592   1.000000             0.237520  \n",
       " truncated_power_law              0.155895   0.237520             1.000000  )"
      ]
     },
     "execution_count": 76,
     "metadata": {},
     "output_type": "execute_result"
    }
   ],
   "source": [
    "compare_functions(fit_E_in)"
   ]
  },
  {
   "cell_type": "code",
   "execution_count": 77,
   "metadata": {},
   "outputs": [
    {
     "name": "stderr",
     "output_type": "stream",
     "text": [
      "Calculating best minimal value for power law fit\n",
      "Calculating best minimal value for power law fit\n",
      "Calculating best minimal value for power law fit\n",
      "Calculating best minimal value for power law fit\n",
      "Calculating best minimal value for power law fit\n",
      "Calculating best minimal value for power law fit\n",
      "Calculating best minimal value for power law fit\n",
      "Calculating best minimal value for power law fit\n",
      "Calculating best minimal value for power law fit\n",
      "Calculating best minimal value for power law fit\n"
     ]
    },
    {
     "data": {
      "text/plain": [
       "0.4"
      ]
     },
     "execution_count": 77,
     "metadata": {},
     "output_type": "execute_result"
    }
   ],
   "source": [
    "p_value(fit_E_in, sims=10)"
   ]
  },
  {
   "cell_type": "markdown",
   "metadata": {},
   "source": [
    "#### The WWW Dataset"
   ]
  },
  {
   "cell_type": "code",
   "execution_count": 78,
   "metadata": {},
   "outputs": [
    {
     "name": "stdout",
     "output_type": "stream",
     "text": [
      "Name: www\n",
      "Type: DiGraph\n",
      "Number of nodes: 325729\n",
      "Number of edges: 1497134\n",
      "Average in degree:   4.5963\n",
      "Average out degree:   4.5963\n"
     ]
    }
   ],
   "source": [
    "W = nx.DiGraph(name='www')\n",
    "W.add_edges_from(www.values) # takes a few minutes\n",
    "W_out_degree = [out_degree for (node, out_degree) in W.out_degree if out_degree > 0]\n",
    "W_in_degree = [in_degree for (node, in_degree) in W.in_degree if in_degree > 0]\n",
    "print(nx.info(W))"
   ]
  },
  {
   "cell_type": "code",
   "execution_count": 79,
   "metadata": {},
   "outputs": [
    {
     "name": "stderr",
     "output_type": "stream",
     "text": [
      "Calculating best minimal value for power law fit\n"
     ]
    },
    {
     "data": {
      "image/png": "[encoded data removed]",
      "text/plain": [
       "<Figure size 432x288 with 1 Axes>"
      ]
     },
     "metadata": {
      "needs_background": "light"
     },
     "output_type": "display_data"
    }
   ],
   "source": [
    "fit_W_out = fit_power_law(W_out_degree)"
   ]
  },
  {
   "cell_type": "code",
   "execution_count": 80,
   "metadata": {},
   "outputs": [
    {
     "data": {
      "text/plain": [
       "7.0"
      ]
     },
     "execution_count": 80,
     "metadata": {},
     "output_type": "execute_result"
    }
   ],
   "source": [
    "fit_W_out.xmin"
   ]
  },
  {
   "cell_type": "code",
   "execution_count": 81,
   "metadata": {},
   "outputs": [
    {
     "data": {
      "text/plain": [
       "2.1219912040895665"
      ]
     },
     "execution_count": 81,
     "metadata": {},
     "output_type": "execute_result"
    }
   ],
   "source": [
    "fit_W_out.power_law.alpha"
   ]
  },
  {
   "cell_type": "code",
   "execution_count": 82,
   "metadata": {},
   "outputs": [
    {
     "name": "stderr",
     "output_type": "stream",
     "text": [
      "Assuming nested distributions\n",
      "Assuming nested distributions\n",
      "Assuming nested distributions\n",
      "Assuming nested distributions\n",
      "Assuming nested distributions\n",
      "Assuming nested distributions\n",
      "Assuming nested distributions\n",
      "Assuming nested distributions\n",
      "Assuming nested distributions\n",
      "Assuming nested distributions\n",
      "Assuming nested distributions\n",
      "Assuming nested distributions\n"
     ]
    },
    {
     "data": {
      "text/plain": [
       "(                        exponential  stretched_exponential     lognormal  \\\n",
       " exponential                0.000000          -14188.466095 -14173.879104   \n",
       " stretched_exponential  14188.466095               0.000000     14.586991   \n",
       " lognormal              14173.879104             -14.586991      0.000000   \n",
       " lognormal_positive     13952.134694            -236.331401   -221.744410   \n",
       " power_law              13998.121628            -190.344467   -175.757476   \n",
       " truncated_power_law    14325.547092             137.080996    151.667988   \n",
       " \n",
       "                        lognormal_positive     power_law  truncated_power_law  \n",
       " exponential                 -13952.134694 -13998.121628        -14325.547092  \n",
       " stretched_exponential          236.331401    190.344467          -137.080996  \n",
       " lognormal                      221.744410    175.757476          -151.667988  \n",
       " lognormal_positive               0.000000    -45.986934          -373.412398  \n",
       " power_law                       45.986934      0.000000          -327.425464  \n",
       " truncated_power_law            373.412398    327.425464             0.000000  ,\n",
       "                          exponential  stretched_exponential      lognormal  \\\n",
       " exponential             1.000000e+00           0.000000e+00  1.904077e-238   \n",
       " stretched_exponential   0.000000e+00           1.000000e+00   5.034864e-02   \n",
       " lognormal              1.904077e-238           5.034864e-02   1.000000e+00   \n",
       " lognormal_positive     2.624286e-246           2.599026e-78   0.000000e+00   \n",
       " power_law              6.542372e-222           4.808684e-18   5.191212e-33   \n",
       " truncated_power_law    2.935850e-257           1.713745e-26   1.034767e-25   \n",
       " \n",
       "                        lognormal_positive      power_law  truncated_power_law  \n",
       " exponential                 2.624286e-246  6.542372e-222        2.935850e-257  \n",
       " stretched_exponential        2.599026e-78   4.808684e-18         1.713745e-26  \n",
       " lognormal                    0.000000e+00   5.191212e-33         1.034767e-25  \n",
       " lognormal_positive           1.000000e+00   1.800589e-01         5.411429e-72  \n",
       " power_law                    1.800589e-01   1.000000e+00         0.000000e+00  \n",
       " truncated_power_law          5.411429e-72   0.000000e+00         1.000000e+00  )"
      ]
     },
     "execution_count": 82,
     "metadata": {},
     "output_type": "execute_result"
    }
   ],
   "source": [
    "compare_functions(fit_W_out)"
   ]
  },
  {
   "cell_type": "code",
   "execution_count": 83,
   "metadata": {},
   "outputs": [
    {
     "name": "stderr",
     "output_type": "stream",
     "text": [
      "Calculating best minimal value for power law fit\n",
      "Calculating best minimal value for power law fit\n",
      "Calculating best minimal value for power law fit\n",
      "Calculating best minimal value for power law fit\n",
      "Calculating best minimal value for power law fit\n",
      "Calculating best minimal value for power law fit\n",
      "Calculating best minimal value for power law fit\n",
      "Calculating best minimal value for power law fit\n",
      "Calculating best minimal value for power law fit\n",
      "Calculating best minimal value for power law fit\n"
     ]
    },
    {
     "data": {
      "text/plain": [
       "0.0"
      ]
     },
     "execution_count": 83,
     "metadata": {},
     "output_type": "execute_result"
    }
   ],
   "source": [
    "p_value(fit_W_out, sims=10)"
   ]
  },
  {
   "cell_type": "code",
   "execution_count": 84,
   "metadata": {},
   "outputs": [
    {
     "name": "stderr",
     "output_type": "stream",
     "text": [
      "Calculating best minimal value for power law fit\n"
     ]
    },
    {
     "data": {
      "image/png": "[encoded data removed]",
      "text/plain": [
       "<Figure size 432x288 with 1 Axes>"
      ]
     },
     "metadata": {
      "needs_background": "light"
     },
     "output_type": "display_data"
    }
   ],
   "source": [
    "fit_W_in = fit_power_law(W_in_degree)"
   ]
  },
  {
   "cell_type": "code",
   "execution_count": 85,
   "metadata": {},
   "outputs": [
    {
     "data": {
      "text/plain": [
       "2.0"
      ]
     },
     "execution_count": 85,
     "metadata": {},
     "output_type": "execute_result"
    }
   ],
   "source": [
    "fit_W_in.xmin"
   ]
  },
  {
   "cell_type": "code",
   "execution_count": 86,
   "metadata": {},
   "outputs": [
    {
     "data": {
      "text/plain": [
       "1.9507535028318905"
      ]
     },
     "execution_count": 86,
     "metadata": {},
     "output_type": "execute_result"
    }
   ],
   "source": [
    "fit_W_in.power_law.alpha"
   ]
  },
  {
   "cell_type": "code",
   "execution_count": 87,
   "metadata": {},
   "outputs": [
    {
     "name": "stderr",
     "output_type": "stream",
     "text": [
      "Assuming nested distributions\n",
      "Assuming nested distributions\n",
      "Assuming nested distributions\n",
      "Assuming nested distributions\n",
      "Assuming nested distributions\n",
      "Assuming nested distributions\n",
      "Assuming nested distributions\n",
      "Assuming nested distributions\n",
      "Assuming nested distributions\n",
      "Assuming nested distributions\n",
      "Assuming nested distributions\n",
      "Assuming nested distributions\n"
     ]
    },
    {
     "data": {
      "text/plain": [
       "(                        exponential  stretched_exponential     lognormal  \\\n",
       " exponential                0.000000          -85334.957329 -85564.314416   \n",
       " stretched_exponential  85334.957329               0.000000   -229.357087   \n",
       " lognormal              85564.314416             229.357087      0.000000   \n",
       " lognormal_positive     81496.085295           -3838.872035  -4068.229122   \n",
       " power_law              85410.262450              75.305120   -154.051967   \n",
       " truncated_power_law    85720.253294             385.295965    155.938878   \n",
       " \n",
       "                        lognormal_positive     power_law  truncated_power_law  \n",
       " exponential                 -81496.085295 -85410.262450        -85720.253294  \n",
       " stretched_exponential         3838.872035    -75.305120          -385.295965  \n",
       " lognormal                     4068.229122    154.051967          -155.938878  \n",
       " lognormal_positive               0.000000  -3914.177155         -4224.167999  \n",
       " power_law                     3914.177155      0.000000          -309.990845  \n",
       " truncated_power_law           4224.167999    309.990845             0.000000  ,\n",
       "                        exponential  stretched_exponential     lognormal  \\\n",
       " exponential                    1.0           0.000000e+00  0.000000e+00   \n",
       " stretched_exponential          0.0           1.000000e+00  3.625673e-32   \n",
       " lognormal                      0.0           3.625673e-32  1.000000e+00   \n",
       " lognormal_positive             0.0           0.000000e+00  0.000000e+00   \n",
       " power_law                      0.0           1.396839e-02  7.412970e-20   \n",
       " truncated_power_law            0.0           7.619100e-66  1.534982e-22   \n",
       " \n",
       "                        lognormal_positive     power_law  truncated_power_law  \n",
       " exponential                           0.0  0.000000e+00         0.000000e+00  \n",
       " stretched_exponential                 0.0  1.396839e-02         7.619100e-66  \n",
       " lognormal                             0.0  7.412970e-20         1.534982e-22  \n",
       " lognormal_positive                    1.0  0.000000e+00         0.000000e+00  \n",
       " power_law                             0.0  1.000000e+00         0.000000e+00  \n",
       " truncated_power_law                   0.0  0.000000e+00         1.000000e+00  )"
      ]
     },
     "execution_count": 87,
     "metadata": {},
     "output_type": "execute_result"
    }
   ],
   "source": [
    "compare_functions(fit_W_in)"
   ]
  },
  {
   "cell_type": "code",
   "execution_count": 88,
   "metadata": {},
   "outputs": [
    {
     "name": "stderr",
     "output_type": "stream",
     "text": [
      "Calculating best minimal value for power law fit\n",
      "Calculating best minimal value for power law fit\n",
      "Calculating best minimal value for power law fit\n",
      "Calculating best minimal value for power law fit\n",
      "Calculating best minimal value for power law fit\n",
      "Calculating best minimal value for power law fit\n",
      "Calculating best minimal value for power law fit\n",
      "Calculating best minimal value for power law fit\n",
      "Calculating best minimal value for power law fit\n",
      "Calculating best minimal value for power law fit\n"
     ]
    },
    {
     "data": {
      "text/plain": [
       "0.0"
      ]
     },
     "execution_count": 88,
     "metadata": {},
     "output_type": "execute_result"
    }
   ],
   "source": [
    "p_value(fit_W_in, sims=10)"
   ]
  },
  {
   "cell_type": "markdown",
   "metadata": {},
   "source": [
    "#### The Citation Dataset"
   ]
  },
  {
   "cell_type": "code",
   "execution_count": 89,
   "metadata": {},
   "outputs": [
    {
     "name": "stdout",
     "output_type": "stream",
     "text": [
      "Name: citation\n",
      "Type: DiGraph\n",
      "Number of nodes: 449673\n",
      "Number of edges: 4689479\n",
      "Average in degree:  10.4286\n",
      "Average out degree:  10.4286\n"
     ]
    }
   ],
   "source": [
    "Ci = nx.DiGraph(name='citation')\n",
    "Ci.add_edges_from(citation.values) # takes a few minutes\n",
    "Ci_out_degree = [out_degree for (node, out_degree) in Ci.out_degree if out_degree > 0]\n",
    "Ci_in_degree = [in_degree for (node, in_degree) in Ci.in_degree if in_degree > 0]\n",
    "print(nx.info(Ci))"
   ]
  },
  {
   "cell_type": "code",
   "execution_count": 90,
   "metadata": {},
   "outputs": [
    {
     "name": "stderr",
     "output_type": "stream",
     "text": [
      "Calculating best minimal value for power law fit\n"
     ]
    },
    {
     "data": {
      "image/png": "[encoded data removed]",
      "text/plain": [
       "<Figure size 432x288 with 1 Axes>"
      ]
     },
     "metadata": {
      "needs_background": "light"
     },
     "output_type": "display_data"
    }
   ],
   "source": [
    "fit_Ci_out = fit_power_law(Ci_out_degree)"
   ]
  },
  {
   "cell_type": "code",
   "execution_count": 91,
   "metadata": {},
   "outputs": [
    {
     "data": {
      "text/plain": [
       "26.0"
      ]
     },
     "execution_count": 91,
     "metadata": {},
     "output_type": "execute_result"
    }
   ],
   "source": [
    "fit_Ci_out.xmin"
   ]
  },
  {
   "cell_type": "code",
   "execution_count": 92,
   "metadata": {},
   "outputs": [
    {
     "data": {
      "text/plain": [
       "4.617645418296465"
      ]
     },
     "execution_count": 92,
     "metadata": {},
     "output_type": "execute_result"
    }
   ],
   "source": [
    "fit_Ci_out.power_law.alpha"
   ]
  },
  {
   "cell_type": "code",
   "execution_count": 93,
   "metadata": {},
   "outputs": [
    {
     "name": "stderr",
     "output_type": "stream",
     "text": [
      "Assuming nested distributions\n",
      "Assuming nested distributions\n",
      "C:\\Anaconda3\\lib\\site-packages\\powerlaw.py:1560: RuntimeWarning: invalid value encountered in true_divide\n",
      "  return likelihoods/norm\n",
      "Assuming nested distributions\n",
      "Assuming nested distributions\n",
      "Assuming nested distributions\n",
      "Assuming nested distributions\n",
      "Assuming nested distributions\n",
      "Assuming nested distributions\n",
      "Assuming nested distributions\n",
      "Assuming nested distributions\n",
      "Assuming nested distributions\n",
      "Assuming nested distributions\n"
     ]
    },
    {
     "data": {
      "text/plain": [
       "(                       exponential  stretched_exponential    lognormal  \\\n",
       " exponential               0.000000           -1785.967239 -1888.776968   \n",
       " stretched_exponential  1785.967239               0.000000  -102.809729   \n",
       " lognormal              1888.776968             102.809729     0.000000   \n",
       " lognormal_positive     1781.704558              -4.262682  -107.072410   \n",
       " power_law              1884.189937              98.222698    -4.587031   \n",
       " truncated_power_law    1884.234438              98.267199    -4.542530   \n",
       " \n",
       "                        lognormal_positive    power_law  truncated_power_law  \n",
       " exponential                  -1781.704558 -1884.189937         -1884.234438  \n",
       " stretched_exponential            4.262682   -98.222698           -98.267199  \n",
       " lognormal                      107.072410     4.587031             4.542530  \n",
       " lognormal_positive               0.000000  -102.485380          -102.529880  \n",
       " power_law                      102.485380     0.000000            -0.044501  \n",
       " truncated_power_law            102.529880     0.044501             0.000000  ,\n",
       "                         exponential  stretched_exponential     lognormal  \\\n",
       " exponential            1.000000e+00           0.000000e+00  2.719992e-35   \n",
       " stretched_exponential  0.000000e+00           1.000000e+00  2.042941e-09   \n",
       " lognormal              2.719992e-35           2.042941e-09  1.000000e+00   \n",
       " lognormal_positive     7.640484e-40           3.786557e-02  0.000000e+00   \n",
       " power_law              1.115311e-35           2.593652e-10  3.627592e-01   \n",
       " truncated_power_law    9.881843e-36           2.108891e-10  3.685840e-01   \n",
       " \n",
       "                        lognormal_positive     power_law  truncated_power_law  \n",
       " exponential                  7.640484e-40  1.115311e-35         9.881843e-36  \n",
       " stretched_exponential        3.786557e-02  2.593652e-10         2.108891e-10  \n",
       " lognormal                    0.000000e+00  3.627592e-01         3.685840e-01  \n",
       " lognormal_positive           1.000000e+00  1.617536e-09         1.300957e-09  \n",
       " power_law                    1.617536e-09  1.000000e+00         7.654501e-01  \n",
       " truncated_power_law          1.300957e-09  7.654501e-01         1.000000e+00  )"
      ]
     },
     "execution_count": 93,
     "metadata": {},
     "output_type": "execute_result"
    }
   ],
   "source": [
    "compare_functions(fit_Ci_out)"
   ]
  },
  {
   "cell_type": "code",
   "execution_count": 94,
   "metadata": {},
   "outputs": [
    {
     "name": "stderr",
     "output_type": "stream",
     "text": [
      "Calculating best minimal value for power law fit\n",
      "Calculating best minimal value for power law fit\n",
      "Calculating best minimal value for power law fit\n",
      "Calculating best minimal value for power law fit\n",
      "Calculating best minimal value for power law fit\n",
      "Calculating best minimal value for power law fit\n",
      "Calculating best minimal value for power law fit\n",
      "Calculating best minimal value for power law fit\n",
      "Calculating best minimal value for power law fit\n",
      "Calculating best minimal value for power law fit\n"
     ]
    },
    {
     "data": {
      "text/plain": [
       "0.0"
      ]
     },
     "execution_count": 94,
     "metadata": {},
     "output_type": "execute_result"
    }
   ],
   "source": [
    "p_value(fit_Ci_out, sims=10)"
   ]
  },
  {
   "cell_type": "code",
   "execution_count": 95,
   "metadata": {},
   "outputs": [
    {
     "name": "stderr",
     "output_type": "stream",
     "text": [
      "Calculating best minimal value for power law fit\n"
     ]
    },
    {
     "data": {
      "image/png": "[encoded data removed]",
      "text/plain": [
       "<Figure size 432x288 with 1 Axes>"
      ]
     },
     "metadata": {
      "needs_background": "light"
     },
     "output_type": "display_data"
    }
   ],
   "source": [
    "fit_Ci_in = fit_power_law(Ci_in_degree)"
   ]
  },
  {
   "cell_type": "code",
   "execution_count": 96,
   "metadata": {},
   "outputs": [
    {
     "data": {
      "text/plain": [
       "51.0"
      ]
     },
     "execution_count": 96,
     "metadata": {},
     "output_type": "execute_result"
    }
   ],
   "source": [
    "fit_Ci_in.xmin"
   ]
  },
  {
   "cell_type": "code",
   "execution_count": 97,
   "metadata": {},
   "outputs": [
    {
     "data": {
      "text/plain": [
       "2.7944492633659723"
      ]
     },
     "execution_count": 97,
     "metadata": {},
     "output_type": "execute_result"
    }
   ],
   "source": [
    "fit_Ci_in.power_law.alpha"
   ]
  },
  {
   "cell_type": "code",
   "execution_count": 98,
   "metadata": {},
   "outputs": [
    {
     "name": "stderr",
     "output_type": "stream",
     "text": [
      "Assuming nested distributions\n",
      "Assuming nested distributions\n",
      "Assuming nested distributions\n",
      "Assuming nested distributions\n",
      "Assuming nested distributions\n",
      "Assuming nested distributions\n",
      "Assuming nested distributions\n",
      "Assuming nested distributions\n",
      "Assuming nested distributions\n",
      "Assuming nested distributions\n",
      "Assuming nested distributions\n",
      "Assuming nested distributions\n"
     ]
    },
    {
     "data": {
      "text/plain": [
       "(                       exponential  stretched_exponential    lognormal  \\\n",
       " exponential               0.000000           -2131.962901 -2143.855513   \n",
       " stretched_exponential  2131.962901               0.000000   -11.892613   \n",
       " lognormal              2143.855513              11.892613     0.000000   \n",
       " lognormal_positive     2131.804239              -0.158661   -12.051274   \n",
       " power_law              2127.167628              -4.795273   -16.687885   \n",
       " truncated_power_law    2141.614330               9.651429    -2.241183   \n",
       " \n",
       "                        lognormal_positive    power_law  truncated_power_law  \n",
       " exponential                  -2131.804239 -2127.167628         -2141.614330  \n",
       " stretched_exponential            0.158661     4.795273            -9.651429  \n",
       " lognormal                       12.051274    16.687885             2.241183  \n",
       " lognormal_positive               0.000000     4.636611            -9.810091  \n",
       " power_law                       -4.636611     0.000000           -14.446702  \n",
       " truncated_power_law              9.810091    14.446702             0.000000  ,\n",
       "                         exponential  stretched_exponential     lognormal  \\\n",
       " exponential            1.000000e+00               0.000000  1.618977e-42   \n",
       " stretched_exponential  0.000000e+00               1.000000  2.022628e-02   \n",
       " lognormal              1.618977e-42               0.020226  1.000000e+00   \n",
       " lognormal_positive     2.294952e-44               0.872462  9.133934e-07   \n",
       " power_law              1.167165e-39               0.646292  1.854352e-03   \n",
       " truncated_power_law    1.327696e-42               0.116285  3.646288e-01   \n",
       " \n",
       "                        lognormal_positive     power_law  truncated_power_law  \n",
       " exponential                  2.294952e-44  1.167165e-39         1.327696e-42  \n",
       " stretched_exponential        8.724624e-01  6.462923e-01         1.162853e-01  \n",
       " lognormal                    9.133934e-07  1.854352e-03         3.646288e-01  \n",
       " lognormal_positive           1.000000e+00  6.559810e-01         1.223705e-01  \n",
       " power_law                    6.559810e-01  1.000000e+00         7.647289e-08  \n",
       " truncated_power_law          1.223705e-01  7.647289e-08         1.000000e+00  )"
      ]
     },
     "execution_count": 98,
     "metadata": {},
     "output_type": "execute_result"
    }
   ],
   "source": [
    "compare_functions(fit_Ci_in)"
   ]
  },
  {
   "cell_type": "code",
   "execution_count": 99,
   "metadata": {},
   "outputs": [
    {
     "data": {
      "text/plain": [
       "2.6830956760014693"
      ]
     },
     "execution_count": 99,
     "metadata": {},
     "output_type": "execute_result"
    }
   ],
   "source": [
    "fit_Ci_in.truncated_power_law.alpha"
   ]
  },
  {
   "cell_type": "code",
   "execution_count": 100,
   "metadata": {},
   "outputs": [
    {
     "name": "stderr",
     "output_type": "stream",
     "text": [
      "Calculating best minimal value for power law fit\n",
      "Calculating best minimal value for power law fit\n",
      "Calculating best minimal value for power law fit\n",
      "Calculating best minimal value for power law fit\n",
      "Calculating best minimal value for power law fit\n",
      "Calculating best minimal value for power law fit\n",
      "Calculating best minimal value for power law fit\n",
      "Calculating best minimal value for power law fit\n",
      "Calculating best minimal value for power law fit\n",
      "Calculating best minimal value for power law fit\n"
     ]
    },
    {
     "data": {
      "text/plain": [
       "0.0"
      ]
     },
     "execution_count": 100,
     "metadata": {},
     "output_type": "execute_result"
    }
   ],
   "source": [
    "p_value(fit_Ci_in, sims=10)"
   ]
  },
  {
   "cell_type": "markdown",
   "metadata": {},
   "source": [
    "#### The Actor Dataset"
   ]
  },
  {
   "cell_type": "code",
   "execution_count": 101,
   "metadata": {},
   "outputs": [
    {
     "name": "stdout",
     "output_type": "stream",
     "text": [
      "Name: actor\n",
      "Type: Graph\n",
      "Number of nodes: 702388\n",
      "Number of edges: 29397908\n",
      "Average degree:  83.7085\n"
     ]
    }
   ],
   "source": [
    "A = nx.Graph(name='actor')\n",
    "A.add_edges_from(actor.values) # takes a few minutes\n",
    "A_degree = [degree for (node, degree) in A.degree]\n",
    "print(nx.info(A))"
   ]
  },
  {
   "cell_type": "code",
   "execution_count": 102,
   "metadata": {},
   "outputs": [
    {
     "name": "stderr",
     "output_type": "stream",
     "text": [
      "Calculating best minimal value for power law fit\n"
     ]
    },
    {
     "data": {
      "image/png": "[encoded data removed]",
      "text/plain": [
       "<Figure size 432x288 with 1 Axes>"
      ]
     },
     "metadata": {
      "needs_background": "light"
     },
     "output_type": "display_data"
    }
   ],
   "source": [
    "fit_A = fit_power_law(A_degree)"
   ]
  },
  {
   "cell_type": "code",
   "execution_count": 103,
   "metadata": {},
   "outputs": [
    {
     "data": {
      "text/plain": [
       "51.0"
      ]
     },
     "execution_count": 103,
     "metadata": {},
     "output_type": "execute_result"
    }
   ],
   "source": [
    "fit_A.xmin"
   ]
  },
  {
   "cell_type": "code",
   "execution_count": 104,
   "metadata": {},
   "outputs": [
    {
     "data": {
      "text/plain": [
       "2.120291313530346"
      ]
     },
     "execution_count": 104,
     "metadata": {},
     "output_type": "execute_result"
    }
   ],
   "source": [
    "fit_A.power_law.alpha"
   ]
  },
  {
   "cell_type": "code",
   "execution_count": 105,
   "metadata": {},
   "outputs": [
    {
     "name": "stderr",
     "output_type": "stream",
     "text": [
      "Assuming nested distributions\n",
      "Assuming nested distributions\n",
      "Assuming nested distributions\n",
      "Assuming nested distributions\n",
      "Assuming nested distributions\n",
      "Assuming nested distributions\n",
      "Assuming nested distributions\n",
      "Assuming nested distributions\n",
      "Assuming nested distributions\n",
      "Assuming nested distributions\n",
      "Assuming nested distributions\n",
      "Assuming nested distributions\n"
     ]
    },
    {
     "data": {
      "text/plain": [
       "(                        exponential  stretched_exponential     lognormal  \\\n",
       " exponential                0.000000          -68143.046091 -68020.297539   \n",
       " stretched_exponential  68143.046091               0.000000    122.748551   \n",
       " lognormal              68020.297539            -122.748551      0.000000   \n",
       " lognormal_positive     68015.108077            -127.938014     -5.189463   \n",
       " power_law              66458.960135           -1684.085956  -1561.337405   \n",
       " truncated_power_law    68675.156924             532.110834    654.859385   \n",
       " \n",
       "                        lognormal_positive     power_law  truncated_power_law  \n",
       " exponential                 -68015.108077 -66458.960135        -68675.156924  \n",
       " stretched_exponential          127.938014   1684.085956          -532.110834  \n",
       " lognormal                        5.189463   1561.337405          -654.859385  \n",
       " lognormal_positive               0.000000   1556.147942          -660.048848  \n",
       " power_law                    -1556.147942      0.000000         -2216.196790  \n",
       " truncated_power_law            660.048848   2216.196790             0.000000  ,\n",
       "                        exponential  stretched_exponential      lognormal  \\\n",
       " exponential                    1.0           0.000000e+00   0.000000e+00   \n",
       " stretched_exponential          0.0           1.000000e+00  9.894259e-131   \n",
       " lognormal                      0.0          9.894259e-131   1.000000e+00   \n",
       " lognormal_positive             0.0          4.310582e-302   1.274618e-03   \n",
       " power_law                      0.0          6.872652e-275  1.795146e-282   \n",
       " truncated_power_law            0.0          2.075522e-235  2.349280e-295   \n",
       " \n",
       "                        lognormal_positive      power_law  truncated_power_law  \n",
       " exponential                  0.000000e+00   0.000000e+00         0.000000e+00  \n",
       " stretched_exponential       4.310582e-302  6.872652e-275        2.075522e-235  \n",
       " lognormal                    1.274618e-03  1.795146e-282        2.349280e-295  \n",
       " lognormal_positive           1.000000e+00  1.557028e-248        4.333516e-276  \n",
       " power_law                   1.557028e-248   1.000000e+00         0.000000e+00  \n",
       " truncated_power_law         4.333516e-276   0.000000e+00         1.000000e+00  )"
      ]
     },
     "execution_count": 105,
     "metadata": {},
     "output_type": "execute_result"
    }
   ],
   "source": [
    "compare_functions(fit_A)"
   ]
  },
  {
   "cell_type": "code",
   "execution_count": 106,
   "metadata": {},
   "outputs": [
    {
     "data": {
      "text/plain": [
       "1.933681851056846"
      ]
     },
     "execution_count": 106,
     "metadata": {},
     "output_type": "execute_result"
    }
   ],
   "source": [
    "fit_A.truncated_power_law.alpha"
   ]
  },
  {
   "cell_type": "code",
   "execution_count": 107,
   "metadata": {},
   "outputs": [
    {
     "name": "stderr",
     "output_type": "stream",
     "text": [
      "Calculating best minimal value for power law fit\n",
      "Calculating best minimal value for power law fit\n",
      "Calculating best minimal value for power law fit\n",
      "Calculating best minimal value for power law fit\n",
      "Calculating best minimal value for power law fit\n",
      "Calculating best minimal value for power law fit\n",
      "Calculating best minimal value for power law fit\n",
      "Calculating best minimal value for power law fit\n",
      "Calculating best minimal value for power law fit\n",
      "Calculating best minimal value for power law fit\n"
     ]
    },
    {
     "data": {
      "text/plain": [
       "0.0"
      ]
     },
     "execution_count": 107,
     "metadata": {},
     "output_type": "execute_result"
    }
   ],
   "source": [
    "p_value(fit_A, sims=10)"
   ]
  }
 ],
 "metadata": {
  "kernelspec": {
   "display_name": "Python 3",
   "language": "python",
   "name": "python3"
  },
  "language_info": {
   "codemirror_mode": {
    "name": "ipython",
    "version": 3
   },
   "file_extension": ".py",
   "mimetype": "text/x-python",
   "name": "python",
   "nbconvert_exporter": "python",
   "pygments_lexer": "ipython3",
   "version": "3.7.3"
  }
 },
 "nbformat": 4,
 "nbformat_minor": 2
}
