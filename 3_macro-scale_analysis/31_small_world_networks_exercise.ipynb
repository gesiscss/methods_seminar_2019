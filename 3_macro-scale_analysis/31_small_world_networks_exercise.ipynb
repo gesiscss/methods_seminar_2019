{
 "cells": [
  {
   "cell_type": "markdown",
   "metadata": {},
   "source": [
    "### 39. Methodenseminar\n",
    "## Big Data Module II: Introduction to Social Network Science with Python\n",
    "# 3.1 Small-World Networks (Exercise)\n",
    "**Author**: <a href='https://www.gesis.org/person/haiko.lietz'>Haiko Lietz</a>, GESIS - Leibniz Institute for the Social Sciences\n",
    "\n",
    "**Date**: 17 July 2019\n",
    "\n",
    "**Library versions**: ``networkx`` 2.2 ([documentation](https://networkx.github.io/documentation/))"
   ]
  },
  {
   "cell_type": "markdown",
   "metadata": {},
   "source": [
    "***"
   ]
  },
  {
   "cell_type": "markdown",
   "metadata": {},
   "source": [
    "## The SNS Dataset\n",
    "<img src='images/model_sns.png'>\n",
    "Study this dataset using your own research questions or work through the exercises."
   ]
  },
  {
   "cell_type": "markdown",
   "metadata": {},
   "source": [
    "## Exercise 1\n",
    "In the demo, in section 3.1.3.2, we studied the dynamics of the time-sliced co-authorship graph.\n",
    "#### How do results change if time increases cumulatively?\n",
    "That means the second time slice consists of the first two, the third of the first three, and so on. Think about a simple fix of the code to achieve this and use this fix to revisit that part of the demo and produce according results."
   ]
  },
  {
   "cell_type": "code",
   "execution_count": null,
   "metadata": {},
   "outputs": [],
   "source": []
  },
  {
   "cell_type": "markdown",
   "metadata": {},
   "source": [
    "## Exercise 2\n",
    "In the demo, we saw that the co-authorship graph exhibits increasing returns to scale over time.\n",
    "#### Does the directed citation graph also densify over time?"
   ]
  },
  {
   "cell_type": "code",
   "execution_count": null,
   "metadata": {},
   "outputs": [],
   "source": [
    "citations = pd.read_csv('../data/sns/citations.txt', header='infer', delimiter='\\t', encoding='utf-8')\n",
    "citations.dropna(inplace=True)\n",
    "citations['publication_id_cited'] = citations['publication_id_cited'].astype(int)\n",
    "citations.drop('reference_id', inplace=True, axis=1)"
   ]
  },
  {
   "cell_type": "code",
   "execution_count": null,
   "metadata": {},
   "outputs": [],
   "source": [
    "citations = pd.merge(left=citations, right=publications[['publication_id', 'time']], on='publication_id')\n",
    "citations.head()"
   ]
  },
  {
   "cell_type": "code",
   "execution_count": null,
   "metadata": {},
   "outputs": [],
   "source": []
  },
  {
   "cell_type": "markdown",
   "metadata": {},
   "source": [
    "## Exercise 3\n",
    "If time is left, look for the Small-World property in any of the Twitter graphs."
   ]
  },
  {
   "cell_type": "code",
   "execution_count": null,
   "metadata": {},
   "outputs": [],
   "source": []
  }
 ],
 "metadata": {
  "kernelspec": {
   "display_name": "Python 3",
   "language": "python",
   "name": "python3"
  },
  "language_info": {
   "codemirror_mode": {
    "name": "ipython",
    "version": 3
   },
   "file_extension": ".py",
   "mimetype": "text/x-python",
   "name": "python",
   "nbconvert_exporter": "python",
   "pygments_lexer": "ipython3",
   "version": "3.7.3"
  }
 },
 "nbformat": 4,
 "nbformat_minor": 2
}
