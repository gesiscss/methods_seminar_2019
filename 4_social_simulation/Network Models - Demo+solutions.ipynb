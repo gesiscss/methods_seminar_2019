{
 "cells": [
  {
   "cell_type": "markdown",
   "metadata": {},
   "source": [
    "Author: Fariba Karimi\n",
    "\n",
    "Website: frbkrm.com\n",
    "\n",
    "Version: 18 July 2019\n",
    "\n",
    "Generating networks with python and networkx"
   ]
  },
  {
   "cell_type": "markdown",
   "metadata": {},
   "source": [
    "# A tutorial on generating networks\n"
   ]
  },
  {
   "cell_type": "markdown",
   "metadata": {},
   "source": [
    "The goal of this module is to famlirize the students with generative models of networks using python. \n",
    "\n",
    "The most famous model of networks is scale-free networks. "
   ]
  },
  {
   "cell_type": "markdown",
   "metadata": {},
   "source": [
    "### Barabasi-Albert (BA) preferential attachment network"
   ]
  },
  {
   "cell_type": "markdown",
   "metadata": {},
   "source": [
    "This model of preferential attachment generates networks that have scale-free degree distributions that has been observed in many large-scale real social networks. "
   ]
  },
  {
   "cell_type": "code",
   "execution_count": 1,
   "metadata": {
    "collapsed": true
   },
   "outputs": [],
   "source": [
    "## let's import libraries that we need\n",
    "import networkx as nx\n",
    "import random"
   ]
  },
  {
   "cell_type": "code",
   "execution_count": 2,
   "metadata": {
    "collapsed": true
   },
   "outputs": [],
   "source": [
    "BA_graph = nx.Graph() #generate an empty undirected graph"
   ]
  },
  {
   "cell_type": "markdown",
   "metadata": {},
   "source": [
    "This model is a grwoth model. That means in each time step, a new node arrives and connect to existing nodes. The probability of connecting to existing nodes follows a preferential attachemnt: nodes with higher degree, have higher probability of being selected. "
   ]
  },
  {
   "cell_type": "markdown",
   "metadata": {},
   "source": [
    "Each arrival node connects to m alrbitrary number of exsiting nodes. We fix m to 2."
   ]
  },
  {
   "cell_type": "code",
   "execution_count": 3,
   "metadata": {
    "collapsed": true
   },
   "outputs": [],
   "source": [
    "m = 2"
   ]
  },
  {
   "cell_type": "markdown",
   "metadata": {},
   "source": [
    "That means the arraiving node has to at least connect to 2 nodes. Therefore, we need to initialize the graph based on m."
   ]
  },
  {
   "cell_type": "code",
   "execution_count": 4,
   "metadata": {
    "collapsed": false
   },
   "outputs": [],
   "source": [
    "BA_graph.add_edge(0,1)"
   ]
  },
  {
   "cell_type": "markdown",
   "metadata": {},
   "source": [
    "#### Roulette Wheel selection to choose a random node to connect to"
   ]
  },
  {
   "cell_type": "markdown",
   "metadata": {},
   "source": [
    "Each arrival node has to connect to m \"random\" nodes that are chosen based on their degree. For example, if node A and node B both have degree of 10, we need to make sure that both of them have similar chance of being picked up. To do so we use Roulette Wheel selection. "
   ]
  },
  {
   "cell_type": "markdown",
   "metadata": {},
   "source": [
    "<img src=\"roulette_wheel.png\">"
   ]
  },
  {
   "cell_type": "code",
   "execution_count": null,
   "metadata": {
    "collapsed": true
   },
   "outputs": [],
   "source": []
  },
  {
   "cell_type": "markdown",
   "metadata": {},
   "source": [
    "For example, let's assume we have a star graph."
   ]
  },
  {
   "cell_type": "code",
   "execution_count": 5,
   "metadata": {
    "collapsed": true
   },
   "outputs": [],
   "source": [
    "star_g = nx.Graph()"
   ]
  },
  {
   "cell_type": "code",
   "execution_count": 6,
   "metadata": {
    "collapsed": false
   },
   "outputs": [],
   "source": [
    "star_g.add_edge('A','B')\n",
    "star_g.add_edge('A','C')\n",
    "star_g.add_edge('A','D')\n",
    "star_g.add_edge('A','E')\n",
    "star_g.add_edge('A','F')\n",
    "star_g.add_edge('A','G')"
   ]
  },
  {
   "cell_type": "markdown",
   "metadata": {},
   "source": [
    "Q: what is the degree of A? What is the degree of other nodes?\n",
    "In star_g graph, all nodes except A should have the same probability of being picked up. "
   ]
  },
  {
   "cell_type": "markdown",
   "metadata": {},
   "source": [
    "Let's make a Roulette Wheel algorithm:'"
   ]
  },
  {
   "cell_type": "code",
   "execution_count": 7,
   "metadata": {
    "collapsed": false
   },
   "outputs": [
    {
     "name": "stdout",
     "output_type": "stream",
     "text": [
      "B 0.08333333333333333 0.08333333333333333\n",
      "E 0.08333333333333333 0.16666666666666666\n",
      "F 0.08333333333333333 0.25\n",
      "C 0.08333333333333333 0.3333333333333333\n",
      "A 0.5 0.8333333333333333\n",
      "D 0.08333333333333333 0.9166666666666666\n",
      "G 0.08333333333333333 1.0\n"
     ]
    }
   ],
   "source": [
    "degree_dict = star_g.degree() #dictionary of degree. keys: nodes, values:degree\n",
    "sum_degree = sum(deg for n,deg in star_g.degree())\n",
    "cumulative_sum = 0\n",
    "probability_dict = {}\n",
    "for n,deg in degree_dict:\n",
    "    node_prob = deg/sum_degree\n",
    "    cumulative_sum += node_prob\n",
    "    probability_dict[n] = cumulative_sum\n",
    "    print(n , node_prob, cumulative_sum)\n",
    "    "
   ]
  },
  {
   "cell_type": "code",
   "execution_count": 8,
   "metadata": {
    "collapsed": false
   },
   "outputs": [],
   "source": [
    "from collections import defaultdict\n",
    "count_node = defaultdict(int)\n",
    "for i in range(1000):\n",
    "    r = random.random() # a random number between 0 and 1\n",
    "    for node,cum_sum in probability_dict.items():\n",
    "        if r <= cum_sum:\n",
    "            count_node[node] += 1\n",
    "            break"
   ]
  },
  {
   "cell_type": "code",
   "execution_count": 9,
   "metadata": {
    "collapsed": false
   },
   "outputs": [
    {
     "name": "stdout",
     "output_type": "stream",
     "text": [
      "defaultdict(<class 'int'>, {'B': 87, 'E': 81, 'F': 98, 'C': 90, 'A': 480, 'D': 87, 'G': 77})\n"
     ]
    }
   ],
   "source": [
    "print(count_node)"
   ]
  },
  {
   "cell_type": "code",
   "execution_count": null,
   "metadata": {
    "collapsed": false
   },
   "outputs": [],
   "source": []
  },
  {
   "cell_type": "code",
   "execution_count": null,
   "metadata": {
    "collapsed": true
   },
   "outputs": [],
   "source": []
  },
  {
   "cell_type": "code",
   "execution_count": 10,
   "metadata": {
    "collapsed": false
   },
   "outputs": [],
   "source": [
    "def pick_targets(G , m):\n",
    "    # first make the probability list\n",
    "    \n",
    "    degree_dict = G.degree() #dictionary of degree. keys: nodes, values:degree\n",
    "    sum_degree = sum(deg for n,deg in G.degree())\n",
    "    cumulative_sum = 0\n",
    "    probability_dict = {}\n",
    "    for n,deg in degree_dict:\n",
    "        node_prob = deg/sum_degree\n",
    "        cumulative_sum += node_prob\n",
    "        probability_dict[n] = cumulative_sum\n",
    "    \n",
    "    # now pick the target \n",
    "    chosen = []\n",
    "    for i in range(m):\n",
    "        r = random.random() # a random number between 0 and 1\n",
    "        for n,cum_sum in probability_dict.items():\n",
    "            if r <= cum_sum:\n",
    "                chosen.append(n)\n",
    "                break\n",
    "    return chosen    \n",
    "    "
   ]
  },
  {
   "cell_type": "markdown",
   "metadata": {},
   "source": [
    "Now, let's generate a preferential attachment network model."
   ]
  },
  {
   "cell_type": "code",
   "execution_count": 11,
   "metadata": {
    "collapsed": false
   },
   "outputs": [],
   "source": [
    "N = 200\n",
    "source = m\n",
    "while source < N:\n",
    "    targets = pick_targets(BA_graph , m)\n",
    "    for target in targets:\n",
    "        BA_graph.add_edge(source,target)\n",
    "    source += 1"
   ]
  },
  {
   "cell_type": "markdown",
   "metadata": {},
   "source": [
    "TODO: plot the degree distribution of the graph"
   ]
  },
  {
   "cell_type": "markdown",
   "metadata": {},
   "source": [
    "### Scale-free networks with triadic closure"
   ]
  },
  {
   "cell_type": "markdown",
   "metadata": {},
   "source": [
    "Many real social networks contain triads which are more significant than being by chance. Let's incorporate that in the BA model."
   ]
  },
  {
   "cell_type": "code",
   "execution_count": 12,
   "metadata": {
    "collapsed": false
   },
   "outputs": [],
   "source": [
    "G = nx.Graph()\n",
    "source = m\n",
    "G.add_edge(0,1)\n",
    "p = 0.1 # probability of making triangles \n",
    "m = 2\n",
    "N = 200\n",
    "while source < N:        # Now add the other n-1 nodes\n",
    "    possible_targets = pick_targets(G, m)\n",
    "    # do one preferential attachment for new node\n",
    "    target = possible_targets.pop()\n",
    "    G.add_edge(source, target)\n",
    "    count = 1\n",
    "    while count < m:  # add m-1 more new links\n",
    "        if random.random() < p:  # clustering step: add triangle\n",
    "            neighborhood = [nbr for nbr in G.neighbors(target)\n",
    "                                if not G.has_edge(source, nbr)\n",
    "                                and not nbr == source]\n",
    "            if neighborhood:  # if there is a neighbor without a link\n",
    "                nbr = random.choice(neighborhood)\n",
    "                G.add_edge(source, nbr)  # add triangle\n",
    "                count = count + 1\n",
    "                continue  # go to top of while loop\n",
    "        # else do preferential attachment step if above fails\n",
    "        target = possible_targets.pop()\n",
    "        G.add_edge(source, target)\n",
    "        count = count + 1\n",
    "            \n",
    "        \n",
    "    source += 1\n"
   ]
  },
  {
   "cell_type": "markdown",
   "metadata": {},
   "source": [
    "Let's count triangels for simple BA and BA with triads (also known as Holme-Kim algorithm):"
   ]
  },
  {
   "cell_type": "code",
   "execution_count": 13,
   "metadata": {
    "collapsed": false
   },
   "outputs": [
    {
     "data": {
      "text/plain": [
       "132"
      ]
     },
     "execution_count": 13,
     "metadata": {},
     "output_type": "execute_result"
    }
   ],
   "source": [
    "sum(nx.triangles(G).values())"
   ]
  },
  {
   "cell_type": "code",
   "execution_count": 14,
   "metadata": {
    "collapsed": false
   },
   "outputs": [
    {
     "data": {
      "text/plain": [
       "99"
      ]
     },
     "execution_count": 14,
     "metadata": {},
     "output_type": "execute_result"
    }
   ],
   "source": [
    "sum(nx.triangles(BA_graph).values())"
   ]
  },
  {
   "cell_type": "markdown",
   "metadata": {},
   "source": [
    "### Simple random graph model"
   ]
  },
  {
   "cell_type": "code",
   "execution_count": 15,
   "metadata": {
    "collapsed": false
   },
   "outputs": [],
   "source": [
    "import itertools\n",
    "\n",
    "N = 100\n",
    "p = 0.2 # probability of edge connection in a random graph\n",
    "random_graph = nx.Graph()\n",
    "\n",
    "possible_edges=itertools.combinations(range(N),2)\n",
    "for e in possible_edges:\n",
    "    i,j = e\n",
    "    if random.random() < p:\n",
    "        random_graph.add_edge(i,j)\n",
    "        \n"
   ]
  },
  {
   "cell_type": "code",
   "execution_count": null,
   "metadata": {
    "collapsed": true
   },
   "outputs": [],
   "source": []
  }
 ],
 "metadata": {
  "kernelspec": {
   "display_name": "Python 3",
   "language": "python",
   "name": "python3"
  },
  "language_info": {
   "codemirror_mode": {
    "name": "ipython",
    "version": 3
   },
   "file_extension": ".py",
   "mimetype": "text/x-python",
   "name": "python",
   "nbconvert_exporter": "python",
   "pygments_lexer": "ipython3",
   "version": "3.4.2"
  }
 },
 "nbformat": 4,
 "nbformat_minor": 1
}
