{
 "cells": [
  {
   "cell_type": "markdown",
   "metadata": {},
   "source": [
    "### 39. Methodenseminar\n",
    "## Big Data Module II: Introduction to Social Network Science with Python\n",
    "# 3.1 Small-World Networks (Exercise)\n",
    "**Author**: <a href='https://www.gesis.org/person/haiko.lietz'>Haiko Lietz</a>, GESIS - Leibniz Institute for the Social Sciences\n",
    "\n",
    "**Date**: 17 July 2019\n",
    "\n",
    "**Library versions**: ``networkx`` 2.2 ([documentation](https://networkx.github.io/documentation/))"
   ]
  },
  {
   "cell_type": "markdown",
   "metadata": {},
   "source": [
    "***"
   ]
  },
  {
   "cell_type": "markdown",
   "metadata": {},
   "source": [
    "## The SNS Dataset\n",
    "<img src='images/model_sns.png'>\n",
    "Study this dataset using your own research questions or work through the exercises."
   ]
  },
  {
   "cell_type": "markdown",
   "metadata": {},
   "source": [
    "## Exercise 1\n",
    "In the demo, in section 3.1.3.2, we studied the dynamics of the time-sliced co-authorship graph.\n",
    "#### How do results change if time increases cumulatively?\n",
    "That means the second time slice consists of the first two, the third of the first three, and so on. Think about a simple fix of the code to achieve this and use this fix to revisit that part of the demo and produce according results."
   ]
  },
  {
   "cell_type": "code",
   "execution_count": 1,
   "metadata": {},
   "outputs": [],
   "source": [
    "import pandas as pd"
   ]
  },
  {
   "cell_type": "code",
   "execution_count": 2,
   "metadata": {},
   "outputs": [
    {
     "data": {
      "text/html": [
       "<div>\n",
       "<style scoped>\n",
       "    .dataframe tbody tr th:only-of-type {\n",
       "        vertical-align: middle;\n",
       "    }\n",
       "\n",
       "    .dataframe tbody tr th {\n",
       "        vertical-align: top;\n",
       "    }\n",
       "\n",
       "    .dataframe thead th {\n",
       "        text-align: right;\n",
       "    }\n",
       "</style>\n",
       "<table border=\"1\" class=\"dataframe\">\n",
       "  <thead>\n",
       "    <tr style=\"text-align: right;\">\n",
       "      <th></th>\n",
       "      <th>publication_id</th>\n",
       "      <th>author_id</th>\n",
       "      <th>time</th>\n",
       "    </tr>\n",
       "  </thead>\n",
       "  <tbody>\n",
       "    <tr>\n",
       "      <th>0</th>\n",
       "      <td>0</td>\n",
       "      <td>0</td>\n",
       "      <td>1916</td>\n",
       "    </tr>\n",
       "    <tr>\n",
       "      <th>1</th>\n",
       "      <td>1</td>\n",
       "      <td>1</td>\n",
       "      <td>1925</td>\n",
       "    </tr>\n",
       "    <tr>\n",
       "      <th>2</th>\n",
       "      <td>2</td>\n",
       "      <td>2</td>\n",
       "      <td>1927</td>\n",
       "    </tr>\n",
       "    <tr>\n",
       "      <th>3</th>\n",
       "      <td>2</td>\n",
       "      <td>3</td>\n",
       "      <td>1927</td>\n",
       "    </tr>\n",
       "    <tr>\n",
       "      <th>4</th>\n",
       "      <td>3</td>\n",
       "      <td>4</td>\n",
       "      <td>1936</td>\n",
       "    </tr>\n",
       "  </tbody>\n",
       "</table>\n",
       "</div>"
      ],
      "text/plain": [
       "  publication_id  author_id  time\n",
       "0              0          0  1916\n",
       "1              1          1  1925\n",
       "2              2          2  1927\n",
       "3              2          3  1927\n",
       "4              3          4  1936"
      ]
     },
     "execution_count": 2,
     "metadata": {},
     "output_type": "execute_result"
    }
   ],
   "source": [
    "authorships = pd.read_csv('../data/sns/authorships.txt', header='infer', delimiter='\\t', encoding='utf-8')\n",
    "publications = pd.read_csv('../data/sns/publications.txt', header='infer', delimiter='\\t', encoding='utf-8')\n",
    "authorships = pd.merge(left=authorships, right=publications[['publication_id', 'time']], on='publication_id')\n",
    "authorships['publication_id'] = authorships['publication_id'].astype('str')\n",
    "authorships.head()"
   ]
  },
  {
   "cell_type": "code",
   "execution_count": 3,
   "metadata": {},
   "outputs": [
    {
     "data": {
      "text/plain": [
       "[1916, 1925, 1927, 1936, 1937, 1938, 1943, 1945, 1946, 1948, 1949, 1950, 1951]"
      ]
     },
     "execution_count": 3,
     "metadata": {},
     "output_type": "execute_result"
    }
   ],
   "source": [
    "years_aut = list(authorships['time'].drop_duplicates())\n",
    "years_aut[:13]"
   ]
  },
  {
   "cell_type": "code",
   "execution_count": 4,
   "metadata": {},
   "outputs": [],
   "source": [
    "import networkx as nx\n",
    "from networkx.algorithms import bipartite"
   ]
  },
  {
   "cell_type": "code",
   "execution_count": 5,
   "metadata": {},
   "outputs": [],
   "source": [
    "L_C = []\n",
    "for year in years_aut:\n",
    "    df = authorships[authorships['time'] <= year][['publication_id', 'author_id']] # fix here\n",
    "    A = nx.Graph()\n",
    "    A.add_edges_from(df.values)\n",
    "    L_C.append(bipartite.weighted_projected_graph(A, set(df['author_id'])))"
   ]
  },
  {
   "cell_type": "markdown",
   "metadata": {},
   "source": [
    "#### Largest Connected Component"
   ]
  },
  {
   "cell_type": "code",
   "execution_count": 6,
   "metadata": {},
   "outputs": [],
   "source": [
    "def lcc(G):\n",
    "    return max(nx.connected_component_subgraphs(G, copy=True), key=len)"
   ]
  },
  {
   "cell_type": "code",
   "execution_count": 7,
   "metadata": {},
   "outputs": [],
   "source": [
    "L_n = []\n",
    "L_m = []\n",
    "L_n_lcc = []\n",
    "L_m_lcc = []\n",
    "for i in range(0, len(L_C)):\n",
    "    L_n.append(L_C[i].number_of_nodes())\n",
    "    L_m.append(L_C[i].number_of_edges())\n",
    "    L_n_lcc.append(lcc(L_C[i]).number_of_nodes())\n",
    "    L_m_lcc.append(lcc(L_C[i]).number_of_edges())"
   ]
  },
  {
   "cell_type": "code",
   "execution_count": 8,
   "metadata": {},
   "outputs": [],
   "source": [
    "import matplotlib.pyplot as plt\n",
    "import numpy as np"
   ]
  },
  {
   "cell_type": "code",
   "execution_count": 9,
   "metadata": {},
   "outputs": [
    {
     "data": {
      "text/plain": [
       "[<matplotlib.lines.Line2D at 0x232cf83a7f0>]"
      ]
     },
     "execution_count": 9,
     "metadata": {},
     "output_type": "execute_result"
    },
    {
     "data": {
      "image/png": "[encoded data removed]",
      "text/plain": [
       "<Figure size 432x288 with 1 Axes>"
      ]
     },
     "metadata": {
      "needs_background": "light"
     },
     "output_type": "display_data"
    }
   ],
   "source": [
    "plt.plot(years_aut, np.array(L_n_lcc)/np.array(L_n))"
   ]
  },
  {
   "cell_type": "markdown",
   "metadata": {},
   "source": [
    "#### Small-Worldliness"
   ]
  },
  {
   "cell_type": "code",
   "execution_count": 10,
   "metadata": {},
   "outputs": [],
   "source": [
    "L_c = []\n",
    "#L_l = []\n",
    "for i in range(0, len(L_C)):\n",
    "    L_c.append(nx.average_clustering(lcc(L_C[i])))\n",
    "#    L_l.append(nx.average_shortest_path_length(lcc(L_C[i])))\n",
    "L_l = [0, 0, 1.0, 1.0, 1.0, 1.0, 1.0, 1.0, 1.0, 1.0, 1.0, 1.0, 1.0, 1.0, 1.0, 1.0, 1.0, 1.0, 1.0, 1.0, 1.0, 1.0, 1.0, 1.0, 1.0, 1.0, 1.0, 1.0, 1.0, 1.0, 1.4285714285714286, 1.4285714285714286, 1.4285714285714286, 1.4285714285714286, 1.4285714285714286, 1.4285714285714286, 1.5277777777777777, 1.5277777777777777, 1.5277777777777777, 1.5277777777777777, 1.5277777777777777, 1.6222222222222222, 1.6222222222222222, 1.290909090909091, 1.290909090909091, 1.6470588235294117, 1.760233918128655, 4.63063063063063, 3.978048780487805, 3.743078626799557, 3.9064625850340136, 4.385739333722969, 4.75533199195171, 4.525343642611684, 5.138423339540658, 5.157875980042766, 5.236245954692556, 8.173587512087305, 8.75389619189592, 9.479152918591398, 9.088970177003189, 9.532223723128066, 10.485910962429234, 11.288213242544325, 11.422435483674539, 11.901499036977091, 12.986000077966354, 11.058176130337168, 11.224170495381424, 10.22423595085363, 10.6332019960302, 9.953112627924629, 9.811953179249574]"
   ]
  },
  {
   "cell_type": "code",
   "execution_count": 11,
   "metadata": {},
   "outputs": [],
   "source": [
    "def sw_random(G, iter=10):\n",
    "    L_c = []\n",
    "    L_l = []\n",
    "    if iter > 0:\n",
    "        for i in range(0, iter):\n",
    "            G_rnd = nx.gnm_random_graph(G.number_of_nodes(), G.number_of_edges())\n",
    "            L_c.append(nx.average_clustering(lcc(G_rnd)))\n",
    "            L_l.append(nx.average_shortest_path_length(lcc(G_rnd)))\n",
    "        c_r = np.mean(L_c)\n",
    "        l_r = np.mean(L_l)\n",
    "    else:\n",
    "        c_r = nx.density(G)\n",
    "        l_r = np.log(G.number_of_nodes())\n",
    "    return c_r, l_r"
   ]
  },
  {
   "cell_type": "code",
   "execution_count": 12,
   "metadata": {},
   "outputs": [],
   "source": [
    "L_c_r = []\n",
    "L_l_r = []\n",
    "for i in range(0, len(L_C)):\n",
    "    c_r, l_r = sw_random(lcc(L_C[i]), iter=0)\n",
    "    L_c_r.append(c_r)\n",
    "    L_l_r.append(l_r)"
   ]
  },
  {
   "cell_type": "code",
   "execution_count": 13,
   "metadata": {},
   "outputs": [
    {
     "name": "stderr",
     "output_type": "stream",
     "text": [
      "C:\\ProgramData\\Anaconda3\\lib\\site-packages\\ipykernel_launcher.py:1: RuntimeWarning: invalid value encountered in true_divide\n",
      "  \"\"\"Entry point for launching an IPython kernel.\n"
     ]
    },
    {
     "data": {
      "text/plain": [
       "[<matplotlib.lines.Line2D at 0x232cf8c8550>]"
      ]
     },
     "execution_count": 13,
     "metadata": {},
     "output_type": "execute_result"
    },
    {
     "data": {
      "image/png": "[encoded data removed]",
      "text/plain": [
       "<Figure size 432x288 with 1 Axes>"
      ]
     },
     "metadata": {
      "needs_background": "light"
     },
     "output_type": "display_data"
    }
   ],
   "source": [
    "plt.plot(years_aut, (np.array(L_c)/np.array(L_c_r))/(np.array(L_l)/np.array(L_l_r)))"
   ]
  },
  {
   "cell_type": "markdown",
   "metadata": {},
   "source": [
    "## Exercise 2\n",
    "In the demo, we saw that the co-authorship graph exhibits increasing returns to scale over time.\n",
    "#### Does the directed citation graph also densify over time?"
   ]
  },
  {
   "cell_type": "code",
   "execution_count": 14,
   "metadata": {},
   "outputs": [],
   "source": [
    "citations = pd.read_csv('../data/sns/citations.txt', header='infer', delimiter='\\t', encoding='utf-8')\n",
    "citations.dropna(inplace=True)\n",
    "citations['publication_id_cited'] = citations['publication_id_cited'].astype(int)\n",
    "citations.drop('reference_id', inplace=True, axis=1)"
   ]
  },
  {
   "cell_type": "code",
   "execution_count": 15,
   "metadata": {},
   "outputs": [
    {
     "data": {
      "text/html": [
       "<div>\n",
       "<style scoped>\n",
       "    .dataframe tbody tr th:only-of-type {\n",
       "        vertical-align: middle;\n",
       "    }\n",
       "\n",
       "    .dataframe tbody tr th {\n",
       "        vertical-align: top;\n",
       "    }\n",
       "\n",
       "    .dataframe thead th {\n",
       "        text-align: right;\n",
       "    }\n",
       "</style>\n",
       "<table border=\"1\" class=\"dataframe\">\n",
       "  <thead>\n",
       "    <tr style=\"text-align: right;\">\n",
       "      <th></th>\n",
       "      <th>publication_id</th>\n",
       "      <th>publication_id_cited</th>\n",
       "      <th>time</th>\n",
       "    </tr>\n",
       "  </thead>\n",
       "  <tbody>\n",
       "    <tr>\n",
       "      <th>0</th>\n",
       "      <td>19</td>\n",
       "      <td>15</td>\n",
       "      <td>1950</td>\n",
       "    </tr>\n",
       "    <tr>\n",
       "      <th>1</th>\n",
       "      <td>23</td>\n",
       "      <td>20</td>\n",
       "      <td>1951</td>\n",
       "    </tr>\n",
       "    <tr>\n",
       "      <th>2</th>\n",
       "      <td>29</td>\n",
       "      <td>18</td>\n",
       "      <td>1954</td>\n",
       "    </tr>\n",
       "    <tr>\n",
       "      <th>3</th>\n",
       "      <td>31</td>\n",
       "      <td>22</td>\n",
       "      <td>1954</td>\n",
       "    </tr>\n",
       "    <tr>\n",
       "      <th>4</th>\n",
       "      <td>32</td>\n",
       "      <td>27</td>\n",
       "      <td>1955</td>\n",
       "    </tr>\n",
       "  </tbody>\n",
       "</table>\n",
       "</div>"
      ],
      "text/plain": [
       "   publication_id  publication_id_cited  time\n",
       "0              19                    15  1950\n",
       "1              23                    20  1951\n",
       "2              29                    18  1954\n",
       "3              31                    22  1954\n",
       "4              32                    27  1955"
      ]
     },
     "execution_count": 15,
     "metadata": {},
     "output_type": "execute_result"
    }
   ],
   "source": [
    "citations = pd.merge(left=citations, right=publications[['publication_id', 'time']], on='publication_id')\n",
    "citations.head()"
   ]
  },
  {
   "cell_type": "code",
   "execution_count": 16,
   "metadata": {},
   "outputs": [
    {
     "data": {
      "text/plain": [
       "[1950, 1951, 1954, 1955, 1956, 1957, 1960, 1961, 1962, 1964, 1965, 1966, 1967]"
      ]
     },
     "execution_count": 16,
     "metadata": {},
     "output_type": "execute_result"
    }
   ],
   "source": [
    "years_cit = list(citations['time'].drop_duplicates())\n",
    "years_cit[:13]"
   ]
  },
  {
   "cell_type": "code",
   "execution_count": 17,
   "metadata": {},
   "outputs": [],
   "source": [
    "L_D = []\n",
    "for year in years_cit:\n",
    "    df = citations[citations['time'] == year][['publication_id', 'publication_id_cited']]\n",
    "    A = nx.Graph()\n",
    "    A.add_edges_from(df.values)\n",
    "    L_D.append(A)"
   ]
  },
  {
   "cell_type": "code",
   "execution_count": 18,
   "metadata": {},
   "outputs": [],
   "source": [
    "L_n = []\n",
    "L_m = []\n",
    "L_n_lcc = []\n",
    "L_m_lcc = []\n",
    "for i in range(0, len(L_D)):\n",
    "    L_n.append(L_D[i].number_of_nodes())\n",
    "    L_m.append(L_D[i].number_of_edges())\n",
    "    L_n_lcc.append(lcc(L_D[i]).number_of_nodes())\n",
    "    L_m_lcc.append(lcc(L_D[i]).number_of_edges())"
   ]
  },
  {
   "cell_type": "markdown",
   "metadata": {},
   "source": [
    "#### Graph Densification"
   ]
  },
  {
   "cell_type": "code",
   "execution_count": 19,
   "metadata": {},
   "outputs": [],
   "source": [
    "densification = pd.DataFrame({'year': years_cit, 'nodes': L_n, 'edges': L_m})"
   ]
  },
  {
   "cell_type": "code",
   "execution_count": 20,
   "metadata": {},
   "outputs": [],
   "source": [
    "densification = densification[densification['edges'] > 0]"
   ]
  },
  {
   "cell_type": "code",
   "execution_count": 21,
   "metadata": {},
   "outputs": [],
   "source": [
    "from sklearn.decomposition import PCA"
   ]
  },
  {
   "cell_type": "code",
   "execution_count": 22,
   "metadata": {},
   "outputs": [],
   "source": [
    "A_densification = np.column_stack((densification['nodes'], densification['edges']))"
   ]
  },
  {
   "cell_type": "code",
   "execution_count": 23,
   "metadata": {},
   "outputs": [],
   "source": [
    "A_densification_log10 = np.log10(A_densification)\n",
    "pca = PCA(n_components = 2)\n",
    "pca.fit(A_densification_log10)\n",
    "beta = pca.components_[0, 1]/pca.components_[0, 0]\n",
    "d = 10**(pca.mean_[1]-pca.mean_[0]*beta)"
   ]
  },
  {
   "cell_type": "code",
   "execution_count": 24,
   "metadata": {},
   "outputs": [
    {
     "data": {
      "text/plain": [
       "1.1902853175244859"
      ]
     },
     "execution_count": 24,
     "metadata": {},
     "output_type": "execute_result"
    }
   ],
   "source": [
    "beta"
   ]
  },
  {
   "cell_type": "code",
   "execution_count": 25,
   "metadata": {},
   "outputs": [],
   "source": [
    "xfit = np.arange(1, max(A_densification[:, 0]))\n",
    "yfit = d*xfit**beta"
   ]
  },
  {
   "cell_type": "code",
   "execution_count": 26,
   "metadata": {},
   "outputs": [
    {
     "data": {
      "image/png": "[encoded data removed]",
      "text/plain": [
       "<Figure size 432x288 with 1 Axes>"
      ]
     },
     "metadata": {
      "needs_background": "light"
     },
     "output_type": "display_data"
    }
   ],
   "source": [
    "plt.scatter(densification['nodes'], densification['edges'])\n",
    "plt.plot(xfit, yfit)\n",
    "plt.xscale('log')\n",
    "plt.yscale('log')"
   ]
  }
 ],
 "metadata": {
  "kernelspec": {
   "display_name": "Python 3",
   "language": "python",
   "name": "python3"
  },
  "language_info": {
   "codemirror_mode": {
    "name": "ipython",
    "version": 3
   },
   "file_extension": ".py",
   "mimetype": "text/x-python",
   "name": "python",
   "nbconvert_exporter": "python",
   "pygments_lexer": "ipython3",
   "version": "3.7.3"
  }
 },
 "nbformat": 4,
 "nbformat_minor": 2
}
