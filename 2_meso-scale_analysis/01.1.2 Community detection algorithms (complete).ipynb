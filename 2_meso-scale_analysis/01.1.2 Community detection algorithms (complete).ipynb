{
 "cells": [
  {
   "cell_type": "markdown",
   "metadata": {},
   "source": [
    "**39\\. Methodenseminar - Big Data Module II: Introduction to Social Network Science with Python**\n",
    "\n",
    "# Community detection algorithms\n",
    "\n",
    "**Author**: <a href='https://marcosoliveira.info/'>Marcos Oliveira</a>, GESIS - Leibniz Institute for the Social Sciences\n",
    "\n",
    "**Version**: 29 May 2019\n",
    "\n",
    "**Description**: This is an introduction to community detection in Python using the <code>networkx</code> library. \n",
    "    \n",
    "## Imports and Settings"
   ]
  },
  {
   "cell_type": "code",
   "execution_count": null,
   "metadata": {},
   "outputs": [],
   "source": [
    "import matplotlib.pyplot as plt\n",
    "import numpy as np\n",
    "import pandas as pd"
   ]
  },
  {
   "cell_type": "code",
   "execution_count": null,
   "metadata": {},
   "outputs": [],
   "source": [
    "import networkx as nx"
   ]
  },
  {
   "cell_type": "code",
   "execution_count": null,
   "metadata": {},
   "outputs": [],
   "source": [
    "import community as louvain\n",
    "from community import modularity"
   ]
  },
  {
   "cell_type": "markdown",
   "metadata": {},
   "source": [
    "<div class=\"alert alert-danger\">\n",
    "    You need the <code>python-louvain</code> library in your machine. This <a href=https://github.com/taynaud/python-louvain>page</a> might help you.\n",
    "</div>"
   ]
  },
  {
   "cell_type": "code",
   "execution_count": null,
   "metadata": {},
   "outputs": [],
   "source": [
    "from itertools import cycle\n",
    "def color_cycle():\n",
    "    \"\"\"\n",
    "        This is a cycle of colors.\n",
    "    \"\"\"\n",
    "    colors = ['#a6cee3','#1f78b4','#b2df8a','#33a02c','#fb9a99','#e31a1c','#fdbf6f','#ff7f00','#cab2d6']\n",
    "    return cycle(colors)\n",
    "colors = color_cycle()\n",
    "\n",
    "def to_community_list(node_community_dict):\n",
    "    \"\"\"\n",
    "        This transforms {0: 0, 1: 1:, 2: 0, 3: 1} into [[0, 2], [1, 3]].\n",
    "    \"\"\"\n",
    "    partition_dict = {}\n",
    "    for v, k in zip(node_community_dict.keys(), node_community_dict.values()):\n",
    "        if k not in partition_dict:\n",
    "            partition_dict[k] = []\n",
    "        partition_dict[k].append(v)\n",
    "    return list(partition_dict.values())"
   ]
  },
  {
   "cell_type": "markdown",
   "metadata": {},
   "source": [
    "# Community detection"
   ]
  },
  {
   "cell_type": "code",
   "execution_count": null,
   "metadata": {},
   "outputs": [],
   "source": [
    "network = nx.karate_club_graph()"
   ]
  },
  {
   "cell_type": "code",
   "execution_count": null,
   "metadata": {},
   "outputs": [],
   "source": [
    "plt.figure(figsize=(8, 8)) \n",
    "pos = nx.spring_layout(network, seed=10, iterations=5000)\n",
    "nx.draw_networkx_nodes(network, pos=pos, node_size=150, node_color='#e41a1c')\n",
    "nx.draw_networkx_edges(network, pos, width=1.0, alpha=0.8)\n",
    "nx.draw_networkx_labels(\n",
    "    network, pos, \n",
    "    font_size=9)\n",
    "plt.axis('off')\n",
    "plt.show()"
   ]
  },
  {
   "cell_type": "markdown",
   "metadata": {},
   "source": [
    "Let's guess the communities in this network."
   ]
  },
  {
   "cell_type": "code",
   "execution_count": null,
   "metadata": {},
   "outputs": [],
   "source": [
    "eye_communities = {0: [0, 1, 3, 7, 11, 12, 17, 21, 4, 5, 6, 10, 16,],\n",
    "                   1: [2, 19, 13, 9, 8, 14, 15, 18, 20, 22, 26, 29, 30, 32, 33, 23, 24, 25, 27, 28, 31]}\n",
    "# eye_communities = {}"
   ]
  },
  {
   "cell_type": "code",
   "execution_count": null,
   "metadata": {},
   "outputs": [],
   "source": [
    "plt.figure(figsize=(6, 6)) \n",
    "for p in eye_communities:\n",
    "    nx.draw_networkx_nodes(network, nodelist=eye_communities[p], pos=pos, node_size=200, node_color=next(colors))\n",
    "nx.draw_networkx_edges(network, pos=pos, width=1.0, alpha=0.4)\n",
    "nx.draw_networkx_labels(network, pos, font_size=9)\n",
    "\n",
    "plt.axis('off')\n",
    "plt.show()"
   ]
  },
  {
   "cell_type": "markdown",
   "metadata": {},
   "source": [
    "## Modularity"
   ]
  },
  {
   "cell_type": "markdown",
   "metadata": {},
   "source": [
    "Let's measure the modularity of this guess.\n",
    "\n",
    "$$Q = \\dfrac{1}{2m}\\sum_{ij}\\left(A_{ij} - \\dfrac{k_ik_j}{2m}\\right)\\delta(x_i, x_j)$$"
   ]
  },
  {
   "cell_type": "code",
   "execution_count": null,
   "metadata": {},
   "outputs": [],
   "source": [
    "eye_modularity = nx.algorithms.community.quality.modularity(network, list(eye_communities.values())) \n",
    "eye_modularity"
   ]
  },
  {
   "cell_type": "markdown",
   "metadata": {},
   "source": [
    "How an actual random case would be?"
   ]
  },
  {
   "cell_type": "code",
   "execution_count": null,
   "metadata": {},
   "outputs": [],
   "source": [
    "random_nodes = list(network.nodes)\n",
    "np.random.shuffle(random_nodes)\n",
    "random_communities = {0: random_nodes[:len(random_nodes)//2], 1: random_nodes[len(random_nodes)//2:]}"
   ]
  },
  {
   "cell_type": "code",
   "execution_count": null,
   "metadata": {},
   "outputs": [],
   "source": [
    "plt.figure(figsize=(6, 6)) \n",
    "for p in random_communities:\n",
    "    nx.draw_networkx_nodes(network, nodelist=random_communities[p], pos=pos, node_size=200, node_color=next(colors))\n",
    "nx.draw_networkx_edges(network, pos=pos, width=1.0, alpha=0.4)\n",
    "nx.draw_networkx_labels(network, pos, font_size=9)\n",
    "\n",
    "plt.axis('off')\n",
    "plt.show()"
   ]
  },
  {
   "cell_type": "code",
   "execution_count": null,
   "metadata": {},
   "outputs": [],
   "source": [
    "random_modularity = nx.algorithms.community.quality.modularity(network, list(random_communities.values())) \n",
    "random_modularity"
   ]
  },
  {
   "cell_type": "markdown",
   "metadata": {},
   "source": [
    "Modularity provides us a way to find the commmunities in the network."
   ]
  },
  {
   "cell_type": "markdown",
   "metadata": {},
   "source": [
    "## Community detection algorithms\n",
    "\n",
    "### Modularity maximization: Clauset-Newman-Moore"
   ]
  },
  {
   "cell_type": "code",
   "execution_count": null,
   "metadata": {},
   "outputs": [],
   "source": [
    "greedy_communities = nx.algorithms.community.greedy_modularity_communities(network)"
   ]
  },
  {
   "cell_type": "code",
   "execution_count": null,
   "metadata": {},
   "outputs": [],
   "source": [
    "plt.figure(figsize=(6, 6)) \n",
    "for nodes in greedy_communities:\n",
    "    nx.draw_networkx_nodes(network, nodelist=nodes, pos=pos, node_size=200, node_color=next(colors))\n",
    "nx.draw_networkx_edges(network, pos=pos, width=1.0, alpha=0.4)\n",
    "nx.draw_networkx_labels(network, pos, font_size=9)\n",
    "plt.axis('off')\n",
    "plt.show()"
   ]
  },
  {
   "cell_type": "code",
   "execution_count": null,
   "metadata": {},
   "outputs": [],
   "source": [
    "greedy_modularity = nx.algorithms.community.quality.modularity(network, greedy_communities) \n",
    "greedy_modularity"
   ]
  },
  {
   "cell_type": "markdown",
   "metadata": {},
   "source": [
    "### Modularity maximization: the Louvain method\n",
    "\n",
    "The Louvain method is a quite fast community detection algorithm based on modularity maximization.\n",
    "\n",
    "> Blondel, V. D., Guillaume, J. L., Lambiotte, R., & Lefebvre, E. (2008). Fast unfolding of communities in large networks. Journal of statistical mechanics: theory and experiment, 2008(10), P10008."
   ]
  },
  {
   "cell_type": "code",
   "execution_count": null,
   "metadata": {},
   "outputs": [],
   "source": [
    "communities_louvain = louvain.best_partition(network)\n",
    "communities_louvain = to_community_list(communities_louvain)"
   ]
  },
  {
   "cell_type": "code",
   "execution_count": null,
   "metadata": {},
   "outputs": [],
   "source": [
    "plt.figure(figsize=(6, 6)) \n",
    "for nodes in communities_louvain:\n",
    "    nx.draw_networkx_nodes(network, nodelist=nodes, pos=pos, node_size=200, node_color=next(colors))\n",
    "nx.draw_networkx_edges(network, pos=pos, width=1.0, alpha=0.4)\n",
    "nx.draw_networkx_labels(network, pos, font_size=9)\n",
    "\n",
    "plt.axis('off')\n",
    "plt.show()"
   ]
  },
  {
   "cell_type": "code",
   "execution_count": null,
   "metadata": {},
   "outputs": [],
   "source": [
    "louvain_modularity = nx.algorithms.community.quality.modularity(network, communities_louvain) \n",
    "louvain_modularity"
   ]
  },
  {
   "cell_type": "markdown",
   "metadata": {},
   "source": [
    "We can also adjust the size of the communities with the resolution parameter. "
   ]
  },
  {
   "cell_type": "code",
   "execution_count": null,
   "metadata": {},
   "outputs": [],
   "source": [
    "communities_louvain = louvain.best_partition(network, resolution=0.7)\n",
    "communities_louvain = to_community_list(communities_louvain)\n",
    "plt.figure(figsize=(6, 6)) \n",
    "for nodes in communities_louvain:\n",
    "    nx.draw_networkx_nodes(network, nodelist=nodes, pos=pos, node_size=200, node_color=next(colors))\n",
    "nx.draw_networkx_edges(network, pos=pos, width=1.0, alpha=0.4)\n",
    "nx.draw_networkx_labels(network, pos, font_size=9)\n",
    "\n",
    "plt.axis('off')\n",
    "plt.show()"
   ]
  },
  {
   "cell_type": "markdown",
   "metadata": {},
   "source": [
    "## Other approaches \n",
    "### Centrality-based: Girvan-Newman\n",
    "\n"
   ]
  },
  {
   "cell_type": "code",
   "execution_count": null,
   "metadata": {},
   "outputs": [],
   "source": [
    "centrality_based_communities = nx.algorithms.community.girvan_newman(network)\n",
    "centrality_based_communities = list(list(c) for c in next(centrality_based_communities))"
   ]
  },
  {
   "cell_type": "code",
   "execution_count": null,
   "metadata": {},
   "outputs": [],
   "source": [
    "plt.figure(figsize=(6, 6)) \n",
    "for nodes in centrality_based_communities:\n",
    "    nx.draw_networkx_nodes(network, nodelist=nodes, pos=pos, node_size=200, node_color=next(colors))\n",
    "nx.draw_networkx_edges(network, pos=pos, width=1.0, alpha=0.4)\n",
    "nx.draw_networkx_labels(network, pos, font_size=9)\n",
    "plt.axis('off')\n",
    "plt.show()"
   ]
  },
  {
   "cell_type": "code",
   "execution_count": null,
   "metadata": {},
   "outputs": [],
   "source": [
    "centrality_based_modularity = nx.algorithms.community.quality.modularity(network, centrality_based_communities) \n",
    "centrality_based_modularity"
   ]
  },
  {
   "cell_type": "markdown",
   "metadata": {},
   "source": [
    "### Label propagation"
   ]
  },
  {
   "cell_type": "code",
   "execution_count": null,
   "metadata": {},
   "outputs": [],
   "source": [
    "label_propagation_communities = nx.algorithms.community.label_propagation_communities(network)\n",
    "label_propagation_communities = list(list(c) for c in label_propagation_communities)"
   ]
  },
  {
   "cell_type": "code",
   "execution_count": null,
   "metadata": {},
   "outputs": [],
   "source": [
    "plt.figure(figsize=(6, 6)) \n",
    "for nodes in label_propagation_communities:\n",
    "    nx.draw_networkx_nodes(network, nodelist=nodes, pos=pos, node_size=200, node_color=next(colors))\n",
    "nx.draw_networkx_edges(network, pos=pos, width=1.0, alpha=0.4)\n",
    "nx.draw_networkx_labels(network, pos, font_size=9)\n",
    "plt.axis('off')\n",
    "plt.show()"
   ]
  },
  {
   "cell_type": "code",
   "execution_count": null,
   "metadata": {},
   "outputs": [],
   "source": [
    "label_propagation_modularity = nx.algorithms.community.quality.modularity(network, centrality_based_communities) \n",
    "label_propagation_modularity"
   ]
  },
  {
   "cell_type": "markdown",
   "metadata": {},
   "source": [
    "## Comparing methods"
   ]
  },
  {
   "cell_type": "code",
   "execution_count": null,
   "metadata": {},
   "outputs": [],
   "source": [
    "plt.figure(figsize=(4, 2))\n",
    "plt.bar(range(6), [random_modularity, \n",
    "                   eye_modularity, \n",
    "                   centrality_based_modularity, \n",
    "                   label_propagation_modularity,\n",
    "                   greedy_modularity,\n",
    "                   louvain_modularity],\n",
    "        width=0.7, edgecolor='k')\n",
    "plt.xticks(range(6), ['Random', 'Eyes', 'GN', 'LP', 'CNM', 'Louvain']);\n",
    "plt.ylabel(r'Modularity');\n",
    "plt.xlabel('Algorithms');"
   ]
  },
  {
   "cell_type": "markdown",
   "metadata": {},
   "source": [
    "## Other measures"
   ]
  },
  {
   "cell_type": "markdown",
   "metadata": {},
   "source": [
    "### Performance\n",
    "The *performance* of a partition refers to the ratio between the number of connections inside the communities plus the non-edges between communities and the total number of potential edges. In a graph, a non-edge a pair of nodes that are not adjacent. \n",
    "\n",
    "* `nx.algorithms.community.quality.intra_community_edges` gives us the number of intra-community edges.\n",
    "* `nx.algorithms.community.quality.inter_community_edges` gives us the number of inter-community edges.\n",
    "* `nx.algorithms.community.quality.inter_community_non_edges` gives us the number of intra-community non-edges."
   ]
  },
  {
   "cell_type": "code",
   "execution_count": null,
   "metadata": {},
   "outputs": [],
   "source": [
    "# intra_community_edges "
   ]
  },
  {
   "cell_type": "code",
   "execution_count": null,
   "metadata": {},
   "outputs": [],
   "source": [
    "# inter_community_non_edges "
   ]
  },
  {
   "cell_type": "code",
   "execution_count": null,
   "metadata": {},
   "outputs": [],
   "source": [
    "# n"
   ]
  },
  {
   "cell_type": "code",
   "execution_count": null,
   "metadata": {},
   "outputs": [],
   "source": [
    "# (intra_community_edges + inter_community_non_edges)/(n*(n - 1)/2)"
   ]
  },
  {
   "cell_type": "code",
   "execution_count": null,
   "metadata": {},
   "outputs": [],
   "source": [
    "nx.algorithms.community.quality.performance(network, centrality_based_communities) "
   ]
  },
  {
   "cell_type": "markdown",
   "metadata": {},
   "source": [
    "### Coverage\n",
    "The *coverage* of a partition refers to the ratio of the number of intra-community edges and the total number of edges."
   ]
  },
  {
   "cell_type": "code",
   "execution_count": null,
   "metadata": {},
   "outputs": [],
   "source": [
    "# intra_community_edges / network.number_of_edges()"
   ]
  },
  {
   "cell_type": "code",
   "execution_count": null,
   "metadata": {},
   "outputs": [],
   "source": [
    "nx.algorithms.community.quality.coverage(network, centrality_based_communities) "
   ]
  },
  {
   "cell_type": "markdown",
   "metadata": {},
   "source": [
    "## Limits of modularity \n",
    "\n",
    "\n",
    "### Modularity maxima\n",
    "\n",
    "- There are many close-to-optimal partitions.\n",
    "\n",
    "### Resolution limit\n",
    "If $k_A$ and $k_A$ are under the threshold $k\\leq \\sqrt{2L}$, the expected number of links between them is smaller than one. \n",
    "\n",
    "- Modularity maximization cannot detect communities that are smaller than the resolution limit.\n"
   ]
  },
  {
   "cell_type": "code",
   "execution_count": null,
   "metadata": {},
   "outputs": [],
   "source": [
    "def create_clique_ring(n_cliques, clique_size):\n",
    "    number_of_nodes = n_cliques*clique_size\n",
    "    many_cliques = nx.Graph()\n",
    "    many_cliques.add_nodes_from(range(number_of_nodes))\n",
    "    # create n cliques\n",
    "    for k in range(n_cliques):\n",
    "        for i in range(k*clique_size, (k + 1)*clique_size):\n",
    "            for j in range(k*clique_size, (k + 1)*clique_size):\n",
    "                many_cliques.add_edge(i, j)\n",
    "    # add connection between cliques\n",
    "    between_cliques = [((k+1)*clique_size - 1, ((k+1)*clique_size) % number_of_nodes) for k in range(n_cliques)]\n",
    "    many_cliques.add_edges_from(between_cliques)\n",
    "    return many_cliques"
   ]
  },
  {
   "cell_type": "code",
   "execution_count": null,
   "metadata": {},
   "outputs": [],
   "source": [
    "n_cliques, clique_size = 3, 4\n",
    "clique_ring = create_clique_ring(n_cliques, clique_size)\n",
    "\n",
    "plt.figure(figsize=(6, 6)) \n",
    "pos_ = nx.spring_layout(clique_ring, seed=10, iterations=5000)\n",
    "nx.draw_networkx_nodes(clique_ring, pos=pos_,node_size=200, node_color=\"gray\")\n",
    "nx.draw_networkx_edges(clique_ring, pos=pos_, width=1.0, alpha=0.4)\n",
    "nx.draw_networkx_labels(clique_ring, pos_, font_size=9)\n",
    "plt.axis('off')\n",
    "plt.show()"
   ]
  },
  {
   "cell_type": "code",
   "execution_count": null,
   "metadata": {},
   "outputs": [],
   "source": [
    "clique_size*(clique_size - 1) + 2, np.sqrt(2*clique_ring.number_of_edges())"
   ]
  },
  {
   "cell_type": "code",
   "execution_count": null,
   "metadata": {},
   "outputs": [],
   "source": [
    "greedy_cliques = nx.algorithms.community.greedy_modularity_communities(clique_ring)"
   ]
  },
  {
   "cell_type": "code",
   "execution_count": null,
   "metadata": {},
   "outputs": [],
   "source": [
    "plt.figure(figsize=(6, 6)) \n",
    "pos_ = nx.spring_layout(clique_ring, seed=10, iterations=5000)\n",
    "for nodes in greedy_cliques:\n",
    "    nx.draw_networkx_nodes(clique_ring, nodelist=nodes, pos=pos_,node_size=200, node_color=next(colors))\n",
    "nx.draw_networkx_edges(clique_ring, pos=pos_, width=1.0, alpha=0.4)\n",
    "nx.draw_networkx_labels(clique_ring, pos_, font_size=9)\n",
    "plt.axis('off')\n",
    "plt.show()"
   ]
  },
  {
   "cell_type": "code",
   "execution_count": null,
   "metadata": {},
   "outputs": [],
   "source": [
    "n_cliques, clique_size = 35, 5\n",
    "clique_ring = create_clique_ring(n_cliques, clique_size)"
   ]
  },
  {
   "cell_type": "code",
   "execution_count": null,
   "metadata": {},
   "outputs": [],
   "source": [
    "plt.figure(figsize=(9, 9)) \n",
    "pos_ = nx.spring_layout(clique_ring, seed=10, iterations=5000)\n",
    "nx.draw_networkx_nodes(clique_ring, pos=pos_,node_size=50, node_color=\"gray\")\n",
    "nx.draw_networkx_edges(clique_ring, pos=pos_, width=1.0, alpha=0.4)\n",
    "plt.axis('off')\n",
    "plt.show()"
   ]
  },
  {
   "cell_type": "code",
   "execution_count": null,
   "metadata": {},
   "outputs": [],
   "source": [
    "clique_size*(clique_size - 1) + 2, np.sqrt(2*clique_ring.number_of_edges())"
   ]
  },
  {
   "cell_type": "code",
   "execution_count": null,
   "metadata": {},
   "outputs": [],
   "source": [
    "greedy_cliques = nx.algorithms.community.greedy_modularity_communities(clique_ring)"
   ]
  },
  {
   "cell_type": "code",
   "execution_count": null,
   "metadata": {},
   "outputs": [],
   "source": [
    "plt.figure(figsize=(9, 9)) \n",
    "pos_ = nx.spring_layout(clique_ring, seed=10, iterations=5000)\n",
    "for nodes in greedy_cliques:\n",
    "    nx.draw_networkx_nodes(clique_ring, nodelist=nodes, pos=pos_,node_size=25, node_color=next(colors))\n",
    "nx.draw_networkx_edges(clique_ring, pos=pos_, width=1.0, alpha=0.4)\n",
    "plt.axis('off')\n",
    "plt.show()"
   ]
  }
 ],
 "metadata": {
  "kernelspec": {
   "display_name": "Python 3",
   "language": "python",
   "name": "python3"
  },
  "language_info": {
   "codemirror_mode": {
    "name": "ipython",
    "version": 3
   },
   "file_extension": ".py",
   "mimetype": "text/x-python",
   "name": "python",
   "nbconvert_exporter": "python",
   "pygments_lexer": "ipython3",
   "version": "3.7.1"
  }
 },
 "nbformat": 4,
 "nbformat_minor": 2
}
