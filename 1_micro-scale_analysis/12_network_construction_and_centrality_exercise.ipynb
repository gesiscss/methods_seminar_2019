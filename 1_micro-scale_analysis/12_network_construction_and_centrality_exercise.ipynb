{
 "cells": [
  {
   "cell_type": "markdown",
   "metadata": {},
   "source": [
    "### 39. Methodenseminar\n",
    "## Big Data Module II: Introduction to Social Network Science with Python\n",
    "# 1.2 Network Construction and Centrality (Exercise)\n",
    "**Author**: <a href='https://www.gesis.org/person/haiko.lietz'>Haiko Lietz</a>, GESIS - Leibniz Institute for the Social Sciences\n",
    "\n",
    "**Date**: 15 July 2019\n",
    "\n",
    "**Library versions**: ``networkx`` 2.2 ([documentation](https://networkx.github.io/documentation/))"
   ]
  },
  {
   "cell_type": "markdown",
   "metadata": {},
   "source": [
    "***"
   ]
  },
  {
   "cell_type": "markdown",
   "metadata": {},
   "source": [
    "## The BTW13 Dataset\n",
    "<img src='images/model_btw13.png'>\n",
    "Study this dataset using your own research questions or work through the exercises."
   ]
  },
  {
   "cell_type": "markdown",
   "metadata": {},
   "source": [
    "## Exercise 1\n",
    "This is an exercise that does not require any network construction. Some relational analyses are just counting.\n",
    "#### Who are the most followed politicians?\n",
    "To answer this question, transform and combine the ``follow`` and ``users`` tables using ``pandas``."
   ]
  },
  {
   "cell_type": "code",
   "execution_count": null,
   "metadata": {},
   "outputs": [],
   "source": []
  },
  {
   "cell_type": "markdown",
   "metadata": {},
   "source": [
    "## Exercise 2\n",
    "This is a network exercise in centrality analysis and plotting. \n",
    "#### Plot and compare the follower, weighted retweet, and weighted mention graphs.\n",
    "Color nodes according to party, and size nodes using a centrality index of interest. Use Kamada-Kawai layouting as Fruchterman-Reingold takes much longer."
   ]
  },
  {
   "cell_type": "code",
   "execution_count": 8,
   "metadata": {},
   "outputs": [],
   "source": [
    "parties_colors = {0: '#000000', 1: '#000000', 2: '#4daf4a', 3: '#984ea3', 4: '#ffff33', 5: '#ff7f00', 6: '#e41a1c'}"
   ]
  },
  {
   "cell_type": "code",
   "execution_count": null,
   "metadata": {},
   "outputs": [],
   "source": []
  },
  {
   "cell_type": "markdown",
   "metadata": {},
   "source": [
    "## Exercise 3\n",
    "Now that we know some basic patterns in the social networks, let's take a look at the semantic meaning that structures the politicians' communications.\n",
    "#### Plot the hashtag co-transaction network.\n",
    "Restrict the network to the 40 most frequently used hashtags."
   ]
  },
  {
   "cell_type": "code",
   "execution_count": null,
   "metadata": {},
   "outputs": [],
   "source": []
  },
  {
   "cell_type": "markdown",
   "metadata": {},
   "source": [
    "## Exercise 4\n",
    "This plot of exercise 3 does not yet reveal how parties differ in their communication.\n",
    "#### Color the link communities.\n",
    "To do so, copy the ``plot_fact_graph()`` function of section 1.2.4.4 in the demo and adapt it to your needs."
   ]
  },
  {
   "cell_type": "code",
   "execution_count": null,
   "metadata": {},
   "outputs": [],
   "source": []
  }
 ],
 "metadata": {
  "kernelspec": {
   "display_name": "Python 3",
   "language": "python",
   "name": "python3"
  },
  "language_info": {
   "codemirror_mode": {
    "name": "ipython",
    "version": 3
   },
   "file_extension": ".py",
   "mimetype": "text/x-python",
   "name": "python",
   "nbconvert_exporter": "python",
   "pygments_lexer": "ipython3",
   "version": "3.7.3"
  }
 },
 "nbformat": 4,
 "nbformat_minor": 2
}
