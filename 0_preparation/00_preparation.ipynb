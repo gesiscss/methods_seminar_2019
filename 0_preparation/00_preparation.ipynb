{
 "cells": [
  {
   "cell_type": "markdown",
   "metadata": {},
   "source": [
    "Version: 6 May 2019\n",
    "## 39. Methodenseminar\n",
    "# Big Data Module II: Introduction to Social Network Science with Python\n",
    "## Pre-Course Preparation\n",
    "Congratulations, you have successfully started Anaconda and opened this Jupyter Notebook. You're now ready to do analyses with a large number of pre-installed packages.\n",
    "### Getting Acquainted to Notebooks\n",
    "The cell you're currently looking at is a \"Markdown\" cell. it is used to write text. Double click on this cell to see the markdown code. You will see that (multiple) hash keys are used to create headlines.\n",
    "\n",
    "You can display maths $a^2+b^2=c^2$ in text, equations\n",
    "\n",
    "\\begin{equation}\n",
    "p(x)=Cx^{-\\alpha},\n",
    "\\end{equation}\n",
    "\n",
    "tables\n",
    "\n",
    "| This | is |\n",
    "|-|-|\n",
    "| a | table|\n",
    "\n",
    "and images.\n",
    "\n",
    "<img src=\"images/jupyter.jpg\" width=\"963\" height=\"292\"/>\n",
    "\n",
    "To switch back from code to display, \"run\" the cell, either by clicking the \"Run\" button above or by pushing \"Shift-Enter\".\n",
    "\n",
    "There are many great keyboard shortcuts. Press \"h\" to see a list of shortcuts.\n",
    "\n",
    "New cells are created by pushing the \"+\" button. New cells are automatically computer \"Code\" cells."
   ]
  },
  {
   "cell_type": "code",
   "execution_count": 1,
   "metadata": {},
   "outputs": [
    {
     "data": {
      "text/plain": [
       "'Hello Anaconda'"
      ]
     },
     "execution_count": 1,
     "metadata": {},
     "output_type": "execute_result"
    }
   ],
   "source": [
    "'Hello Anaconda'"
   ]
  },
  {
   "cell_type": "code",
   "execution_count": 2,
   "metadata": {},
   "outputs": [],
   "source": [
    "s = 'Hello Anaconda'"
   ]
  },
  {
   "cell_type": "code",
   "execution_count": 3,
   "metadata": {},
   "outputs": [
    {
     "data": {
      "text/plain": [
       "'Hello Anaconda'"
      ]
     },
     "execution_count": 3,
     "metadata": {},
     "output_type": "execute_result"
    }
   ],
   "source": [
    "s"
   ]
  },
  {
   "cell_type": "code",
   "execution_count": 4,
   "metadata": {},
   "outputs": [
    {
     "name": "stdout",
     "output_type": "stream",
     "text": [
      "Hello Anaconda\n"
     ]
    }
   ],
   "source": [
    "print(s)"
   ]
  },
  {
   "cell_type": "markdown",
   "metadata": {},
   "source": [
    "### Importing Packages\n",
    "The Anaconda distribution of Python is handy because it comes with many pre-installed code packages. In principle, such modules or libraries are activated with the ``import`` command:"
   ]
  },
  {
   "cell_type": "code",
   "execution_count": 5,
   "metadata": {},
   "outputs": [],
   "source": [
    "import math"
   ]
  },
  {
   "cell_type": "code",
   "execution_count": 6,
   "metadata": {},
   "outputs": [
    {
     "data": {
      "text/plain": [
       "1.0"
      ]
     },
     "execution_count": 6,
     "metadata": {},
     "output_type": "execute_result"
    }
   ],
   "source": [
    "math.log10(10)"
   ]
  },
  {
   "cell_type": "markdown",
   "metadata": {},
   "source": [
    "Sometimes you will want to use a short name for a package:"
   ]
  },
  {
   "cell_type": "code",
   "execution_count": 7,
   "metadata": {},
   "outputs": [],
   "source": [
    "import math as mt"
   ]
  },
  {
   "cell_type": "code",
   "execution_count": 8,
   "metadata": {},
   "outputs": [
    {
     "data": {
      "text/plain": [
       "1.0"
      ]
     },
     "execution_count": 8,
     "metadata": {},
     "output_type": "execute_result"
    }
   ],
   "source": [
    "mt.log10(10)"
   ]
  },
  {
   "cell_type": "markdown",
   "metadata": {},
   "source": [
    "Note that you have to type the module name (``math`` or ``mt``) before each function call. You can also import a specific function of a module. Then the explicit call is not necessary:"
   ]
  },
  {
   "cell_type": "code",
   "execution_count": 9,
   "metadata": {},
   "outputs": [],
   "source": [
    "from math import log10"
   ]
  },
  {
   "cell_type": "code",
   "execution_count": 10,
   "metadata": {},
   "outputs": [
    {
     "data": {
      "text/plain": [
       "1.0"
      ]
     },
     "execution_count": 10,
     "metadata": {},
     "output_type": "execute_result"
    }
   ],
   "source": [
    "log10(10)"
   ]
  },
  {
   "cell_type": "markdown",
   "metadata": {},
   "source": [
    "Now that you know the basics of importing, make sure that the pre-installed packages work. NumPy, Pandas, and NetworkX are the main ones we will be using in the course. Make sure those work."
   ]
  },
  {
   "cell_type": "markdown",
   "metadata": {},
   "source": [
    "#### NumPy\n",
    "NumPy is the fundamental package for scientific computing with Python. Information and tutorials [here](http://www.numpy.org/)."
   ]
  },
  {
   "cell_type": "code",
   "execution_count": 11,
   "metadata": {},
   "outputs": [],
   "source": [
    "import numpy as np"
   ]
  },
  {
   "cell_type": "markdown",
   "metadata": {},
   "source": [
    "An example command:"
   ]
  },
  {
   "cell_type": "code",
   "execution_count": 12,
   "metadata": {},
   "outputs": [
    {
     "data": {
      "text/plain": [
       "[1, 2, 3, nan, 5, nan, nan, 8]"
      ]
     },
     "execution_count": 12,
     "metadata": {},
     "output_type": "execute_result"
    }
   ],
   "source": [
    "a = [1, 2, 3, np.nan, 5, np.nan, np.nan, 8]\n",
    "a"
   ]
  },
  {
   "cell_type": "code",
   "execution_count": 13,
   "metadata": {},
   "outputs": [
    {
     "data": {
      "text/plain": [
       "nan"
      ]
     },
     "execution_count": 13,
     "metadata": {},
     "output_type": "execute_result"
    }
   ],
   "source": [
    "np.mean(a)"
   ]
  },
  {
   "cell_type": "markdown",
   "metadata": {},
   "source": [
    "#### Pandas\n",
    "Pandas provides data structures and data analysis tools. Information and tutorials [here](http://pandas.pydata.org/)."
   ]
  },
  {
   "cell_type": "code",
   "execution_count": 14,
   "metadata": {},
   "outputs": [],
   "source": [
    "import pandas as pd"
   ]
  },
  {
   "cell_type": "code",
   "execution_count": 15,
   "metadata": {},
   "outputs": [
    {
     "data": {
      "text/plain": [
       "0    1.0\n",
       "1    2.0\n",
       "2    3.0\n",
       "3    NaN\n",
       "4    5.0\n",
       "5    NaN\n",
       "6    NaN\n",
       "7    8.0\n",
       "dtype: float64"
      ]
     },
     "execution_count": 15,
     "metadata": {},
     "output_type": "execute_result"
    }
   ],
   "source": [
    "df = pd.Series([1, 2, 3, np.nan, 5, np.nan, np.nan, 8])\n",
    "df"
   ]
  },
  {
   "cell_type": "code",
   "execution_count": 16,
   "metadata": {},
   "outputs": [
    {
     "data": {
      "text/plain": [
       "3.8"
      ]
     },
     "execution_count": 16,
     "metadata": {},
     "output_type": "execute_result"
    }
   ],
   "source": [
    "np.mean(df)"
   ]
  },
  {
   "cell_type": "markdown",
   "metadata": {},
   "source": [
    "#### NetworkX\n",
    "NetworkX is a package for the creation, manipulation, and study of networks. Information and tutorials [here](https://networkx.github.io/)."
   ]
  },
  {
   "cell_type": "code",
   "execution_count": 17,
   "metadata": {},
   "outputs": [],
   "source": [
    "import networkx as nx"
   ]
  },
  {
   "cell_type": "code",
   "execution_count": 18,
   "metadata": {},
   "outputs": [
    {
     "name": "stdout",
     "output_type": "stream",
     "text": [
      "nodes: [3, 1, 2]\n",
      "edges: [(1, 2)]\n"
     ]
    }
   ],
   "source": [
    "g = nx.Graph()\n",
    "g.add_node(3)\n",
    "g.add_edge(1, 2)\n",
    "print('nodes:', list(g.nodes()))\n",
    "print('edges:', list(g.edges()))"
   ]
  },
  {
   "cell_type": "markdown",
   "metadata": {},
   "source": [
    "### Installing Packages\n",
    "Even though Anaconda comes with many pre-installed packages, some are missing. The best way to install packages is to call ``conda install package-name`` in the terminal following [this user guide](https://docs.anaconda.com/anaconda/user-guide/tasks/install-packages/). You can open a terminal in the home screen as shown in the above image. However, some packages are not available for installation using ``conda``. In this case, some packages can be installed using ``pip install package-name``. There is an important difference between ``conda`` and ``pip``, particularly regarding environments and dependencies. Learn more about this [here](https://www.anaconda.com/understanding-conda-and-pip/), if interested.\n",
    "#### Powerlaw\n",
    "Powerlaw is a package for the estimation of distribution parameters. Information and tutorials [here](https://github.com/jeffalstott/powerlaw). We'll be using this package in the course. Since it can't be installed using ``conda``, execure ``pip install powerlaw`` in the terminal. Alternatively, you can install packes in a notebook by adding an exclamation mark. If you want to do that, uncomment (remove the hash key) in the following cell:"
   ]
  },
  {
   "cell_type": "code",
   "execution_count": 19,
   "metadata": {},
   "outputs": [],
   "source": [
    "#!pip install powerlaw"
   ]
  },
  {
   "cell_type": "markdown",
   "metadata": {},
   "source": [
    "#### Graph-tool\n",
    "Graph-tool is a powerful module for the manipulation, statistical analysis, and visualization of networks. Information and documentation [here](https://graph-tool.skewed.de/). Graph-tool can't be installed using ``conda`` or ``pip``, but must be installed using Docker, package managers, or manual compilation, following the instructions [here](https://git.skewed.de/count0/graph-tool/wikis/installation-instructions)."
   ]
  },
  {
   "cell_type": "code",
   "execution_count": 20,
   "metadata": {},
   "outputs": [
    {
     "ename": "ModuleNotFoundError",
     "evalue": "No module named 'graph_tool'",
     "output_type": "error",
     "traceback": [
      "\u001b[1;31m---------------------------------------------------------------------------\u001b[0m",
      "\u001b[1;31mModuleNotFoundError\u001b[0m                       Traceback (most recent call last)",
      "\u001b[1;32m<ipython-input-20-8cf026c95734>\u001b[0m in \u001b[0;36m<module>\u001b[1;34m\u001b[0m\n\u001b[1;32m----> 1\u001b[1;33m \u001b[1;32mfrom\u001b[0m \u001b[0mgraph_tool\u001b[0m\u001b[1;33m.\u001b[0m\u001b[0mall\u001b[0m \u001b[1;32mimport\u001b[0m \u001b[1;33m*\u001b[0m\u001b[1;33m\u001b[0m\u001b[1;33m\u001b[0m\u001b[0m\n\u001b[0m",
      "\u001b[1;31mModuleNotFoundError\u001b[0m: No module named 'graph_tool'"
     ]
    }
   ],
   "source": [
    "from graph_tool.all import *"
   ]
  },
  {
   "cell_type": "code",
   "execution_count": null,
   "metadata": {},
   "outputs": [],
   "source": [
    "h = Graph()\n",
    "h.add_vertex(3)\n",
    "h.add_edge(0, 1)\n",
    "print('nodes:', list(h.vertex_index))\n",
    "print('edges:', list(h.edge_index))"
   ]
  },
  {
   "cell_type": "markdown",
   "metadata": {
    "collapsed": true
   },
   "source": [
    "### GESIS Notebooks\n",
    "If you don't succeed installing Graph-tool, you will have the opportunity to work with [GESIS Notebooks](https://notebooks.gesis.org/), a virtual server with Anaconda and all necessary packages already installed. To do so, go to [github.com/gesiscss/methods_seminar_2019](https://github.com/gesiscss/methods_seminar_2019) and click on the \"launch binder\" button.\n",
    "\n",
    "<img src=\"images/github.jpg\" width=\"689\" height=\"482\"/>\n",
    "\n",
    "<font color='red'>Note that GESIS Notebooks are only temporally provided to users. While notebooks and figures can be saved, the virtual server will shut down after a while and all changes will be lost. Therefore, make sure to save your files frequently.</font>"
   ]
  },
  {
   "cell_type": "markdown",
   "metadata": {},
   "source": [
    "### Practicing Python\n",
    "It is highly recommended that you have some experience with Python when entering the course. If you don't have that yet, you can study a few sections of the *Python Data Science Handbook* by Jake VanderPlas, either by\n",
    "\n",
    "- visiting the book's [website](https://jakevdp.github.io/PythonDataScienceHandbook/), clicking on the sections you want to study, and typing the code in a blank local notebook;\n",
    "- visiting the book's [code repository](https://github.com/jakevdp/PythonDataScienceHandbook), cloning or downloading the notebooks, and opening them locally; or\n",
    "- visiting the book's [code repository](https://github.com/jakevdp/PythonDataScienceHandbook) and executing the notebooks on a virtual server (\"launch binder\").\n",
    "\n",
    "We propose that you practice Python by studying sections [1](https://jakevdp.github.io/PythonDataScienceHandbook/02.01-understanding-data-types.html), [2](https://jakevdp.github.io/PythonDataScienceHandbook/02.02-the-basics-of-numpy-arrays.html), [3](https://jakevdp.github.io/PythonDataScienceHandbook/02.03-computation-on-arrays-ufuncs.html) on NumPy, sections [1](https://jakevdp.github.io/PythonDataScienceHandbook/03.01-introducing-pandas-objects.html), [2](https://jakevdp.github.io/PythonDataScienceHandbook/03.02-data-indexing-and-selection.html), [3](https://jakevdp.github.io/PythonDataScienceHandbook/03.03-operations-in-pandas.html) on Pandas, and sections [1](https://jakevdp.github.io/PythonDataScienceHandbook/04.01-simple-line-plots.html), [2](https://jakevdp.github.io/PythonDataScienceHandbook/04.02-simple-scatter-plots.html) on the visualization package Matplotlib."
   ]
  },
  {
   "cell_type": "markdown",
   "metadata": {},
   "source": [
    "### Recommended Textbooks\n",
    "##### Networks\n",
    "Newman, Mark (2018). *Networks: An Introduction*. Oxford University Press, 2nd edition. Rather complete and technical overview of Network Science.\n",
    "\n",
    "Barabási, Albert-Lázló (2016). *Network Science*. Cambridge University Press. Less broad but more readable account of Network Science than Newman's. Can be read [online](http://networksciencebook.com/). Data is [available](http://networksciencebook.com/translations/en/resources/data.html).\n",
    "\n",
    "Zweig, Katharina A. (2016). *Network Analysis Literacy: A Practical Approach to the Analysis of Networks*. Springer. ...\n",
    "\n",
    "Wasserman, Stanley & Katherine Faust (1995). *Social Network Analysis: Methods and Applications*. Cambridge University Press. Dated but still a standard on early work in Social Network Analysis.\n",
    "\n",
    "##### Networks and Python\n",
    "Caldarelli, Guido & Alessandro Chessa (2016). *Data Science & Complex Networks*. Oxford University Press. From the physics perspective. Notebooks are [online](https://github.com/datascienceandcomplexnetworks/book_code).\n",
    "\n"
   ]
  },
  {
   "cell_type": "code",
   "execution_count": null,
   "metadata": {},
   "outputs": [],
   "source": []
  }
 ],
 "metadata": {
  "kernel_info": {
   "name": "python3"
  },
  "kernelspec": {
   "display_name": "Python 3",
   "language": "python",
   "name": "python3"
  },
  "language_info": {
   "codemirror_mode": {
    "name": "ipython",
    "version": 3
   },
   "file_extension": ".py",
   "mimetype": "text/x-python",
   "name": "python",
   "nbconvert_exporter": "python",
   "pygments_lexer": "ipython3",
   "version": "3.7.3"
  },
  "nav_menu": {},
  "nteract": {
   "version": "0.8.4"
  },
  "toc": {
   "navigate_menu": true,
   "number_sections": true,
   "sideBar": true,
   "threshold": 4,
   "toc_cell": false,
   "toc_section_display": "block",
   "toc_window_display": false
  }
 },
 "nbformat": 4,
 "nbformat_minor": 2
}
