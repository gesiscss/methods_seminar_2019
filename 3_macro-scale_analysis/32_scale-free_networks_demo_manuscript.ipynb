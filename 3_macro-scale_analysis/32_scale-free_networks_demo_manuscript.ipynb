{
 "cells": [
  {
   "cell_type": "markdown",
   "metadata": {},
   "source": [
    "### 39. Methodenseminar\n",
    "## Big Data Module II: Introduction to Social Network Science with Python\n",
    "# 3.2 Scale-Free Networks (Demo)\n",
    "**Author**: <a href='https://www.gesis.org/person/haiko.lietz'>Haiko Lietz</a>, GESIS - Leibniz Institute for the Social Sciences\n",
    "\n",
    "**Date**: 17 July 2019\n",
    "\n",
    "**Library versions**: ``networkx`` 2.2 ([documentation](https://networkx.github.io/documentation/))"
   ]
  },
  {
   "cell_type": "markdown",
   "metadata": {},
   "source": [
    "***\n",
    "## Table of Contents\n",
    "#### [3.2.1 Fitting Degree Distributions](#3_2_1)\n",
    "#### [3.2.2 Alternative Distributions](#3_2_2)\n",
    "#### [3.2.3 Plausibility of Power Law Fit](#3_2_3)\n",
    "#### [3.2.4 Citation In Social Network Science](#3_2_4)\n",
    "[3.2.4.1 Fitting the Citation Distribution](#3_2_4_1) |\n",
    "[3.2.4.1 Measuring Preferential Attachment](#3_2_4_2)\n",
    "***"
   ]
  },
  {
   "cell_type": "markdown",
   "metadata": {},
   "source": [
    "## 3.2.1 Fitting Degree Distributions <a name='3_2_1'></a>"
   ]
  },
  {
   "cell_type": "markdown",
   "metadata": {},
   "source": [
    "#### Erdős-Rényi Graph At Phase Transition"
   ]
  },
  {
   "cell_type": "code",
   "execution_count": 1,
   "metadata": {},
   "outputs": [],
   "source": [
    "import networkx as nx"
   ]
  },
  {
   "cell_type": "code",
   "execution_count": 2,
   "metadata": {},
   "outputs": [],
   "source": [
    "ER = nx.gnm_random_graph(n=100000, m=50000)"
   ]
  },
  {
   "cell_type": "code",
   "execution_count": 3,
   "metadata": {},
   "outputs": [],
   "source": [
    "degree_er = [degree for (node, degree) in ER.degree if degree > 0]"
   ]
  },
  {
   "cell_type": "code",
   "execution_count": 4,
   "metadata": {},
   "outputs": [],
   "source": [
    "import powerlaw as pl"
   ]
  },
  {
   "cell_type": "code",
   "execution_count": 5,
   "metadata": {},
   "outputs": [
    {
     "name": "stderr",
     "output_type": "stream",
     "text": [
      "C:\\ProgramData\\Anaconda3\\lib\\site-packages\\powerlaw.py:700: RuntimeWarning: invalid value encountered in true_divide\n",
      "  (Theoretical_CDF * (1 - Theoretical_CDF))\n"
     ]
    }
   ],
   "source": [
    "fit_er = pl.Fit(degree_er, discrete=True, xmin=1) # explore setting xmin=None"
   ]
  },
  {
   "cell_type": "code",
   "execution_count": 6,
   "metadata": {},
   "outputs": [],
   "source": [
    "%matplotlib inline\n",
    "import matplotlib.pyplot as plt"
   ]
  },
  {
   "cell_type": "code",
   "execution_count": 7,
   "metadata": {},
   "outputs": [
    {
     "name": "stderr",
     "output_type": "stream",
     "text": [
      "C:\\ProgramData\\Anaconda3\\lib\\site-packages\\powerlaw.py:700: RuntimeWarning: invalid value encountered in true_divide\n",
      "  (Theoretical_CDF * (1 - Theoretical_CDF))\n"
     ]
    },
    {
     "data": {
      "text/plain": [
       "<matplotlib.axes._subplots.AxesSubplot at 0x1b3554a9208>"
      ]
     },
     "execution_count": 7,
     "metadata": {},
     "output_type": "execute_result"
    },
    {
     "data": {
      "image/png": "[encoded data removed]",
      "text/plain": [
       "<Figure size 432x288 with 1 Axes>"
      ]
     },
     "metadata": {
      "needs_background": "light"
     },
     "output_type": "display_data"
    }
   ],
   "source": [
    "fit_er.plot_pdf(marker='o', ls='', linear_bins=True)\n",
    "fit_er.plot_pdf(marker='o', ls='', linear_bins=False)\n",
    "fit_er.power_law.plot_pdf()"
   ]
  },
  {
   "cell_type": "markdown",
   "metadata": {},
   "source": [
    "Lower bound of fitted power law:"
   ]
  },
  {
   "cell_type": "code",
   "execution_count": 8,
   "metadata": {},
   "outputs": [
    {
     "data": {
      "text/plain": [
       "1.0"
      ]
     },
     "execution_count": 8,
     "metadata": {},
     "output_type": "execute_result"
    }
   ],
   "source": [
    "fit_er.xmin"
   ]
  },
  {
   "cell_type": "markdown",
   "metadata": {},
   "source": [
    "Exponent of fitted power law:"
   ]
  },
  {
   "cell_type": "code",
   "execution_count": 9,
   "metadata": {},
   "outputs": [
    {
     "data": {
      "text/plain": [
       "1.956780280385081"
      ]
     },
     "execution_count": 9,
     "metadata": {},
     "output_type": "execute_result"
    }
   ],
   "source": [
    "fit_er.power_law.alpha"
   ]
  },
  {
   "cell_type": "markdown",
   "metadata": {},
   "source": [
    "Kolmogorov-Smirnov goodness of fit:"
   ]
  },
  {
   "cell_type": "code",
   "execution_count": 10,
   "metadata": {},
   "outputs": [
    {
     "data": {
      "text/plain": [
       "0.15550026212396706"
      ]
     },
     "execution_count": 10,
     "metadata": {},
     "output_type": "execute_result"
    }
   ],
   "source": [
    "fit_er.power_law.KS()"
   ]
  },
  {
   "cell_type": "markdown",
   "metadata": {},
   "source": [
    "#### Barabási–Albert Model From Preferential Attachment"
   ]
  },
  {
   "cell_type": "code",
   "execution_count": 11,
   "metadata": {},
   "outputs": [],
   "source": [
    "BA = nx.barabasi_albert_graph(n=100000, m=1, seed=0)"
   ]
  },
  {
   "cell_type": "code",
   "execution_count": 12,
   "metadata": {},
   "outputs": [],
   "source": [
    "degree_ba = [degree for (node, degree) in BA.degree]"
   ]
  },
  {
   "cell_type": "code",
   "execution_count": 13,
   "metadata": {},
   "outputs": [
    {
     "name": "stderr",
     "output_type": "stream",
     "text": [
      "Calculating best minimal value for power law fit\n"
     ]
    }
   ],
   "source": [
    "fit_ba = pl.Fit(degree_ba, discrete=True, xmin=None) # explore setting xmin=None"
   ]
  },
  {
   "cell_type": "code",
   "execution_count": 14,
   "metadata": {},
   "outputs": [
    {
     "data": {
      "text/plain": [
       "<matplotlib.axes._subplots.AxesSubplot at 0x1b355728048>"
      ]
     },
     "execution_count": 14,
     "metadata": {},
     "output_type": "execute_result"
    },
    {
     "data": {
      "image/png": "[encoded data removed]",
      "text/plain": [
       "<Figure size 432x288 with 1 Axes>"
      ]
     },
     "metadata": {
      "needs_background": "light"
     },
     "output_type": "display_data"
    }
   ],
   "source": [
    "fit_ba.plot_pdf(marker='o', ls='', linear_bins=True)\n",
    "fit_ba.plot_pdf(marker='o', ls='', linear_bins=False)\n",
    "fit_ba.power_law.plot_pdf()"
   ]
  },
  {
   "cell_type": "code",
   "execution_count": 15,
   "metadata": {},
   "outputs": [
    {
     "data": {
      "text/plain": [
       "6.0"
      ]
     },
     "execution_count": 15,
     "metadata": {},
     "output_type": "execute_result"
    }
   ],
   "source": [
    "fit_ba.xmin"
   ]
  },
  {
   "cell_type": "code",
   "execution_count": 16,
   "metadata": {},
   "outputs": [
    {
     "data": {
      "text/plain": [
       "2.7848890811948186"
      ]
     },
     "execution_count": 16,
     "metadata": {},
     "output_type": "execute_result"
    }
   ],
   "source": [
    "fit_ba.power_law.alpha"
   ]
  },
  {
   "cell_type": "code",
   "execution_count": 17,
   "metadata": {},
   "outputs": [
    {
     "data": {
      "text/plain": [
       "0.006595381245030674"
      ]
     },
     "execution_count": 17,
     "metadata": {},
     "output_type": "execute_result"
    }
   ],
   "source": [
    "fit_ba.power_law.KS()"
   ]
  },
  {
   "cell_type": "markdown",
   "metadata": {},
   "source": [
    "#### Estimation of Lower Cutoff"
   ]
  },
  {
   "cell_type": "code",
   "execution_count": 18,
   "metadata": {},
   "outputs": [
    {
     "data": {
      "text/plain": [
       "[0.0958353000405956, 0.028906706911883684, 0.01675281092834191]"
      ]
     },
     "execution_count": 18,
     "metadata": {},
     "output_type": "execute_result"
    }
   ],
   "source": [
    "cutoff = []\n",
    "for i in range (1, 21):\n",
    "    cutoff.append(pl.Fit(degree_ba, discrete=True, xmin=i).power_law.KS())\n",
    "cutoff[:3]"
   ]
  },
  {
   "cell_type": "code",
   "execution_count": 19,
   "metadata": {},
   "outputs": [
    {
     "data": {
      "text/plain": [
       "[<matplotlib.lines.Line2D at 0x1b35bcc5710>]"
      ]
     },
     "execution_count": 19,
     "metadata": {},
     "output_type": "execute_result"
    },
    {
     "data": {
      "image/png": "[encoded data removed]",
      "text/plain": [
       "<Figure size 432x288 with 1 Axes>"
      ]
     },
     "metadata": {
      "needs_background": "light"
     },
     "output_type": "display_data"
    }
   ],
   "source": [
    "plt.plot(range (1, 21), cutoff)"
   ]
  },
  {
   "cell_type": "markdown",
   "metadata": {},
   "source": [
    "### 3.2.2 Alternative Distributions <a name='3_2_2'></a>"
   ]
  },
  {
   "cell_type": "code",
   "execution_count": 20,
   "metadata": {},
   "outputs": [
    {
     "data": {
      "text/plain": [
       "<matplotlib.legend.Legend at 0x1b35bd0d6a0>"
      ]
     },
     "execution_count": 20,
     "metadata": {},
     "output_type": "execute_result"
    },
    {
     "data": {
      "image/png": "[encoded data removed]",
      "text/plain": [
       "<Figure size 432x288 with 1 Axes>"
      ]
     },
     "metadata": {
      "needs_background": "light"
     },
     "output_type": "display_data"
    }
   ],
   "source": [
    "fit_er.plot_pdf(marker='o', ls='')\n",
    "fit_er.exponential.plot_pdf(label='Exponential')\n",
    "fit_er.stretched_exponential.plot_pdf(label='Stretched Exponential')\n",
    "fit_er.lognormal_positive.plot_pdf(label='Lognormal')\n",
    "fit_er.power_law.plot_pdf(label='Power Law')\n",
    "fit_er.truncated_power_law.plot_pdf(label='Truncated Power Law')\n",
    "plt.legend()"
   ]
  },
  {
   "cell_type": "code",
   "execution_count": 21,
   "metadata": {},
   "outputs": [
    {
     "data": {
      "text/plain": [
       "<matplotlib.legend.Legend at 0x1b35b90bbe0>"
      ]
     },
     "execution_count": 21,
     "metadata": {},
     "output_type": "execute_result"
    },
    {
     "data": {
      "image/png": "[encoded data removed]",
      "text/plain": [
       "<Figure size 432x288 with 1 Axes>"
      ]
     },
     "metadata": {
      "needs_background": "light"
     },
     "output_type": "display_data"
    }
   ],
   "source": [
    "fit_ba.plot_pdf(marker='o', ls='')\n",
    "#fit_ba.exponential.plot_pdf(label='Exponential')\n",
    "fit_ba.stretched_exponential.plot_pdf(label='Stretched Exponential')\n",
    "fit_ba.lognormal_positive.plot_pdf(label='Lognormal')\n",
    "fit_ba.power_law.plot_pdf(label='Power Law')\n",
    "fit_ba.truncated_power_law.plot_pdf(label='Truncated Power Law')\n",
    "plt.legend()"
   ]
  },
  {
   "cell_type": "markdown",
   "metadata": {},
   "source": [
    "#### Identifying the Best Fit"
   ]
  },
  {
   "cell_type": "markdown",
   "metadata": {},
   "source": [
    "The first output is the log-likelihood ratio. If it is negative, the first function is less likely. The second output is the statistical significance of the comparison (whether or not the sign is interpretable)."
   ]
  },
  {
   "cell_type": "code",
   "execution_count": 22,
   "metadata": {},
   "outputs": [
    {
     "data": {
      "text/plain": [
       "(-10694.205627995865, 0.0)"
      ]
     },
     "execution_count": 22,
     "metadata": {},
     "output_type": "execute_result"
    }
   ],
   "source": [
    "fit_er.distribution_compare('power_law', 'exponential')"
   ]
  },
  {
   "cell_type": "code",
   "execution_count": 23,
   "metadata": {},
   "outputs": [
    {
     "name": "stderr",
     "output_type": "stream",
     "text": [
      "C:\\ProgramData\\Anaconda3\\lib\\site-packages\\powerlaw.py:700: RuntimeWarning: divide by zero encountered in true_divide\n",
      "  (Theoretical_CDF * (1 - Theoretical_CDF))\n"
     ]
    },
    {
     "data": {
      "text/plain": [
       "(963.1097191123781, 3.178290700417539e-12)"
      ]
     },
     "execution_count": 23,
     "metadata": {},
     "output_type": "execute_result"
    }
   ],
   "source": [
    "fit_ba.distribution_compare('power_law', 'exponential')"
   ]
  },
  {
   "cell_type": "code",
   "execution_count": 24,
   "metadata": {},
   "outputs": [],
   "source": [
    "def compare_functions(f):\n",
    "    function = ['exponential', 'stretched_exponential', 'lognormal', 'lognormal_positive', 'power_law', 'truncated_power_law']\n",
    "    from numpy import zeros\n",
    "    f_compare_R = zeros((6, 6), dtype=float)\n",
    "    f_compare_p_R = zeros((6, 6), dtype=float)\n",
    "    for i in range(0, 6):\n",
    "        for j in range(0, 6):\n",
    "            R, p_R = f.distribution_compare(function[i], function[j])\n",
    "            f_compare_R[i, j] = R\n",
    "            f_compare_p_R[i, j] = p_R\n",
    "    from pandas import DataFrame\n",
    "    return DataFrame(f_compare_R, index=function, columns=function), DataFrame(f_compare_p_R, index=function, columns=function)"
   ]
  },
  {
   "cell_type": "code",
   "execution_count": 25,
   "metadata": {},
   "outputs": [
    {
     "name": "stderr",
     "output_type": "stream",
     "text": [
      "Assuming nested distributions\n",
      "Assuming nested distributions\n",
      "Assuming nested distributions\n",
      "Assuming nested distributions\n",
      "Assuming nested distributions\n",
      "Assuming nested distributions\n",
      "Assuming nested distributions\n",
      "Assuming nested distributions\n",
      "Assuming nested distributions\n",
      "Assuming nested distributions\n",
      "Assuming nested distributions\n",
      "Assuming nested distributions\n"
     ]
    }
   ],
   "source": [
    "r_er, p_er = compare_functions(fit_er)"
   ]
  },
  {
   "cell_type": "code",
   "execution_count": 26,
   "metadata": {},
   "outputs": [
    {
     "data": {
      "text/html": [
       "<div>\n",
       "<style scoped>\n",
       "    .dataframe tbody tr th:only-of-type {\n",
       "        vertical-align: middle;\n",
       "    }\n",
       "\n",
       "    .dataframe tbody tr th {\n",
       "        vertical-align: top;\n",
       "    }\n",
       "\n",
       "    .dataframe thead th {\n",
       "        text-align: right;\n",
       "    }\n",
       "</style>\n",
       "<table border=\"1\" class=\"dataframe\">\n",
       "  <thead>\n",
       "    <tr style=\"text-align: right;\">\n",
       "      <th></th>\n",
       "      <th>exponential</th>\n",
       "      <th>stretched_exponential</th>\n",
       "      <th>lognormal</th>\n",
       "      <th>lognormal_positive</th>\n",
       "      <th>power_law</th>\n",
       "      <th>truncated_power_law</th>\n",
       "    </tr>\n",
       "  </thead>\n",
       "  <tbody>\n",
       "    <tr>\n",
       "      <th>exponential</th>\n",
       "      <td>0.000000</td>\n",
       "      <td>-1041.347876</td>\n",
       "      <td>-846.003173</td>\n",
       "      <td>-846.003173</td>\n",
       "      <td>10694.205628</td>\n",
       "      <td>1897.444886</td>\n",
       "    </tr>\n",
       "    <tr>\n",
       "      <th>stretched_exponential</th>\n",
       "      <td>1041.347876</td>\n",
       "      <td>0.000000</td>\n",
       "      <td>195.344703</td>\n",
       "      <td>195.344703</td>\n",
       "      <td>11735.553504</td>\n",
       "      <td>2938.792763</td>\n",
       "    </tr>\n",
       "    <tr>\n",
       "      <th>lognormal</th>\n",
       "      <td>846.003173</td>\n",
       "      <td>-195.344703</td>\n",
       "      <td>0.000000</td>\n",
       "      <td>0.000000</td>\n",
       "      <td>11540.208801</td>\n",
       "      <td>2743.448059</td>\n",
       "    </tr>\n",
       "    <tr>\n",
       "      <th>lognormal_positive</th>\n",
       "      <td>846.003173</td>\n",
       "      <td>-195.344703</td>\n",
       "      <td>0.000000</td>\n",
       "      <td>0.000000</td>\n",
       "      <td>11540.208801</td>\n",
       "      <td>2743.448059</td>\n",
       "    </tr>\n",
       "    <tr>\n",
       "      <th>power_law</th>\n",
       "      <td>-10694.205628</td>\n",
       "      <td>-11735.553504</td>\n",
       "      <td>-11540.208801</td>\n",
       "      <td>-11540.208801</td>\n",
       "      <td>0.000000</td>\n",
       "      <td>-8796.760742</td>\n",
       "    </tr>\n",
       "    <tr>\n",
       "      <th>truncated_power_law</th>\n",
       "      <td>-1897.444886</td>\n",
       "      <td>-2938.792763</td>\n",
       "      <td>-2743.448059</td>\n",
       "      <td>-2743.448059</td>\n",
       "      <td>8796.760742</td>\n",
       "      <td>0.000000</td>\n",
       "    </tr>\n",
       "  </tbody>\n",
       "</table>\n",
       "</div>"
      ],
      "text/plain": [
       "                        exponential  stretched_exponential     lognormal  \\\n",
       "exponential                0.000000           -1041.347876   -846.003173   \n",
       "stretched_exponential   1041.347876               0.000000    195.344703   \n",
       "lognormal                846.003173            -195.344703      0.000000   \n",
       "lognormal_positive       846.003173            -195.344703      0.000000   \n",
       "power_law             -10694.205628          -11735.553504 -11540.208801   \n",
       "truncated_power_law    -1897.444886           -2938.792763  -2743.448059   \n",
       "\n",
       "                       lognormal_positive     power_law  truncated_power_law  \n",
       "exponential                   -846.003173  10694.205628          1897.444886  \n",
       "stretched_exponential          195.344703  11735.553504          2938.792763  \n",
       "lognormal                        0.000000  11540.208801          2743.448059  \n",
       "lognormal_positive               0.000000  11540.208801          2743.448059  \n",
       "power_law                   -11540.208801      0.000000         -8796.760742  \n",
       "truncated_power_law          -2743.448059   8796.760742             0.000000  "
      ]
     },
     "execution_count": 26,
     "metadata": {},
     "output_type": "execute_result"
    }
   ],
   "source": [
    "r_er"
   ]
  },
  {
   "cell_type": "code",
   "execution_count": 27,
   "metadata": {},
   "outputs": [
    {
     "data": {
      "text/html": [
       "<div>\n",
       "<style scoped>\n",
       "    .dataframe tbody tr th:only-of-type {\n",
       "        vertical-align: middle;\n",
       "    }\n",
       "\n",
       "    .dataframe tbody tr th {\n",
       "        vertical-align: top;\n",
       "    }\n",
       "\n",
       "    .dataframe thead th {\n",
       "        text-align: right;\n",
       "    }\n",
       "</style>\n",
       "<table border=\"1\" class=\"dataframe\">\n",
       "  <thead>\n",
       "    <tr style=\"text-align: right;\">\n",
       "      <th></th>\n",
       "      <th>exponential</th>\n",
       "      <th>stretched_exponential</th>\n",
       "      <th>lognormal</th>\n",
       "      <th>lognormal_positive</th>\n",
       "      <th>power_law</th>\n",
       "      <th>truncated_power_law</th>\n",
       "    </tr>\n",
       "  </thead>\n",
       "  <tbody>\n",
       "    <tr>\n",
       "      <th>exponential</th>\n",
       "      <td>1.000000e+00</td>\n",
       "      <td>0.000000e+00</td>\n",
       "      <td>3.884648e-83</td>\n",
       "      <td>3.884648e-83</td>\n",
       "      <td>0.0</td>\n",
       "      <td>0.0</td>\n",
       "    </tr>\n",
       "    <tr>\n",
       "      <th>stretched_exponential</th>\n",
       "      <td>0.000000e+00</td>\n",
       "      <td>1.000000e+00</td>\n",
       "      <td>8.428966e-32</td>\n",
       "      <td>8.428966e-32</td>\n",
       "      <td>0.0</td>\n",
       "      <td>0.0</td>\n",
       "    </tr>\n",
       "    <tr>\n",
       "      <th>lognormal</th>\n",
       "      <td>3.884648e-83</td>\n",
       "      <td>8.428966e-32</td>\n",
       "      <td>1.000000e+00</td>\n",
       "      <td>1.000000e+00</td>\n",
       "      <td>0.0</td>\n",
       "      <td>0.0</td>\n",
       "    </tr>\n",
       "    <tr>\n",
       "      <th>lognormal_positive</th>\n",
       "      <td>3.884648e-83</td>\n",
       "      <td>8.428966e-32</td>\n",
       "      <td>1.000000e+00</td>\n",
       "      <td>1.000000e+00</td>\n",
       "      <td>0.0</td>\n",
       "      <td>0.0</td>\n",
       "    </tr>\n",
       "    <tr>\n",
       "      <th>power_law</th>\n",
       "      <td>0.000000e+00</td>\n",
       "      <td>0.000000e+00</td>\n",
       "      <td>0.000000e+00</td>\n",
       "      <td>0.000000e+00</td>\n",
       "      <td>1.0</td>\n",
       "      <td>0.0</td>\n",
       "    </tr>\n",
       "    <tr>\n",
       "      <th>truncated_power_law</th>\n",
       "      <td>0.000000e+00</td>\n",
       "      <td>0.000000e+00</td>\n",
       "      <td>0.000000e+00</td>\n",
       "      <td>0.000000e+00</td>\n",
       "      <td>0.0</td>\n",
       "      <td>1.0</td>\n",
       "    </tr>\n",
       "  </tbody>\n",
       "</table>\n",
       "</div>"
      ],
      "text/plain": [
       "                        exponential  stretched_exponential     lognormal  \\\n",
       "exponential            1.000000e+00           0.000000e+00  3.884648e-83   \n",
       "stretched_exponential  0.000000e+00           1.000000e+00  8.428966e-32   \n",
       "lognormal              3.884648e-83           8.428966e-32  1.000000e+00   \n",
       "lognormal_positive     3.884648e-83           8.428966e-32  1.000000e+00   \n",
       "power_law              0.000000e+00           0.000000e+00  0.000000e+00   \n",
       "truncated_power_law    0.000000e+00           0.000000e+00  0.000000e+00   \n",
       "\n",
       "                       lognormal_positive  power_law  truncated_power_law  \n",
       "exponential                  3.884648e-83        0.0                  0.0  \n",
       "stretched_exponential        8.428966e-32        0.0                  0.0  \n",
       "lognormal                    1.000000e+00        0.0                  0.0  \n",
       "lognormal_positive           1.000000e+00        0.0                  0.0  \n",
       "power_law                    0.000000e+00        1.0                  0.0  \n",
       "truncated_power_law          0.000000e+00        0.0                  1.0  "
      ]
     },
     "execution_count": 27,
     "metadata": {},
     "output_type": "execute_result"
    }
   ],
   "source": [
    "p_er"
   ]
  },
  {
   "cell_type": "code",
   "execution_count": 28,
   "metadata": {},
   "outputs": [
    {
     "name": "stderr",
     "output_type": "stream",
     "text": [
      "Assuming nested distributions\n",
      "Assuming nested distributions\n",
      "C:\\ProgramData\\Anaconda3\\lib\\site-packages\\powerlaw.py:700: RuntimeWarning: invalid value encountered in true_divide\n",
      "  (Theoretical_CDF * (1 - Theoretical_CDF))\n",
      "Assuming nested distributions\n",
      "Assuming nested distributions\n",
      "Assuming nested distributions\n",
      "Assuming nested distributions\n",
      "Assuming nested distributions\n",
      "Assuming nested distributions\n",
      "Assuming nested distributions\n",
      "Assuming nested distributions\n",
      "Assuming nested distributions\n",
      "Assuming nested distributions\n"
     ]
    }
   ],
   "source": [
    "r_ba, p_ba = compare_functions(fit_ba)"
   ]
  },
  {
   "cell_type": "code",
   "execution_count": 29,
   "metadata": {},
   "outputs": [
    {
     "data": {
      "text/html": [
       "<div>\n",
       "<style scoped>\n",
       "    .dataframe tbody tr th:only-of-type {\n",
       "        vertical-align: middle;\n",
       "    }\n",
       "\n",
       "    .dataframe tbody tr th {\n",
       "        vertical-align: top;\n",
       "    }\n",
       "\n",
       "    .dataframe thead th {\n",
       "        text-align: right;\n",
       "    }\n",
       "</style>\n",
       "<table border=\"1\" class=\"dataframe\">\n",
       "  <thead>\n",
       "    <tr style=\"text-align: right;\">\n",
       "      <th></th>\n",
       "      <th>exponential</th>\n",
       "      <th>stretched_exponential</th>\n",
       "      <th>lognormal</th>\n",
       "      <th>lognormal_positive</th>\n",
       "      <th>power_law</th>\n",
       "      <th>truncated_power_law</th>\n",
       "    </tr>\n",
       "  </thead>\n",
       "  <tbody>\n",
       "    <tr>\n",
       "      <th>exponential</th>\n",
       "      <td>0.000000</td>\n",
       "      <td>-953.237307</td>\n",
       "      <td>-964.406213</td>\n",
       "      <td>-919.871392</td>\n",
       "      <td>-963.109719</td>\n",
       "      <td>-964.043487</td>\n",
       "    </tr>\n",
       "    <tr>\n",
       "      <th>stretched_exponential</th>\n",
       "      <td>953.237307</td>\n",
       "      <td>0.000000</td>\n",
       "      <td>-11.168906</td>\n",
       "      <td>33.365915</td>\n",
       "      <td>-9.872412</td>\n",
       "      <td>-10.806180</td>\n",
       "    </tr>\n",
       "    <tr>\n",
       "      <th>lognormal</th>\n",
       "      <td>964.406213</td>\n",
       "      <td>11.168906</td>\n",
       "      <td>0.000000</td>\n",
       "      <td>44.534821</td>\n",
       "      <td>1.296494</td>\n",
       "      <td>0.362726</td>\n",
       "    </tr>\n",
       "    <tr>\n",
       "      <th>lognormal_positive</th>\n",
       "      <td>919.871392</td>\n",
       "      <td>-33.365915</td>\n",
       "      <td>-44.534821</td>\n",
       "      <td>0.000000</td>\n",
       "      <td>-43.238327</td>\n",
       "      <td>-44.172096</td>\n",
       "    </tr>\n",
       "    <tr>\n",
       "      <th>power_law</th>\n",
       "      <td>963.109719</td>\n",
       "      <td>9.872412</td>\n",
       "      <td>-1.296494</td>\n",
       "      <td>43.238327</td>\n",
       "      <td>0.000000</td>\n",
       "      <td>-0.933768</td>\n",
       "    </tr>\n",
       "    <tr>\n",
       "      <th>truncated_power_law</th>\n",
       "      <td>964.043487</td>\n",
       "      <td>10.806180</td>\n",
       "      <td>-0.362726</td>\n",
       "      <td>44.172096</td>\n",
       "      <td>0.933768</td>\n",
       "      <td>0.000000</td>\n",
       "    </tr>\n",
       "  </tbody>\n",
       "</table>\n",
       "</div>"
      ],
      "text/plain": [
       "                       exponential  stretched_exponential   lognormal  \\\n",
       "exponential               0.000000            -953.237307 -964.406213   \n",
       "stretched_exponential   953.237307               0.000000  -11.168906   \n",
       "lognormal               964.406213              11.168906    0.000000   \n",
       "lognormal_positive      919.871392             -33.365915  -44.534821   \n",
       "power_law               963.109719               9.872412   -1.296494   \n",
       "truncated_power_law     964.043487              10.806180   -0.362726   \n",
       "\n",
       "                       lognormal_positive   power_law  truncated_power_law  \n",
       "exponential                   -919.871392 -963.109719          -964.043487  \n",
       "stretched_exponential           33.365915   -9.872412           -10.806180  \n",
       "lognormal                       44.534821    1.296494             0.362726  \n",
       "lognormal_positive               0.000000  -43.238327           -44.172096  \n",
       "power_law                       43.238327    0.000000            -0.933768  \n",
       "truncated_power_law             44.172096    0.933768             0.000000  "
      ]
     },
     "execution_count": 29,
     "metadata": {},
     "output_type": "execute_result"
    }
   ],
   "source": [
    "r_ba"
   ]
  },
  {
   "cell_type": "code",
   "execution_count": 30,
   "metadata": {},
   "outputs": [
    {
     "data": {
      "text/html": [
       "<div>\n",
       "<style scoped>\n",
       "    .dataframe tbody tr th:only-of-type {\n",
       "        vertical-align: middle;\n",
       "    }\n",
       "\n",
       "    .dataframe tbody tr th {\n",
       "        vertical-align: top;\n",
       "    }\n",
       "\n",
       "    .dataframe thead th {\n",
       "        text-align: right;\n",
       "    }\n",
       "</style>\n",
       "<table border=\"1\" class=\"dataframe\">\n",
       "  <thead>\n",
       "    <tr style=\"text-align: right;\">\n",
       "      <th></th>\n",
       "      <th>exponential</th>\n",
       "      <th>stretched_exponential</th>\n",
       "      <th>lognormal</th>\n",
       "      <th>lognormal_positive</th>\n",
       "      <th>power_law</th>\n",
       "      <th>truncated_power_law</th>\n",
       "    </tr>\n",
       "  </thead>\n",
       "  <tbody>\n",
       "    <tr>\n",
       "      <th>exponential</th>\n",
       "      <td>1.000000e+00</td>\n",
       "      <td>0.000000e+00</td>\n",
       "      <td>1.822871e-12</td>\n",
       "      <td>6.403812e-13</td>\n",
       "      <td>3.178291e-12</td>\n",
       "      <td>1.978188e-12</td>\n",
       "    </tr>\n",
       "    <tr>\n",
       "      <th>stretched_exponential</th>\n",
       "      <td>0.000000e+00</td>\n",
       "      <td>1.000000e+00</td>\n",
       "      <td>3.095499e-02</td>\n",
       "      <td>1.343980e-08</td>\n",
       "      <td>1.335211e-01</td>\n",
       "      <td>5.705178e-02</td>\n",
       "    </tr>\n",
       "    <tr>\n",
       "      <th>lognormal</th>\n",
       "      <td>1.822871e-12</td>\n",
       "      <td>3.095499e-02</td>\n",
       "      <td>1.000000e+00</td>\n",
       "      <td>0.000000e+00</td>\n",
       "      <td>4.103507e-01</td>\n",
       "      <td>6.191056e-01</td>\n",
       "    </tr>\n",
       "    <tr>\n",
       "      <th>lognormal_positive</th>\n",
       "      <td>6.403812e-13</td>\n",
       "      <td>1.343980e-08</td>\n",
       "      <td>0.000000e+00</td>\n",
       "      <td>1.000000e+00</td>\n",
       "      <td>4.879640e-04</td>\n",
       "      <td>1.208556e-04</td>\n",
       "    </tr>\n",
       "    <tr>\n",
       "      <th>power_law</th>\n",
       "      <td>3.178291e-12</td>\n",
       "      <td>1.335211e-01</td>\n",
       "      <td>4.103507e-01</td>\n",
       "      <td>4.879640e-04</td>\n",
       "      <td>1.000000e+00</td>\n",
       "      <td>1.717575e-01</td>\n",
       "    </tr>\n",
       "    <tr>\n",
       "      <th>truncated_power_law</th>\n",
       "      <td>1.978188e-12</td>\n",
       "      <td>5.705178e-02</td>\n",
       "      <td>6.191056e-01</td>\n",
       "      <td>1.208556e-04</td>\n",
       "      <td>1.717575e-01</td>\n",
       "      <td>1.000000e+00</td>\n",
       "    </tr>\n",
       "  </tbody>\n",
       "</table>\n",
       "</div>"
      ],
      "text/plain": [
       "                        exponential  stretched_exponential     lognormal  \\\n",
       "exponential            1.000000e+00           0.000000e+00  1.822871e-12   \n",
       "stretched_exponential  0.000000e+00           1.000000e+00  3.095499e-02   \n",
       "lognormal              1.822871e-12           3.095499e-02  1.000000e+00   \n",
       "lognormal_positive     6.403812e-13           1.343980e-08  0.000000e+00   \n",
       "power_law              3.178291e-12           1.335211e-01  4.103507e-01   \n",
       "truncated_power_law    1.978188e-12           5.705178e-02  6.191056e-01   \n",
       "\n",
       "                       lognormal_positive     power_law  truncated_power_law  \n",
       "exponential                  6.403812e-13  3.178291e-12         1.978188e-12  \n",
       "stretched_exponential        1.343980e-08  1.335211e-01         5.705178e-02  \n",
       "lognormal                    0.000000e+00  4.103507e-01         6.191056e-01  \n",
       "lognormal_positive           1.000000e+00  4.879640e-04         1.208556e-04  \n",
       "power_law                    4.879640e-04  1.000000e+00         1.717575e-01  \n",
       "truncated_power_law          1.208556e-04  1.717575e-01         1.000000e+00  "
      ]
     },
     "execution_count": 30,
     "metadata": {},
     "output_type": "execute_result"
    }
   ],
   "source": [
    "p_ba"
   ]
  },
  {
   "cell_type": "markdown",
   "metadata": {},
   "source": [
    "### 3.2.3 Plausibility of Power Law Fit <a name='3_2_3'></a>"
   ]
  },
  {
   "cell_type": "code",
   "execution_count": 31,
   "metadata": {},
   "outputs": [],
   "source": [
    "def p_value(f, sims=2500):\n",
    "    prob = f.n_tail/len(f.data_original)\n",
    "    body = [x for x in f.data_original if x < f.xmin]\n",
    "    l = []\n",
    "    from random import random, sample\n",
    "    from powerlaw import Fit, Power_Law\n",
    "    for i in range(0, sims):\n",
    "        x = []\n",
    "        for j in range(0, len(f.data_original)):\n",
    "            if random() <= prob:\n",
    "                x.append(int(Power_Law(discrete=True, xmin=f.xmin, parameters=[f.power_law.alpha]).generate_random(1)))\n",
    "            else:\n",
    "                x.append(sample(body, 1)[0])\n",
    "        x_fit = Fit(x, discrete=True).power_law\n",
    "        l.append(x_fit.KS() > f.power_law.KS())\n",
    "    p = sum(l)/sims\n",
    "    return p"
   ]
  },
  {
   "cell_type": "code",
   "execution_count": 32,
   "metadata": {},
   "outputs": [
    {
     "name": "stderr",
     "output_type": "stream",
     "text": [
      "Calculating best minimal value for power law fit\n",
      "Calculating best minimal value for power law fit\n",
      "Calculating best minimal value for power law fit\n",
      "C:\\ProgramData\\Anaconda3\\lib\\site-packages\\powerlaw.py:700: RuntimeWarning: divide by zero encountered in true_divide\n",
      "  (Theoretical_CDF * (1 - Theoretical_CDF))\n",
      "Calculating best minimal value for power law fit\n",
      "Calculating best minimal value for power law fit\n",
      "Calculating best minimal value for power law fit\n",
      "Calculating best minimal value for power law fit\n",
      "Calculating best minimal value for power law fit\n",
      "Calculating best minimal value for power law fit\n",
      "Calculating best minimal value for power law fit\n"
     ]
    },
    {
     "data": {
      "text/plain": [
       "0.0"
      ]
     },
     "execution_count": 32,
     "metadata": {},
     "output_type": "execute_result"
    }
   ],
   "source": [
    "p_value(fit_er, sims=10)"
   ]
  },
  {
   "cell_type": "code",
   "execution_count": 33,
   "metadata": {},
   "outputs": [
    {
     "name": "stderr",
     "output_type": "stream",
     "text": [
      "Calculating best minimal value for power law fit\n",
      "Calculating best minimal value for power law fit\n",
      "Calculating best minimal value for power law fit\n",
      "Calculating best minimal value for power law fit\n",
      "Calculating best minimal value for power law fit\n",
      "Calculating best minimal value for power law fit\n",
      "Calculating best minimal value for power law fit\n",
      "Calculating best minimal value for power law fit\n",
      "Calculating best minimal value for power law fit\n",
      "Calculating best minimal value for power law fit\n"
     ]
    },
    {
     "data": {
      "text/plain": [
       "0.9"
      ]
     },
     "execution_count": 33,
     "metadata": {},
     "output_type": "execute_result"
    }
   ],
   "source": [
    "p_value(fit_ba, sims=10)"
   ]
  },
  {
   "cell_type": "markdown",
   "metadata": {},
   "source": [
    "### 3.2.4 Citation In Social Network Science <a name='3_2_4'></a>"
   ]
  },
  {
   "cell_type": "code",
   "execution_count": 34,
   "metadata": {},
   "outputs": [],
   "source": [
    "import pandas as pd"
   ]
  },
  {
   "cell_type": "code",
   "execution_count": 35,
   "metadata": {},
   "outputs": [
    {
     "data": {
      "text/html": [
       "<div>\n",
       "<style scoped>\n",
       "    .dataframe tbody tr th:only-of-type {\n",
       "        vertical-align: middle;\n",
       "    }\n",
       "\n",
       "    .dataframe tbody tr th {\n",
       "        vertical-align: top;\n",
       "    }\n",
       "\n",
       "    .dataframe thead th {\n",
       "        text-align: right;\n",
       "    }\n",
       "</style>\n",
       "<table border=\"1\" class=\"dataframe\">\n",
       "  <thead>\n",
       "    <tr style=\"text-align: right;\">\n",
       "      <th></th>\n",
       "      <th>reference</th>\n",
       "      <th>citations</th>\n",
       "    </tr>\n",
       "  </thead>\n",
       "  <tbody>\n",
       "    <tr>\n",
       "      <th>541166</th>\n",
       "      <td>WASSERMA_1994_SOCIAL</td>\n",
       "      <td>2474</td>\n",
       "    </tr>\n",
       "    <tr>\n",
       "      <th>204484</th>\n",
       "      <td>GRANOVET_1973_A_1360</td>\n",
       "      <td>2387</td>\n",
       "    </tr>\n",
       "    <tr>\n",
       "      <th>77491</th>\n",
       "      <td>BURT_1992_STRUCTURAL</td>\n",
       "      <td>1407</td>\n",
       "    </tr>\n",
       "    <tr>\n",
       "      <th>542155</th>\n",
       "      <td>WATTS_1998_N_440</td>\n",
       "      <td>1335</td>\n",
       "    </tr>\n",
       "    <tr>\n",
       "      <th>31572</th>\n",
       "      <td>BARABASI_1999_S_509</td>\n",
       "      <td>1197</td>\n",
       "    </tr>\n",
       "  </tbody>\n",
       "</table>\n",
       "</div>"
      ],
      "text/plain": [
       "                   reference  citations\n",
       "541166  WASSERMA_1994_SOCIAL       2474\n",
       "204484  GRANOVET_1973_A_1360       2387\n",
       "77491   BURT_1992_STRUCTURAL       1407\n",
       "542155      WATTS_1998_N_440       1335\n",
       "31572    BARABASI_1999_S_509       1197"
      ]
     },
     "execution_count": 35,
     "metadata": {},
     "output_type": "execute_result"
    }
   ],
   "source": [
    "citations = pd.read_csv('../data/sns/citations.txt', header='infer', delimiter='\\t', encoding='utf-8')\n",
    "references = pd.read_csv('../data/sns/references.txt', header='infer', delimiter='\\t', encoding='utf-8')\n",
    "cited_references = pd.merge(left=citations, right=references, on='reference_id')\n",
    "cited_references = cited_references.groupby('reference').size().reset_index(name='citations')\n",
    "cited_references = cited_references.sort_values('citations', ascending=False)\n",
    "cited_references.head()"
   ]
  },
  {
   "cell_type": "markdown",
   "metadata": {},
   "source": [
    "#### 3.2.4.1 Fitting the Citation Distribution <a name='3_2_4_1'></a>"
   ]
  },
  {
   "cell_type": "code",
   "execution_count": 36,
   "metadata": {},
   "outputs": [],
   "source": [
    "c = list(cited_references['citations'])"
   ]
  },
  {
   "cell_type": "code",
   "execution_count": 37,
   "metadata": {},
   "outputs": [
    {
     "name": "stderr",
     "output_type": "stream",
     "text": [
      "Calculating best minimal value for power law fit\n",
      "C:\\ProgramData\\Anaconda3\\lib\\site-packages\\powerlaw.py:700: RuntimeWarning: invalid value encountered in true_divide\n",
      "  (Theoretical_CDF * (1 - Theoretical_CDF))\n",
      "C:\\ProgramData\\Anaconda3\\lib\\site-packages\\powerlaw.py:700: RuntimeWarning: divide by zero encountered in true_divide\n",
      "  (Theoretical_CDF * (1 - Theoretical_CDF))\n"
     ]
    }
   ],
   "source": [
    "fit_c = pl.Fit(c, discrete=True, xmin=None)"
   ]
  },
  {
   "cell_type": "code",
   "execution_count": 38,
   "metadata": {},
   "outputs": [
    {
     "data": {
      "text/plain": [
       "<matplotlib.axes._subplots.AxesSubplot at 0x1b35c49dd30>"
      ]
     },
     "execution_count": 38,
     "metadata": {},
     "output_type": "execute_result"
    },
    {
     "data": {
      "image/png": "[encoded data removed]",
      "text/plain": [
       "<Figure size 432x288 with 1 Axes>"
      ]
     },
     "metadata": {
      "needs_background": "light"
     },
     "output_type": "display_data"
    }
   ],
   "source": [
    "fit_c.plot_pdf(marker='o', ls='', linear_bins=True)\n",
    "fit_c.plot_pdf(marker='o', ls='', linear_bins=False)\n",
    "#fit_c.power_law.plot_pdf(label='Power Law')\n",
    "#fit_c.truncated_power_law.plot_pdf(label='Truncated Power Law')\n",
    "#plt.legend()"
   ]
  },
  {
   "cell_type": "code",
   "execution_count": 39,
   "metadata": {},
   "outputs": [
    {
     "data": {
      "text/plain": [
       "4.0"
      ]
     },
     "execution_count": 39,
     "metadata": {},
     "output_type": "execute_result"
    }
   ],
   "source": [
    "fit_c.xmin"
   ]
  },
  {
   "cell_type": "code",
   "execution_count": 40,
   "metadata": {},
   "outputs": [
    {
     "data": {
      "text/plain": [
       "2.3018575306117692"
      ]
     },
     "execution_count": 40,
     "metadata": {},
     "output_type": "execute_result"
    }
   ],
   "source": [
    "fit_c.power_law.alpha"
   ]
  },
  {
   "cell_type": "code",
   "execution_count": 41,
   "metadata": {},
   "outputs": [
    {
     "data": {
      "text/plain": [
       "2.277754698947841"
      ]
     },
     "execution_count": 41,
     "metadata": {},
     "output_type": "execute_result"
    }
   ],
   "source": [
    "fit_c.truncated_power_law.alpha"
   ]
  },
  {
   "cell_type": "code",
   "execution_count": 42,
   "metadata": {},
   "outputs": [
    {
     "name": "stderr",
     "output_type": "stream",
     "text": [
      "Assuming nested distributions\n",
      "Assuming nested distributions\n",
      "Assuming nested distributions\n",
      "Assuming nested distributions\n",
      "Assuming nested distributions\n",
      "Assuming nested distributions\n",
      "Assuming nested distributions\n",
      "Assuming nested distributions\n",
      "Assuming nested distributions\n",
      "Assuming nested distributions\n",
      "Assuming nested distributions\n",
      "Assuming nested distributions\n"
     ]
    },
    {
     "data": {
      "text/plain": [
       "(                        exponential  stretched_exponential     lognormal  \\\n",
       " exponential                0.000000           -2180.764442 -14721.142257   \n",
       " stretched_exponential   2180.764442               0.000000 -12540.377815   \n",
       " lognormal              14721.142257           12540.377815      0.000000   \n",
       " lognormal_positive     14117.351982           11936.587540   -603.790275   \n",
       " power_law              14686.679893           12505.915451    -34.462363   \n",
       " truncated_power_law    14726.330254           12545.565813      5.187998   \n",
       " \n",
       "                        lognormal_positive     power_law  truncated_power_law  \n",
       " exponential                 -14117.351982 -14686.679893        -14726.330254  \n",
       " stretched_exponential       -11936.587540 -12505.915451        -12545.565813  \n",
       " lognormal                      603.790275     34.462363            -5.187998  \n",
       " lognormal_positive               0.000000   -569.327911          -608.978272  \n",
       " power_law                      569.327911      0.000000           -39.650361  \n",
       " truncated_power_law            608.978272     39.650361             0.000000  ,\n",
       "                          exponential  stretched_exponential      lognormal  \\\n",
       " exponential             1.000000e+00                    0.0  3.358538e-114   \n",
       " stretched_exponential   0.000000e+00                    1.0   0.000000e+00   \n",
       " lognormal              3.358538e-114                    0.0   1.000000e+00   \n",
       " lognormal_positive     4.498283e-114                    0.0   0.000000e+00   \n",
       " power_law              6.754413e-112                    0.0   3.663042e-07   \n",
       " truncated_power_law    2.397110e-115                    0.0   3.139090e-01   \n",
       " \n",
       "                        lognormal_positive      power_law  truncated_power_law  \n",
       " exponential                 4.498283e-114  6.754413e-112        2.397110e-115  \n",
       " stretched_exponential        0.000000e+00   0.000000e+00         0.000000e+00  \n",
       " lognormal                    0.000000e+00   3.663042e-07         3.139090e-01  \n",
       " lognormal_positive           1.000000e+00   8.141758e-39         1.822467e-57  \n",
       " power_law                    8.141758e-39   1.000000e+00         0.000000e+00  \n",
       " truncated_power_law          1.822467e-57   0.000000e+00         1.000000e+00  )"
      ]
     },
     "execution_count": 42,
     "metadata": {},
     "output_type": "execute_result"
    }
   ],
   "source": [
    "compare_functions(fit_c)"
   ]
  },
  {
   "cell_type": "code",
   "execution_count": 43,
   "metadata": {},
   "outputs": [
    {
     "name": "stderr",
     "output_type": "stream",
     "text": [
      "Calculating best minimal value for power law fit\n",
      "Calculating best minimal value for power law fit\n",
      "Calculating best minimal value for power law fit\n",
      "Calculating best minimal value for power law fit\n",
      "Calculating best minimal value for power law fit\n",
      "Calculating best minimal value for power law fit\n",
      "Calculating best minimal value for power law fit\n",
      "Calculating best minimal value for power law fit\n",
      "Calculating best minimal value for power law fit\n",
      "Calculating best minimal value for power law fit\n"
     ]
    },
    {
     "data": {
      "text/plain": [
       "0.9"
      ]
     },
     "execution_count": 43,
     "metadata": {},
     "output_type": "execute_result"
    }
   ],
   "source": [
    "p_value(fit_c, sims=10)"
   ]
  },
  {
   "cell_type": "code",
   "execution_count": 44,
   "metadata": {},
   "outputs": [
    {
     "data": {
      "text/plain": [
       "<matplotlib.legend.Legend at 0x1b35c0ca358>"
      ]
     },
     "execution_count": 44,
     "metadata": {},
     "output_type": "execute_result"
    },
    {
     "data": {
      "image/png": "[encoded data removed]",
      "text/plain": [
       "<Figure size 432x288 with 1 Axes>"
      ]
     },
     "metadata": {
      "needs_background": "light"
     },
     "output_type": "display_data"
    }
   ],
   "source": [
    "fit_c.plot_pdf(marker='o', ls='', linear_bins=False)\n",
    "fit_c.power_law.plot_pdf(label='Power Law')\n",
    "fit_c.truncated_power_law.plot_pdf(label='Truncated Power Law')\n",
    "plt.legend()"
   ]
  },
  {
   "cell_type": "markdown",
   "metadata": {},
   "source": [
    "#### 3.2.4.1 Measuring Preferential Attachment <a name='3_2_4_1'></a>"
   ]
  },
  {
   "cell_type": "code",
   "execution_count": 45,
   "metadata": {},
   "outputs": [],
   "source": [
    "import numpy as np"
   ]
  },
  {
   "cell_type": "code",
   "execution_count": 46,
   "metadata": {},
   "outputs": [
    {
     "data": {
      "text/html": [
       "<div>\n",
       "<style scoped>\n",
       "    .dataframe tbody tr th:only-of-type {\n",
       "        vertical-align: middle;\n",
       "    }\n",
       "\n",
       "    .dataframe tbody tr th {\n",
       "        vertical-align: top;\n",
       "    }\n",
       "\n",
       "    .dataframe thead th {\n",
       "        text-align: right;\n",
       "    }\n",
       "</style>\n",
       "<table border=\"1\" class=\"dataframe\">\n",
       "  <thead>\n",
       "    <tr style=\"text-align: right;\">\n",
       "      <th></th>\n",
       "      <th>time</th>\n",
       "      <th>reference</th>\n",
       "      <th>citations</th>\n",
       "    </tr>\n",
       "  </thead>\n",
       "  <tbody>\n",
       "    <tr>\n",
       "      <th>0</th>\n",
       "      <td>1925</td>\n",
       "      <td>BENTHAM_1869_COMMUNICATION</td>\n",
       "      <td>1</td>\n",
       "    </tr>\n",
       "    <tr>\n",
       "      <th>1</th>\n",
       "      <td>1925</td>\n",
       "      <td>FISHER_1922_J_87</td>\n",
       "      <td>1</td>\n",
       "    </tr>\n",
       "    <tr>\n",
       "      <th>2</th>\n",
       "      <td>1925</td>\n",
       "      <td>FISHER_1992_P_309</td>\n",
       "      <td>1</td>\n",
       "    </tr>\n",
       "    <tr>\n",
       "      <th>3</th>\n",
       "      <td>1925</td>\n",
       "      <td>HOLMES_1913_AGE</td>\n",
       "      <td>1</td>\n",
       "    </tr>\n",
       "    <tr>\n",
       "      <th>4</th>\n",
       "      <td>1928</td>\n",
       "      <td>FOCK_1924_M_161</td>\n",
       "      <td>1</td>\n",
       "    </tr>\n",
       "  </tbody>\n",
       "</table>\n",
       "</div>"
      ],
      "text/plain": [
       "   time                   reference  citations\n",
       "0  1925  BENTHAM_1869_COMMUNICATION          1\n",
       "1  1925            FISHER_1922_J_87          1\n",
       "2  1925           FISHER_1992_P_309          1\n",
       "3  1925             HOLMES_1913_AGE          1\n",
       "4  1928             FOCK_1924_M_161          1"
      ]
     },
     "execution_count": 46,
     "metadata": {},
     "output_type": "execute_result"
    }
   ],
   "source": [
    "citations = pd.read_csv('../data/sns/citations.txt', header='infer', delimiter='\\t', encoding='utf-8')\n",
    "references = pd.read_csv('../data/sns/references.txt', header='infer', delimiter='\\t', encoding='utf-8')\n",
    "cited_references = pd.merge(left=citations, right=references, on='reference_id')\n",
    "publications = pd.read_csv('../data/sns/publications.txt', header='infer', delimiter='\\t', encoding='utf-8')\n",
    "publications['time'] = (3*np.floor(publications['time']/3)+2).astype('int')\n",
    "cited_references_time = pd.merge(left=cited_references, right=publications[['publication_id', 'time']], on='publication_id')\n",
    "cited_references_time = cited_references_time.groupby(['time', 'reference']).size().reset_index(name='citations')\n",
    "cited_references_time.head()"
   ]
  },
  {
   "cell_type": "code",
   "execution_count": 47,
   "metadata": {},
   "outputs": [
    {
     "data": {
      "text/plain": [
       "[1976, 1979, 1982, 1985, 1988, 1991, 1994, 1997, 2000, 2003, 2006, 2009, 2012]"
      ]
     },
     "execution_count": 47,
     "metadata": {},
     "output_type": "execute_result"
    }
   ],
   "source": [
    "years = list(cited_references_time['time'].drop_duplicates())\n",
    "years[-13:]"
   ]
  },
  {
   "cell_type": "code",
   "execution_count": 48,
   "metadata": {},
   "outputs": [
    {
     "data": {
      "text/plain": [
       "28"
      ]
     },
     "execution_count": 48,
     "metadata": {},
     "output_type": "execute_result"
    }
   ],
   "source": [
    "len(years)"
   ]
  },
  {
   "cell_type": "code",
   "execution_count": 49,
   "metadata": {},
   "outputs": [
    {
     "data": {
      "text/html": [
       "<div>\n",
       "<style scoped>\n",
       "    .dataframe tbody tr th:only-of-type {\n",
       "        vertical-align: middle;\n",
       "    }\n",
       "\n",
       "    .dataframe tbody tr th {\n",
       "        vertical-align: top;\n",
       "    }\n",
       "\n",
       "    .dataframe thead th {\n",
       "        text-align: right;\n",
       "    }\n",
       "</style>\n",
       "<table border=\"1\" class=\"dataframe\">\n",
       "  <thead>\n",
       "    <tr style=\"text-align: right;\">\n",
       "      <th></th>\n",
       "      <th>time_0</th>\n",
       "      <th>time</th>\n",
       "      <th>reference</th>\n",
       "      <th>citations_0</th>\n",
       "      <th>citations</th>\n",
       "    </tr>\n",
       "  </thead>\n",
       "  <tbody>\n",
       "    <tr>\n",
       "      <th>0</th>\n",
       "      <td>2009</td>\n",
       "      <td>2012</td>\n",
       "      <td>AABY_1989_I_7</td>\n",
       "      <td>1</td>\n",
       "      <td>1</td>\n",
       "    </tr>\n",
       "    <tr>\n",
       "      <th>1</th>\n",
       "      <td>2009</td>\n",
       "      <td>2012</td>\n",
       "      <td>AAKER_1990_J_27</td>\n",
       "      <td>1</td>\n",
       "      <td>4</td>\n",
       "    </tr>\n",
       "    <tr>\n",
       "      <th>2</th>\n",
       "      <td>2009</td>\n",
       "      <td>2012</td>\n",
       "      <td>AAKER_1991_MANAGING</td>\n",
       "      <td>2</td>\n",
       "      <td>1</td>\n",
       "    </tr>\n",
       "    <tr>\n",
       "      <th>3</th>\n",
       "      <td>2009</td>\n",
       "      <td>2012</td>\n",
       "      <td>AAKER_1996_BUILDING</td>\n",
       "      <td>2</td>\n",
       "      <td>2</td>\n",
       "    </tr>\n",
       "    <tr>\n",
       "      <th>4</th>\n",
       "      <td>2009</td>\n",
       "      <td>2012</td>\n",
       "      <td>AAKER_1997_J_347</td>\n",
       "      <td>1</td>\n",
       "      <td>2</td>\n",
       "    </tr>\n",
       "  </tbody>\n",
       "</table>\n",
       "</div>"
      ],
      "text/plain": [
       "   time_0  time            reference  citations_0  citations\n",
       "0    2009  2012        AABY_1989_I_7            1          1\n",
       "1    2009  2012      AAKER_1990_J_27            1          4\n",
       "2    2009  2012  AAKER_1991_MANAGING            2          1\n",
       "3    2009  2012  AAKER_1996_BUILDING            2          2\n",
       "4    2009  2012     AAKER_1997_J_347            1          2"
      ]
     },
     "execution_count": 49,
     "metadata": {},
     "output_type": "execute_result"
    }
   ],
   "source": [
    "t = 27\n",
    "cited_references_t_0 = cited_references_time[cited_references_time['time'] == years[t-1]]\n",
    "cited_references_t = cited_references_time[cited_references_time['time'] == years[t]]\n",
    "preferential_attachment = pd.merge(left=cited_references_t_0, right=cited_references_t, on='reference')\n",
    "preferential_attachment.columns = ['time_0', 'reference', 'citations_0', 'time', 'citations']\n",
    "preferential_attachment = preferential_attachment[['time_0', 'time', 'reference', 'citations_0', 'citations']]\n",
    "preferential_attachment.head()"
   ]
  },
  {
   "cell_type": "code",
   "execution_count": 50,
   "metadata": {},
   "outputs": [],
   "source": [
    "a = np.column_stack((preferential_attachment['citations_0'], preferential_attachment['citations']))"
   ]
  },
  {
   "cell_type": "code",
   "execution_count": 51,
   "metadata": {},
   "outputs": [
    {
     "data": {
      "image/png": "[encoded data removed]",
      "text/plain": [
       "<Figure size 432x288 with 1 Axes>"
      ]
     },
     "metadata": {
      "needs_background": "light"
     },
     "output_type": "display_data"
    }
   ],
   "source": [
    "plt.scatter(a[:, 0], a[:, 1])\n",
    "plt.xscale('log')\n",
    "plt.yscale('log')"
   ]
  },
  {
   "cell_type": "markdown",
   "metadata": {},
   "source": [
    "#### Fitting A Scaling Law"
   ]
  },
  {
   "cell_type": "code",
   "execution_count": 52,
   "metadata": {},
   "outputs": [],
   "source": [
    "def ols_reg(a):\n",
    "    # log and reshape data\n",
    "    x_log10 = np.log10(a[:, 0])\n",
    "    x_log10_reshape = x_log10.reshape(len(x_log10), 1)\n",
    "    y_log10 = np.log10(a[:, 1])\n",
    "    y_log10_reshape = y_log10.reshape(len(y_log10), 1)\n",
    "    # fit linear model in log space\n",
    "    import sklearn.linear_model as sk_lm\n",
    "    reg = sk_lm.LinearRegression()\n",
    "    reg.fit(x_log10_reshape, y_log10_reshape)\n",
    "    y_log10_reshape_predict = reg.predict(x_log10_reshape)\n",
    "    # create output\n",
    "    x_min = min(a[:, 0])\n",
    "    x_max = max(a[:, 0])\n",
    "    d = 10**reg.intercept_[0]\n",
    "    beta = reg.coef_[0][0]\n",
    "    from sklearn.metrics import r2_score\n",
    "    r2 = r2_score(y_log10_reshape, y_log10_reshape_predict)\n",
    "    a_fit = np.array([[x_min, d*x_min**beta], [x_max, d*x_max**beta]])\n",
    "    return beta, r2, a_fit"
   ]
  },
  {
   "cell_type": "code",
   "execution_count": 53,
   "metadata": {},
   "outputs": [
    {
     "data": {
      "text/plain": [
       "(0.7837925346811114, 0.47017372756740017)"
      ]
     },
     "execution_count": 53,
     "metadata": {},
     "output_type": "execute_result"
    }
   ],
   "source": [
    "beta, r2, a_fit = ols_reg(a)\n",
    "beta, r2"
   ]
  },
  {
   "cell_type": "code",
   "execution_count": 54,
   "metadata": {},
   "outputs": [
    {
     "data": {
      "image/png": "[encoded data removed]",
      "text/plain": [
       "<Figure size 432x288 with 1 Axes>"
      ]
     },
     "metadata": {
      "needs_background": "light"
     },
     "output_type": "display_data"
    }
   ],
   "source": [
    "plt.scatter(a[:, 0], a[:, 1])\n",
    "plt.plot(a_fit[:, 0], a_fit[:, 1])\n",
    "plt.xscale('log')\n",
    "plt.yscale('log')"
   ]
  },
  {
   "cell_type": "markdown",
   "metadata": {},
   "source": [
    "#### Fitting A Scaling Law On Averaged Data"
   ]
  },
  {
   "cell_type": "code",
   "execution_count": 57,
   "metadata": {},
   "outputs": [],
   "source": [
    "a_mean = pd.DataFrame(a).groupby(0).mean().reset_index().values"
   ]
  },
  {
   "cell_type": "code",
   "execution_count": 58,
   "metadata": {},
   "outputs": [
    {
     "data": {
      "text/plain": [
       "(1.0063572926094517, 0.9694299648104099)"
      ]
     },
     "execution_count": 58,
     "metadata": {},
     "output_type": "execute_result"
    }
   ],
   "source": [
    "beta_mean, r2_mean, a_fit_mean = ols_reg(a_mean)\n",
    "beta_mean, r2_mean"
   ]
  },
  {
   "cell_type": "code",
   "execution_count": 59,
   "metadata": {},
   "outputs": [
    {
     "data": {
      "image/png": "[encoded data removed]",
      "text/plain": [
       "<Figure size 432x288 with 1 Axes>"
      ]
     },
     "metadata": {
      "needs_background": "light"
     },
     "output_type": "display_data"
    }
   ],
   "source": [
    "plt.scatter(a[:, 0], a[:, 1])\n",
    "plt.scatter(a_mean[:, 0], a_mean[:, 1])\n",
    "plt.plot(a_fit_mean[:, 0], a_fit_mean[:, 1])\n",
    "plt.xscale('log')\n",
    "plt.yscale('log')"
   ]
  }
 ],
 "metadata": {
  "kernelspec": {
   "display_name": "Python 3",
   "language": "python",
   "name": "python3"
  },
  "language_info": {
   "codemirror_mode": {
    "name": "ipython",
    "version": 3
   },
   "file_extension": ".py",
   "mimetype": "text/x-python",
   "name": "python",
   "nbconvert_exporter": "python",
   "pygments_lexer": "ipython3",
   "version": "3.7.3"
  }
 },
 "nbformat": 4,
 "nbformat_minor": 2
}
