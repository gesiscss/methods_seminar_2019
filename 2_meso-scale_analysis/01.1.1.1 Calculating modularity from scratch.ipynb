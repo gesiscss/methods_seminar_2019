{
 "cells": [
  {
   "cell_type": "code",
   "execution_count": 1,
   "metadata": {},
   "outputs": [],
   "source": [
    "%config InlineBackend.figure_format = 'retina'\n",
    "import numpy as np\n",
    "import networkx as nx\n",
    "import matplotlib.pyplot as plt\n",
    "from itertools import cycle\n",
    "def color_cycle():\n",
    "    \"\"\"\n",
    "        This is a cycle of colors.\n",
    "    \"\"\"\n",
    "    colors = ['#a6cee3','#1f78b4','#b2df8a','#33a02c','#fb9a99','#e31a1c','#fdbf6f','#ff7f00','#cab2d6']\n",
    "    return cycle(colors)\n",
    "colors = color_cycle()"
   ]
  },
  {
   "cell_type": "markdown",
   "metadata": {},
   "source": [
    "# Modularity\n",
    "\n",
    "Let's measure the modularity, \n",
    "\n",
    "$$Q = \\dfrac{1}{2m}\\sum_{ij}\\left(A_{ij} - \\dfrac{k_ik_j}{2m}\\right)\\delta(x_i, x_j)$$\n",
    "\n",
    "from scratch.\n",
    "\n",
    "To measure modularity, we need a graph and a group membership:"
   ]
  },
  {
   "cell_type": "code",
   "execution_count": 2,
   "metadata": {},
   "outputs": [],
   "source": [
    "adjacency = [[0, 1, 1, 0, 0, 0],\n",
    "             [1, 0, 1, 0, 0, 0],\n",
    "             [1, 1, 0, 1, 0, 0],\n",
    "             [0, 0, 1, 0, 1, 1],\n",
    "             [0, 0, 0, 1, 0, 1],\n",
    "             [0, 0, 0, 1, 1, 0]]\n",
    "adjacency = np.array(adjacency)"
   ]
  },
  {
   "cell_type": "code",
   "execution_count": 3,
   "metadata": {},
   "outputs": [],
   "source": [
    "g = nx.from_numpy_array(adjacency)"
   ]
  },
  {
   "cell_type": "code",
   "execution_count": 4,
   "metadata": {},
   "outputs": [],
   "source": [
    "membership = {0: [0, 1, 2, 3],\n",
    "              1: [4, 5]}"
   ]
  },
  {
   "cell_type": "code",
   "execution_count": 5,
   "metadata": {},
   "outputs": [
    {
     "name": "stderr",
     "output_type": "stream",
     "text": [
      "/usr/local/lib/python3.7/site-packages/networkx/drawing/nx_pylab.py:579: MatplotlibDeprecationWarning: \n",
      "The iterable function was deprecated in Matplotlib 3.1 and will be removed in 3.3. Use np.iterable instead.\n",
      "  if not cb.iterable(width):\n"
     ]
    },
    {
     "data": {
      "image/png": "[encoded data removed]",
      "text/plain": [
       "<Figure size 288x288 with 1 Axes>"
      ]
     },
     "metadata": {
      "image/png": {
       "height": 231,
       "width": 237
      }
     },
     "output_type": "display_data"
    }
   ],
   "source": [
    "plt.figure(figsize=(4, 4)) \n",
    "pos = nx.spring_layout(g, seed=10, iterations=5000)\n",
    "for p in membership:\n",
    "    nx.draw_networkx_nodes(g, nodelist=membership[p], pos=pos, node_size=200, node_color=next(colors))\n",
    "nx.draw_networkx_edges(g, pos, width=1.0, alpha=0.8)\n",
    "nx.draw_networkx_labels(g, pos, font_size=13)\n",
    "plt.axis('off')\n",
    "plt.show()"
   ]
  },
  {
   "cell_type": "markdown",
   "metadata": {},
   "source": [
    "We create a matrix for $\\delta(x_i, x_j)$:"
   ]
  },
  {
   "cell_type": "code",
   "execution_count": 6,
   "metadata": {},
   "outputs": [
    {
     "data": {
      "text/plain": [
       "array([[ True,  True,  True,  True, False, False],\n",
       "       [ True,  True,  True,  True, False, False],\n",
       "       [ True,  True,  True,  True, False, False],\n",
       "       [ True,  True,  True,  True, False, False],\n",
       "       [False, False, False, False,  True,  True],\n",
       "       [False, False, False, False,  True,  True]])"
      ]
     },
     "execution_count": 6,
     "metadata": {},
     "output_type": "execute_result"
    }
   ],
   "source": [
    "membership_ = dict([(v, k) for k in membership.keys() for v in membership[k]])\n",
    "delta_i_j = [[membership_[i] == membership_[j] for i in range(len(adjacency))] for j in range(len(adjacency))]\n",
    "delta_i_j = np.array(delta_i_j)\n",
    "delta_i_j"
   ]
  },
  {
   "cell_type": "markdown",
   "metadata": {},
   "source": [
    "We also create a matrix for $p_{ij} = \\dfrac{k_ik_j}{2m}$:"
   ]
  },
  {
   "cell_type": "code",
   "execution_count": 7,
   "metadata": {},
   "outputs": [
    {
     "data": {
      "text/plain": [
       "array([[0.28571429, 0.28571429, 0.42857143, 0.42857143, 0.28571429,\n",
       "        0.28571429],\n",
       "       [0.28571429, 0.28571429, 0.42857143, 0.42857143, 0.28571429,\n",
       "        0.28571429],\n",
       "       [0.42857143, 0.42857143, 0.64285714, 0.64285714, 0.42857143,\n",
       "        0.42857143],\n",
       "       [0.42857143, 0.42857143, 0.64285714, 0.64285714, 0.42857143,\n",
       "        0.42857143],\n",
       "       [0.28571429, 0.28571429, 0.42857143, 0.42857143, 0.28571429,\n",
       "        0.28571429],\n",
       "       [0.28571429, 0.28571429, 0.42857143, 0.42857143, 0.28571429,\n",
       "        0.28571429]])"
      ]
     },
     "execution_count": 7,
     "metadata": {},
     "output_type": "execute_result"
    }
   ],
   "source": [
    "degrees = g.degree()\n",
    "two_m = 2*g.number_of_edges()\n",
    "\n",
    "random_model = [[degrees[i]*degrees[j]/two_m for i in range(len(adjacency))] for j in range(len(adjacency))]\n",
    "random_model = np.array(random_model)\n",
    "random_model"
   ]
  },
  {
   "cell_type": "markdown",
   "metadata": {},
   "source": [
    "Now we can multiply these matrices, sum the elements, then normalize it. "
   ]
  },
  {
   "cell_type": "code",
   "execution_count": 8,
   "metadata": {},
   "outputs": [
    {
     "data": {
      "text/plain": [
       "0.12244897959183675"
      ]
     },
     "execution_count": 8,
     "metadata": {},
     "output_type": "execute_result"
    }
   ],
   "source": [
    "np.sum((adjacency - random_model)* delta_i_j)/(two_m)"
   ]
  },
  {
   "cell_type": "markdown",
   "metadata": {},
   "source": [
    "From the `networkx` implementation:"
   ]
  },
  {
   "cell_type": "code",
   "execution_count": 9,
   "metadata": {},
   "outputs": [
    {
     "data": {
      "text/plain": [
       "0.12244897959183673"
      ]
     },
     "execution_count": 9,
     "metadata": {},
     "output_type": "execute_result"
    }
   ],
   "source": [
    "nx.algorithms.community.quality.modularity(g, list(membership.values())) "
   ]
  },
  {
   "cell_type": "markdown",
   "metadata": {},
   "source": [
    "## It is all a matrix multiplication!\n",
    "\n",
    "It is the following matrix:"
   ]
  },
  {
   "cell_type": "code",
   "execution_count": 10,
   "metadata": {},
   "outputs": [
    {
     "data": {
      "image/png": "[encoded data removed]",
      "text/plain": [
       "<Figure size 288x288 with 1 Axes>"
      ]
     },
     "metadata": {
      "image/png": {
       "height": 257,
       "width": 251
      },
      "needs_background": "light"
     },
     "output_type": "display_data"
    }
   ],
   "source": [
    "plt.matshow(adjacency, cmap=plt.cm.bone_r);"
   ]
  },
  {
   "cell_type": "markdown",
   "metadata": {},
   "source": [
    "minus the following one:"
   ]
  },
  {
   "cell_type": "code",
   "execution_count": 11,
   "metadata": {},
   "outputs": [
    {
     "data": {
      "image/png": "[encoded data removed]",
      "text/plain": [
       "<Figure size 288x288 with 1 Axes>"
      ]
     },
     "metadata": {
      "image/png": {
       "height": 257,
       "width": 251
      },
      "needs_background": "light"
     },
     "output_type": "display_data"
    }
   ],
   "source": [
    "plt.matshow(random_model, cmap=plt.cm.bone_r);"
   ]
  },
  {
   "cell_type": "code",
   "execution_count": 12,
   "metadata": {},
   "outputs": [
    {
     "data": {
      "image/png": "[encoded data removed]",
      "text/plain": [
       "<Figure size 288x288 with 1 Axes>"
      ]
     },
     "metadata": {
      "image/png": {
       "height": 257,
       "width": 251
      },
      "needs_background": "light"
     },
     "output_type": "display_data"
    }
   ],
   "source": [
    "plt.matshow(adjacency - random_model, cmap=plt.cm.bone_r);"
   ]
  },
  {
   "cell_type": "markdown",
   "metadata": {},
   "source": [
    "Then we multiply that result to the matrix:"
   ]
  },
  {
   "cell_type": "code",
   "execution_count": 13,
   "metadata": {},
   "outputs": [
    {
     "data": {
      "image/png": "[encoded data removed]",
      "text/plain": [
       "<Figure size 288x288 with 1 Axes>"
      ]
     },
     "metadata": {
      "image/png": {
       "height": 257,
       "width": 251
      },
      "needs_background": "light"
     },
     "output_type": "display_data"
    }
   ],
   "source": [
    "plt.matshow(delta_i_j, cmap=plt.cm.bone_r);"
   ]
  },
  {
   "cell_type": "markdown",
   "metadata": {},
   "source": [
    "which result the following:"
   ]
  },
  {
   "cell_type": "code",
   "execution_count": 14,
   "metadata": {},
   "outputs": [
    {
     "data": {
      "image/png": "[encoded data removed]",
      "text/plain": [
       "<Figure size 288x288 with 1 Axes>"
      ]
     },
     "metadata": {
      "image/png": {
       "height": 257,
       "width": 251
      },
      "needs_background": "light"
     },
     "output_type": "display_data"
    }
   ],
   "source": [
    "plt.matshow((adjacency - random_model)*delta_i_j, cmap=plt.cm.bone_r);"
   ]
  },
  {
   "cell_type": "markdown",
   "metadata": {},
   "source": [
    "Then we sum up all the elements, and finally divide by $2m$."
   ]
  },
  {
   "cell_type": "code",
   "execution_count": 15,
   "metadata": {},
   "outputs": [
    {
     "data": {
      "text/plain": [
       "0.12244897959183675"
      ]
     },
     "execution_count": 15,
     "metadata": {},
     "output_type": "execute_result"
    }
   ],
   "source": [
    "np.sum((adjacency - random_model)*delta_i_j) / two_m"
   ]
  }
 ],
 "metadata": {
  "kernelspec": {
   "display_name": "Python 3",
   "language": "python",
   "name": "python3"
  },
  "language_info": {
   "codemirror_mode": {
    "name": "ipython",
    "version": 3
   },
   "file_extension": ".py",
   "mimetype": "text/x-python",
   "name": "python",
   "nbconvert_exporter": "python",
   "pygments_lexer": "ipython3",
   "version": "3.7.4"
  }
 },
 "nbformat": 4,
 "nbformat_minor": 2
}
