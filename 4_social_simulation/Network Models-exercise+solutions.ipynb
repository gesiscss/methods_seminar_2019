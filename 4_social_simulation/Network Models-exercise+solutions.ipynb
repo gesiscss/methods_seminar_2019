{
 "cells": [
  {
   "cell_type": "markdown",
   "metadata": {},
   "source": [
    "Author: Fariba Karimi\n",
    "\n",
    "Website: frbkrm.com\n",
    "\n",
    "Version: 18 July 2019\n",
    "\n",
    "Generating networks with python and networkx"
   ]
  },
  {
   "cell_type": "markdown",
   "metadata": {},
   "source": [
    "# A tutorial on generating networks\n"
   ]
  },
  {
   "cell_type": "markdown",
   "metadata": {},
   "source": []
  },
  {
   "cell_type": "code",
   "execution_count": 8,
   "metadata": {
    "collapsed": true
   },
   "outputs": [],
   "source": [
    "## let's import libraries that we need\n",
    "import networkx as nx\n",
    "import random\n",
    "import numpy as np"
   ]
  },
  {
   "cell_type": "markdown",
   "metadata": {},
   "source": [
    "## Exercises"
   ]
  },
  {
   "cell_type": "markdown",
   "metadata": {},
   "source": [
    "<div class=\"alert alert-success\">\n",
    "    <b>Exercise 1</b> \n",
    "In many social networks, it could be other mechanisms that drive the formation of links. One example could be fitness. Nodes with higher fitness have higher chance of being chosen even if they don't have large degress. Generate a network model that only individual fitness drives link formation. Individual fitness is a random number between 0 and 1 that is drawn from a uniform distribution. Hint: instead of degree, assign fitness to nodes\n",
    "</div>"
   ]
  },
  {
   "cell_type": "code",
   "execution_count": null,
   "metadata": {
    "collapsed": false
   },
   "outputs": [],
   "source": []
  },
  {
   "cell_type": "code",
   "execution_count": 14,
   "metadata": {
    "collapsed": true
   },
   "outputs": [],
   "source": [
    "def pick_targets_fitness(G , m , fitness_dict):\n",
    "    # first make the probability list\n",
    "    \n",
    "    sum_fitness = 0\n",
    "    for n in G.nodes():\n",
    "        sum_fitness += fitness_dict[n]\n",
    "\n",
    "    cumulative_sum = 0\n",
    "    probability_dict = {}\n",
    "    for n in G.nodes():\n",
    "        fitness_prob = fitness_dict[n]\n",
    "        node_prob = (fitness_prob)/sum_fitness\n",
    "        cumulative_sum += node_prob\n",
    "        probability_dict[n] = cumulative_sum\n",
    "    \n",
    "    # now pick the target \n",
    "    chosen = []\n",
    "    for i in range(m):\n",
    "        r = random.random() # a random number between 0 and 1\n",
    "        for n,cum_sum in probability_dict.items():\n",
    "            if r <= cum_sum:\n",
    "                chosen.append(n)\n",
    "                break\n",
    "    return chosen  "
   ]
  },
  {
   "cell_type": "code",
   "execution_count": 15,
   "metadata": {
    "collapsed": false
   },
   "outputs": [],
   "source": [
    "N = 200\n",
    "m = 2\n",
    "source = m\n",
    "G = nx.Graph()\n",
    "fitness_dict = {}\n",
    "for n in range(N):\n",
    "    rnd_fitness = np.random.uniform(0,1) #drawn from a uniform distribution\n",
    "    fitness_dict[n] = rnd_fitness\n",
    "    \n",
    "while source < N:\n",
    "    targets = pick_targets_fitness(G , m , fitness_dict)\n",
    "    for target in targets:\n",
    "        G.add_edge(source,target)\n",
    "    source += 1"
   ]
  },
  {
   "cell_type": "markdown",
   "metadata": {
    "collapsed": true
   },
   "source": [
    "<div class=\"alert alert-success\">\n",
    "    <b>Exercise 2</b> \n",
    "In many social networks, apart from preferential attachment, it could be other mechanisms that drive the formation of links. One example could be fitness. Nodes with higher fitness have higher chance of being chosen even if they don't have large degress. Generate a network model with preferential attachment and individual fitness. Individual fitness is a random number between 0 and 1 that is drawn from a uniform distribution. Hint: node_prob = (fitness x degree) /sum(fitness x degree)\n",
    "</div>"
   ]
  },
  {
   "cell_type": "code",
   "execution_count": 9,
   "metadata": {
    "collapsed": true
   },
   "outputs": [],
   "source": [
    "def pick_targets(G , m , fitness_dict):\n",
    "    # first make the probability list\n",
    "    \n",
    "    degree_dict = G.degree() #dictionary of degree. keys: nodes, values:degree\n",
    "    sum_fitness_degree = 0\n",
    "    for n,deg in G.degree():\n",
    "        sum_fitness_degree += fitness_dict[n]*deg\n",
    "\n",
    "    cumulative_sum = 0\n",
    "    probability_dict = {}\n",
    "    for n,deg in degree_dict:\n",
    "        fitness_prob = fitness_dict[n]\n",
    "        node_prob = (deg * fitness_prob)/sum_fitness_degree\n",
    "        cumulative_sum += node_prob\n",
    "        probability_dict[n] = cumulative_sum\n",
    "    \n",
    "    # now pick the target \n",
    "    chosen = []\n",
    "    for i in range(m):\n",
    "        r = random.random() # a random number between 0 and 1\n",
    "        for n,cum_sum in probability_dict.items():\n",
    "            if r <= cum_sum:\n",
    "                chosen.append(n)\n",
    "                break\n",
    "    return chosen    \n",
    "    "
   ]
  },
  {
   "cell_type": "code",
   "execution_count": 10,
   "metadata": {
    "collapsed": false
   },
   "outputs": [],
   "source": [
    "N = 200\n",
    "m = 2\n",
    "source = m\n",
    "G = nx.Graph()\n",
    "fitness_dict = {}\n",
    "for n in range(N):\n",
    "    rnd_fitness = np.random.uniform(0,1) #drawn from a uniform distribution\n",
    "    fitness_dict[n] = rnd_fitness\n",
    "    \n",
    "while source < N:\n",
    "    targets = pick_targets(G , m , fitness_dict)\n",
    "    for target in targets:\n",
    "        G.add_edge(source,target)\n",
    "    source += 1"
   ]
  },
  {
   "cell_type": "markdown",
   "metadata": {},
   "source": [
    "<div class=\"alert alert-success\">\n",
    "    <b>Exercise 3 (optional)</b> \n",
    "Generate networks with preferential attachment and pair-wise homophily. As an excersie, let's try to add homophily to the model. Let's assume we have two types of nodes, red and blue and homophily determines the intrinsic tendency between red to red (h_rr) and blue to blue (h_bb). Homophily in this definition can vary from 0 to 1. Let's first assume homophily is 0.5. In this case h_rr = 0.5 h_bb = 0.5.\n",
    "homophily between red to blue is simply the complementory values: h_rb = 1 - h_rr. Hint: the main code can be found here: https://github.com/frbkrm/HomophilicNtwMinorities/blob/master/generate_homophilic_graph_symmetric.py\n",
    "\n",
    "</div>"
   ]
  },
  {
   "cell_type": "code",
   "execution_count": null,
   "metadata": {
    "collapsed": true
   },
   "outputs": [],
   "source": []
  },
  {
   "cell_type": "markdown",
   "metadata": {},
   "source": [
    "<div class=\"alert alert-success\">\n",
    "    <b>Exercise 4 (optional)</b> \n",
    "Think about any other social mechanism that you are interested to study and model the network based on that.\n",
    "</div>"
   ]
  },
  {
   "cell_type": "code",
   "execution_count": null,
   "metadata": {
    "collapsed": true
   },
   "outputs": [],
   "source": []
  }
 ],
 "metadata": {
  "kernelspec": {
   "display_name": "Python 3",
   "language": "python",
   "name": "python3"
  },
  "language_info": {
   "codemirror_mode": {
    "name": "ipython",
    "version": 3
   },
   "file_extension": ".py",
   "mimetype": "text/x-python",
   "name": "python",
   "nbconvert_exporter": "python",
   "pygments_lexer": "ipython3",
   "version": "3.4.2"
  }
 },
 "nbformat": 4,
 "nbformat_minor": 1
}
