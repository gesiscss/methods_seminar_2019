{
 "cells": [
  {
   "cell_type": "markdown",
   "metadata": {},
   "source": [
    "**39\\. Methodenseminar - Big Data Module II: Introduction to Social Network Science with Python**\n",
    "\n",
    "# A tutorial on stochastic block modelling: SBM generation\n",
    "\n",
    "**Author**: <a href='https://marcosoliveira.info/'>Marcos Oliveira</a>, GESIS - Leibniz Institute for the Social Sciences\n",
    "\n",
    "**Version**: 29 May 2019\n",
    "\n",
    "**Description**: This is an introduction to stochastic block modelling in Python using the <code>graph-tool</code> library. \n",
    "    \n",
    "## Imports and Settings"
   ]
  },
  {
   "cell_type": "code",
   "execution_count": 1,
   "metadata": {},
   "outputs": [],
   "source": [
    "import matplotlib.pyplot as plt\n",
    "import numpy as np"
   ]
  },
  {
   "cell_type": "markdown",
   "metadata": {},
   "source": [
    "<div class=\"alert alert-danger\">\n",
    "    You need the <code>graph_tool</code> library in your machine. Sometimes the installation is challenging. This <a href=https://git.skewed.de/count0/graph-tool/wikis/installation-instructions>page</a> might help you.\n",
    "</div>"
   ]
  },
  {
   "cell_type": "code",
   "execution_count": 2,
   "metadata": {},
   "outputs": [],
   "source": [
    "import graph_tool.all as gt"
   ]
  },
  {
   "cell_type": "code",
   "execution_count": 3,
   "metadata": {},
   "outputs": [],
   "source": [
    "def node_colors(g, group_memberships):\n",
    "    # color of the nodes\n",
    "    colors = ['#a6cee3','#1f78b4','#b2df8a','#33a02c','#fb9a99','#e31a1c','#fdbf6f','#ff7f00','#cab2d6']\n",
    "    to_rgb = lambda h: list(int(h[i:i+2], 16)/255. for i in (0, 2, 4))\n",
    "    vertex_color = g.new_vertex_property('vector<double>')\n",
    "    for m, v in zip(group_memberships, g.vertices()):\n",
    "        vertex_color[g.vertex(v)] = tuple(to_rgb(colors[m][1:]) + [255.0])\n",
    "    return vertex_color\n",
    "\n",
    "def generate_assortative_block_mix(group_sizes, p_ii, p_ij):\n",
    "    groups = len(group_sizes)\n",
    "    membership = np.concatenate([\n",
    "        np.repeat(i, g) for (i, g) in zip(range(groups), group_sizes)\n",
    "    ])\n",
    "    propensity = np.zeros([groups, groups])\n",
    "    for i in range(groups):\n",
    "        for j in range(groups):\n",
    "            if i == j:\n",
    "                propensity[i, j] = p_ii * group_sizes[i] * group_sizes[j] \n",
    "            else:\n",
    "                propensity[i, j] = p_ij * group_sizes[i] * group_sizes[j] / 2.    \n",
    "    return membership, propensity"
   ]
  },
  {
   "cell_type": "markdown",
   "metadata": {},
   "source": [
    "## Exercises"
   ]
  },
  {
   "cell_type": "markdown",
   "metadata": {},
   "source": [
    "<div class=\"alert alert-success\">\n",
    "    <b>Exercise 1</b> \n",
    "    \n",
    "In some social networks, the age of the individuals plays a main role, producing the so-called 'ordered communities'. Create the block matrix for this type of structure and generate networks using SBM.\n",
    "</div>"
   ]
  },
  {
   "cell_type": "code",
   "execution_count": null,
   "metadata": {},
   "outputs": [],
   "source": []
  },
  {
   "cell_type": "markdown",
   "metadata": {},
   "source": [
    "<div class=\"alert alert-success\">\n",
    "    <b>Exercise 2</b> \n",
    "    \n",
    "Many real-world networks exhibit degree heterogeneity. Using the standard stochastic block model, create the block matrix for this type of structure and generate networks.\n",
    "</div>"
   ]
  },
  {
   "cell_type": "code",
   "execution_count": null,
   "metadata": {},
   "outputs": [],
   "source": []
  },
  {
   "cell_type": "markdown",
   "metadata": {},
   "source": [
    "<div class=\"alert alert-success\">\n",
    "    <b>Exercise 3</b> \n",
    "    \n",
    "Construct a network with a multi-core-periphery structure using the SBM.\n",
    "\n",
    "</div>"
   ]
  },
  {
   "cell_type": "code",
   "execution_count": null,
   "metadata": {},
   "outputs": [],
   "source": []
  },
  {
   "cell_type": "markdown",
   "metadata": {},
   "source": [
    "<div class=\"alert alert-success\">\n",
    "    <b>Exercise 4</b> \n",
    "    \n",
    "Construct the following using the SBM:\n",
    "<img src=\"images/sbm_hierarchy.png\">\n",
    "\n",
    "<b>Hint:</b> <code>gt.<b>remove_parallel_edges</b></code>\n",
    "</div>\n"
   ]
  },
  {
   "cell_type": "code",
   "execution_count": null,
   "metadata": {},
   "outputs": [],
   "source": []
  },
  {
   "cell_type": "markdown",
   "metadata": {},
   "source": [
    "<div class=\"alert alert-success\">\n",
    "    <b>Exercise 5</b> \n",
    "    \n",
    "Construct the following using the SBM:\n",
    "<img src=\"images/sbm_ring.png\">\n",
    "\n",
    "</div>\n"
   ]
  },
  {
   "cell_type": "code",
   "execution_count": null,
   "metadata": {},
   "outputs": [],
   "source": []
  },
  {
   "cell_type": "markdown",
   "metadata": {},
   "source": [
    "<div class=\"alert alert-success\">\n",
    "    <b>Exercise 6</b> \n",
    "    \n",
    "From the real-world networks we already analyzed during the course, construct the SBM of one of them.\n",
    "\n",
    "</div>"
   ]
  },
  {
   "cell_type": "code",
   "execution_count": null,
   "metadata": {},
   "outputs": [],
   "source": []
  }
 ],
 "metadata": {
  "kernelspec": {
   "display_name": "Python 3",
   "language": "python",
   "name": "python3"
  },
  "language_info": {
   "codemirror_mode": {
    "name": "ipython",
    "version": 3
   },
   "file_extension": ".py",
   "mimetype": "text/x-python",
   "name": "python",
   "nbconvert_exporter": "python",
   "pygments_lexer": "ipython3",
   "version": "3.7.4"
  }
 },
 "nbformat": 4,
 "nbformat_minor": 2
}
