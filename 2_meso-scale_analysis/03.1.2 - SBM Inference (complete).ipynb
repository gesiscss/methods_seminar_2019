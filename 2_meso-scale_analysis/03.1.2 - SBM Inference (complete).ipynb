{
 "cells": [
  {
   "cell_type": "markdown",
   "metadata": {},
   "source": [
    "**39\\. Methodenseminar - Big Data Module II: Introduction to Social Network Science with Python**\n",
    "\n",
    "# A tutorial on stochastic block modelling: SBM inference\n",
    "\n",
    "**Author**: <a href='https://marcosoliveira.info/'>Marcos Oliveira</a>, GESIS - Leibniz Institute for the Social Sciences\n",
    "\n",
    "**Version**: 29 May 2019\n",
    "\n",
    "**Description**: This is an introduction to stochastic block modelling in Python using the <code>graph-tool</code> library. \n",
    "    \n",
    "## Imports and Settings"
   ]
  },
  {
   "cell_type": "code",
   "execution_count": null,
   "metadata": {},
   "outputs": [],
   "source": [
    "%config InlineBackend.figure_format = 'retina'\n",
    "import matplotlib.pyplot as plt\n",
    "import numpy as np"
   ]
  },
  {
   "cell_type": "markdown",
   "metadata": {},
   "source": [
    "<div class=\"alert alert-danger\">\n",
    "    You need the <code>graph_tool</code> library in your machine. Sometimes the installation is challenging. This <a href=https://git.skewed.de/count0/graph-tool/wikis/installation-instructions>page</a> might help you.\n",
    "</div>"
   ]
  },
  {
   "cell_type": "code",
   "execution_count": null,
   "metadata": {},
   "outputs": [],
   "source": [
    "import graph_tool.all as gt"
   ]
  },
  {
   "cell_type": "code",
   "execution_count": null,
   "metadata": {},
   "outputs": [],
   "source": [
    "# a helper for colors\n",
    "def node_colors(g, group_memberships):\n",
    "    colors = ['#a6cee3','#1f78b4','#b2df8a','#33a02c','#fb9a99','#e31a1c','#fdbf6f','#ff7f00','#cab2d6']\n",
    "    to_rgb = lambda h: list(int(h[i:i+2], 16)/255. for i in (0, 2, 4))\n",
    "    vertex_color = g.new_vertex_property('vector<double>')\n",
    "    for m, v in zip(group_memberships, g.vertices()):\n",
    "        vertex_color[g.vertex(v)] = tuple(to_rgb(colors[m%len(colors)][1:]) + [255.0])\n",
    "    return vertex_color\n",
    "\n",
    "# blockmodel generator\n",
    "def generate_assortative_block_mix(group_sizes, p_ii, p_ij):\n",
    "    groups = len(group_sizes)\n",
    "    membership = np.concatenate([\n",
    "        np.repeat(i, g) for (i, g) in zip(range(groups), group_sizes)\n",
    "    ])\n",
    "    propensity = np.zeros([groups, groups])\n",
    "    for i in range(groups):\n",
    "        for j in range(groups):\n",
    "            if i == j:\n",
    "                propensity[i, j] = p_ii * group_sizes[i] * group_sizes[j] \n",
    "            else:\n",
    "                propensity[i, j] = p_ij * group_sizes[i] * group_sizes[j] / 2.    \n",
    "    return membership, propensity\n",
    "\n",
    "# a helper to reset the rng\n",
    "def reset_rng():\n",
    "    np.random.seed(42)\n",
    "    gt.seed_rng(42)\n",
    "    \n",
    "def block_assignment(membership):\n",
    "    b = np.zeros(len(np.concatenate(list(membership.values()))), dtype=int)\n",
    "    for b_ in membership:\n",
    "        b[membership[b_]] = b_\n",
    "    return b"
   ]
  },
  {
   "cell_type": "markdown",
   "metadata": {},
   "source": [
    "# Inferring large-scale structures"
   ]
  },
  {
   "cell_type": "markdown",
   "metadata": {},
   "source": [
    "# The Stochastic Block Model"
   ]
  },
  {
   "cell_type": "markdown",
   "metadata": {},
   "source": [
    "Let's start with a simple graph."
   ]
  },
  {
   "cell_type": "code",
   "execution_count": null,
   "metadata": {},
   "outputs": [],
   "source": [
    "reset_rng()\n",
    "group_sizes = [10, 10]\n",
    "simple_graph = gt.generate_sbm(*generate_assortative_block_mix(group_sizes, 1.0, 0.2))\n",
    "gt.remove_parallel_edges(simple_graph)\n",
    "gt.remove_self_loops(simple_graph)\n",
    "pos = gt.sfdp_layout(simple_graph)\n",
    "gt.graph_draw(simple_graph, output_size=(400, 400), vertex_text=simple_graph.vertex_index, vertex_font_size=15, pos=pos);"
   ]
  },
  {
   "cell_type": "code",
   "execution_count": null,
   "metadata": {},
   "outputs": [],
   "source": [
    "# membership 1\n",
    "b1 = block_assignment({0: [1, 5, 2, 3, 4, 6, 7, 8],\n",
    "                       1: [0, 9, 10, 11, 12, 13, 14, 15, 16, 17, 18, 19]})\n",
    "gt.graph_draw(simple_graph, output_size=(200, 200), vertex_fill_color=node_colors(simple_graph, b1), \n",
    "              vertex_text=simple_graph.vertex_index, vertex_font_size=10, pos=pos);    "
   ]
  },
  {
   "cell_type": "code",
   "execution_count": null,
   "metadata": {},
   "outputs": [],
   "source": [
    "# membership 2\n",
    "b2 = block_assignment({0: [0, 1, 2, 3, 4, 6, 7, 8, 9, 5, 10, 18],\n",
    "                       1: [12, 13, 14, 15, 16, 17, 19, 11]})\n",
    "gt.graph_draw(simple_graph, output_size=(200, 200), vertex_fill_color=node_colors(simple_graph, b2), \n",
    "              vertex_text=simple_graph.vertex_index, vertex_font_size=10, pos=pos);    "
   ]
  },
  {
   "cell_type": "code",
   "execution_count": null,
   "metadata": {},
   "outputs": [],
   "source": [
    "# membership 3\n",
    "b3 = block_assignment({0: [0, 1, 2, 3, 4, 6, 7, 8, 9, 5],\n",
    "                       1: [10, 11, 12, 13, 14, 15, 16, 17, 18, 19]})\n",
    "gt.graph_draw(simple_graph, output_size=(200, 200), vertex_fill_color=node_colors(simple_graph, b3), \n",
    "              vertex_text=simple_graph.vertex_index, vertex_font_size=10, pos=pos);    "
   ]
  },
  {
   "cell_type": "code",
   "execution_count": null,
   "metadata": {},
   "outputs": [],
   "source": [
    "print(\"b1 =\", b1)\n",
    "print(\"b2 =\", b2)\n",
    "print(\"b3 =\", b3)"
   ]
  },
  {
   "cell_type": "markdown",
   "metadata": {},
   "source": [
    "For a network $G$, we have three different $\\mathbf{b}$. Which one is the best to explain our data?\n",
    "\n",
    "<div class=\"alert alert-info\">\n",
    "Did you notice that our question is different in the case of modularity maximization?\n",
    "</div>"
   ]
  },
  {
   "cell_type": "markdown",
   "metadata": {},
   "source": [
    "## The entropy of stochastic blockmodel ensembles\n",
    "To answer this question, first let's think a bit about our models. Specifically, let's examine the following $e_{rs}$ matrices:"
   ]
  },
  {
   "cell_type": "code",
   "execution_count": null,
   "metadata": {},
   "outputs": [],
   "source": [
    "group_sizes = [200, 200]"
   ]
  },
  {
   "cell_type": "code",
   "execution_count": null,
   "metadata": {},
   "outputs": [],
   "source": [
    "h_ii, h_ij = 0.1, 0.1\n",
    "membership, propensity = generate_assortative_block_mix(group_sizes, h_ii, h_ij)\n",
    "propensity"
   ]
  },
  {
   "cell_type": "code",
   "execution_count": null,
   "metadata": {},
   "outputs": [],
   "source": [
    "h_ii, h_ij = 0.1, 0.01\n",
    "membership, propensity = generate_assortative_block_mix(group_sizes, h_ii, h_ij)\n",
    "propensity"
   ]
  },
  {
   "cell_type": "code",
   "execution_count": null,
   "metadata": {},
   "outputs": [],
   "source": [
    "h_ii, h_ij = 0.1, 0.001\n",
    "membership, propensity = generate_assortative_block_mix(group_sizes, h_ii, h_ij)\n",
    "propensity"
   ]
  },
  {
   "cell_type": "markdown",
   "metadata": {},
   "source": [
    "Intuitively, which of the above matrices do specify the highest number of graphs? \n",
    "\n",
    "Plots will help us:"
   ]
  },
  {
   "cell_type": "code",
   "execution_count": null,
   "metadata": {},
   "outputs": [],
   "source": [
    "h_ii, h_ij = 0.1, 0.1\n",
    "g = gt.generate_sbm(*generate_assortative_block_mix(group_sizes, h_ii, h_ij))\n",
    "gt.graph_draw(g, output_size=(300, 300));    \n",
    "\n",
    "h_ii, h_ij = 0.1, 0.01\n",
    "g = gt.generate_sbm(*generate_assortative_block_mix(group_sizes, h_ii, h_ij))\n",
    "gt.graph_draw(g, output_size=(300, 300));    \n",
    "\n",
    "h_ii, h_ij = 0.1, 0.001\n",
    "g = gt.generate_sbm(*generate_assortative_block_mix(group_sizes, h_ii, h_ij))\n",
    "gt.graph_draw(g, output_size=(300, 300));    "
   ]
  },
  {
   "cell_type": "markdown",
   "metadata": {},
   "source": [
    "We denote the number of graphs in a ensemble as $\\Omega$. Finding out this number is a combinatorial problem that we will skip here. \n",
    "\n",
    "Yet, note that the third $e_{rs}$ allows less edges between groups, decreasing the possibilities of graph instances. Note as well that a graph from this matrix seems to be more 'ordered'&mdash;we can clearly see two groups. \n",
    "\n",
    "This order is related to the the so-called *microcanonical enropy of stochastic blockmodel ensembles*, defined as $\\mathcal{S} = \\ln \\Omega$. Low entropy values indicate more order in the ensemble. \n",
    "\n",
    "### How is this related to finding out the best group assignment? \n",
    "\n",
    "Given a network realization and a group assignment, we can define the log-likelihood function $\\mathcal{L} = \\ln \\mathcal{P}$, where $\\mathcal{P}$ is the probability of observing the network. This function can guide us to find the most likely group assigment given a network. \n",
    "\n",
    "If we assume that each graph in an ensemble has the same probability, $\\mathcal{P} = 1/\\Omega$. Therefore, $\\mathcal{L} = - \\mathcal{S}$. \n",
    "\n",
    "That is, maximizing the log-likelihood function is equivalent to minimize the entropy. \n",
    "\n",
    "\n",
    "<div class=\"alert alert-info\">\n",
    "Can you see the diference between this approach and modularity maximization?\n",
    "</div>\n"
   ]
  },
  {
   "cell_type": "markdown",
   "metadata": {},
   "source": [
    "Let's use `graph-tool` to measure the entropy:"
   ]
  },
  {
   "cell_type": "code",
   "execution_count": null,
   "metadata": {},
   "outputs": [],
   "source": [
    "h_ii, h_ij = 0.1, 0.001\n",
    "membership, propensity = generate_assortative_block_mix(group_sizes, h_ii, h_ij)\n",
    "g = gt.generate_sbm(membership, propensity)\n",
    "gt.graph_draw(g, output_size=(300, 300), vertex_fill_color=node_colors(g, membership));    "
   ]
  },
  {
   "cell_type": "markdown",
   "metadata": {},
   "source": [
    "The `BlockState` class represents the stochastic block model state of a graph (documentation [here](https://graph-tool.skewed.de/static/doc/inference.html#graph_tool.inference.blockmodel.BlockState)). We can set the state as the follows:"
   ]
  },
  {
   "cell_type": "code",
   "execution_count": null,
   "metadata": {},
   "outputs": [],
   "source": [
    "block_state = gt.BlockState(g, membership, deg_corr=False)"
   ]
  },
  {
   "cell_type": "markdown",
   "metadata": {},
   "source": [
    "This class has a useful method:\n",
    "  - <code>gt.BlockState.<b>entropy</b>()</code>: Calculate the entropy associated with the current block partition.\n",
    "  \n",
    "For now, we use this with the following parameters: \n",
    "  - <code>gt.BlockState.<b>entropy</b>(adjacency=True, dl=False, dense=True, multigraph=False, exact=True)</code>"
   ]
  },
  {
   "cell_type": "code",
   "execution_count": null,
   "metadata": {},
   "outputs": [],
   "source": [
    "block_state.entropy(adjacency=True, dl=False, dense=True, multigraph=False, exact=True)"
   ]
  },
  {
   "cell_type": "markdown",
   "metadata": {},
   "source": [
    "Let's create this helper function that will make our life easier:"
   ]
  },
  {
   "cell_type": "code",
   "execution_count": null,
   "metadata": {},
   "outputs": [],
   "source": [
    "def entropy(g, membership):\n",
    "    block_state = gt.BlockState(g, membership, deg_corr=False)\n",
    "    return block_state.entropy(adjacency=True, dl=False, dense=True, multigraph=False, exact=True)"
   ]
  },
  {
   "cell_type": "markdown",
   "metadata": {},
   "source": [
    "Let's do the same for another network:"
   ]
  },
  {
   "cell_type": "code",
   "execution_count": null,
   "metadata": {},
   "outputs": [],
   "source": [
    "h_ii, h_ij = 0.1, 0.1\n",
    "membership, propensity = generate_assortative_block_mix(group_sizes, h_ii, h_ij)\n",
    "g = gt.generate_sbm(membership, propensity)\n",
    "gt.graph_draw(g, output_size=(300, 300), vertex_fill_color=node_colors(g, membership));    "
   ]
  },
  {
   "cell_type": "code",
   "execution_count": null,
   "metadata": {},
   "outputs": [],
   "source": [
    "entropy(g, membership)"
   ]
  },
  {
   "cell_type": "markdown",
   "metadata": {},
   "source": [
    "Our initial intuition made quite sense."
   ]
  },
  {
   "cell_type": "markdown",
   "metadata": {},
   "source": [
    "\n",
    "## Let's get back to our initial problem"
   ]
  },
  {
   "cell_type": "markdown",
   "metadata": {},
   "source": [
    "We have a network and want to know which membership assignment explains best the data."
   ]
  },
  {
   "cell_type": "code",
   "execution_count": null,
   "metadata": {},
   "outputs": [],
   "source": [
    "# b1\n",
    "gt.graph_draw(simple_graph, output_size=(200, 200), vertex_fill_color=node_colors(simple_graph, b1), pos=pos);  \n",
    "\n",
    "# b2\n",
    "gt.graph_draw(simple_graph, output_size=(200, 200), vertex_fill_color=node_colors(simple_graph, b2), pos=pos);  \n",
    "\n",
    "# b3\n",
    "gt.graph_draw(simple_graph, output_size=(200, 200), vertex_fill_color=node_colors(simple_graph, b3), pos=pos);  "
   ]
  },
  {
   "cell_type": "markdown",
   "metadata": {},
   "source": [
    "Entropy:"
   ]
  },
  {
   "cell_type": "code",
   "execution_count": null,
   "metadata": {},
   "outputs": [],
   "source": [
    "plt.figure(figsize=(3, 2))\n",
    "plt.bar(range(3), [entropy(simple_graph, b1), \n",
    "                   entropy(simple_graph, b2), \n",
    "                   entropy(simple_graph, b3)], \n",
    "        width=0.7, edgecolor='k')\n",
    "plt.xticks(range(3), ['b1', 'b2', 'b3']);\n",
    "plt.ylabel(r'Entropy $\\mathcal{S}$');\n",
    "plt.xlabel('Membership');"
   ]
  },
  {
   "cell_type": "markdown",
   "metadata": {},
   "source": [
    "Let's check a random assigment:"
   ]
  },
  {
   "cell_type": "code",
   "execution_count": null,
   "metadata": {},
   "outputs": [],
   "source": [
    "membership_shuffled = b1.copy()\n",
    "np.random.shuffle(membership_shuffled)\n",
    "reset_rng()\n",
    "gt.graph_draw(simple_graph, output_size=(200, 200),vertex_fill_color=node_colors(simple_graph, membership_shuffled));  "
   ]
  },
  {
   "cell_type": "code",
   "execution_count": null,
   "metadata": {},
   "outputs": [],
   "source": [
    "plt.figure(figsize=(3, 2))\n",
    "plt.bar(range(4), [entropy(simple_graph, b1), \n",
    "                   entropy(simple_graph, b2), \n",
    "                   entropy(simple_graph, b3), \n",
    "                   entropy(simple_graph, membership_shuffled)], width=0.7, edgecolor='k')\n",
    "plt.xticks(range(4), ['b1', 'b2', 'b3', 'random']);\n",
    "plt.ylabel(r'Entropy $\\mathcal{S}$');\n",
    "plt.xlabel('Membership');"
   ]
  },
  {
   "cell_type": "markdown",
   "metadata": {},
   "source": [
    "The third membership is the most likely one from the all four. "
   ]
  },
  {
   "cell_type": "markdown",
   "metadata": {},
   "source": [
    "## Inferring modular network structure"
   ]
  },
  {
   "cell_type": "markdown",
   "metadata": {},
   "source": [
    "Given that we know $B$, let's minimize the entropy."
   ]
  },
  {
   "cell_type": "code",
   "execution_count": null,
   "metadata": {},
   "outputs": [],
   "source": [
    "g = gt.collection.data[\"polbooks\"]  # polbooks, football\n",
    "g = gt.GraphView(g, vfilt=gt.label_largest_component(g))\n",
    "g = gt.Graph(g, prune=True)\n",
    "gt.remove_parallel_edges(g)\n",
    "gt.remove_self_loops(g)"
   ]
  },
  {
   "cell_type": "code",
   "execution_count": null,
   "metadata": {},
   "outputs": [],
   "source": [
    "g.num_edges(), g.num_vertices()"
   ]
  },
  {
   "cell_type": "code",
   "execution_count": null,
   "metadata": {},
   "outputs": [],
   "source": [
    "pos = gt.sfdp_layout(g)\n",
    "gt.graph_draw(g, output_size=(400, 400), pos=pos);  "
   ]
  },
  {
   "cell_type": "markdown",
   "metadata": {},
   "source": [
    "How many blocks?"
   ]
  },
  {
   "cell_type": "code",
   "execution_count": null,
   "metadata": {},
   "outputs": [],
   "source": [
    "number_of_blocks = 2"
   ]
  },
  {
   "cell_type": "markdown",
   "metadata": {},
   "source": [
    "Let's use the following function from `graph-tool`:  \n",
    "  - <code>gt.<b>minimize_blockmodel_dl</b>()</code>: Find the best partition.\n",
    "  \n",
    "For now, we will this function with the paramaters as follows:\n",
    "  - <code>gt.<b>minimize_blockmodel_dl</b>(g, deg_corr=False, B_max=number_of_blocks, B_min=number_of_blocks)</code>: Find the best partition with `number_of_blocks` blocks in the graph `g`. \n"
   ]
  },
  {
   "cell_type": "code",
   "execution_count": null,
   "metadata": {},
   "outputs": [],
   "source": [
    "state = gt.minimize_blockmodel_dl(g, deg_corr=False, B_max=number_of_blocks, B_min=number_of_blocks)"
   ]
  },
  {
   "cell_type": "markdown",
   "metadata": {},
   "source": [
    "Some other useful methods from BlockState:\n",
    " - <code>gt.BlockState.<b>get_blocks</b>()</code> \n",
    " - <code>gt.BlockState.<b>get_matrix</b>()</code> "
   ]
  },
  {
   "cell_type": "code",
   "execution_count": null,
   "metadata": {},
   "outputs": [],
   "source": [
    "b = state.get_blocks()"
   ]
  },
  {
   "cell_type": "code",
   "execution_count": null,
   "metadata": {},
   "outputs": [],
   "source": [
    "gt.graph_draw(g, output_size=(400, 400), pos=pos, vertex_fill_color=node_colors(g, b.a));  "
   ]
  },
  {
   "cell_type": "markdown",
   "metadata": {},
   "source": [
    "Let's see the adjacency matrix and organize it based on the blocks:"
   ]
  },
  {
   "cell_type": "code",
   "execution_count": null,
   "metadata": {},
   "outputs": [],
   "source": [
    "adjacency = gt.adjacency(g).todense()\n",
    "plt.matshow(adjacency);"
   ]
  },
  {
   "cell_type": "markdown",
   "metadata": {},
   "source": [
    "Ordering based on the blocks:"
   ]
  },
  {
   "cell_type": "code",
   "execution_count": null,
   "metadata": {},
   "outputs": [],
   "source": [
    "membership_dict = {}\n",
    "for i, k in zip(range(len(b.a)), b.a):\n",
    "    if k not in membership_dict:\n",
    "        membership_dict[k] = []\n",
    "    membership_dict[k].append(i)\n",
    "order = np.concatenate(list(membership_dict.values()))"
   ]
  },
  {
   "cell_type": "code",
   "execution_count": null,
   "metadata": {},
   "outputs": [],
   "source": [
    "plt.matshow(adjacency[order][:, order])"
   ]
  },
  {
   "cell_type": "markdown",
   "metadata": {},
   "source": [
    "The block matrix:"
   ]
  },
  {
   "cell_type": "code",
   "execution_count": null,
   "metadata": {},
   "outputs": [],
   "source": [
    "plt.matshow(state.get_matrix().todense(), cmap=plt.cm.jet);"
   ]
  },
  {
   "cell_type": "markdown",
   "metadata": {},
   "source": [
    "How many blocks?"
   ]
  },
  {
   "cell_type": "markdown",
   "metadata": {},
   "source": [
    "## How many blocks?\n",
    "\n",
    "Can we choose $B$ using entropy? "
   ]
  },
  {
   "cell_type": "code",
   "execution_count": null,
   "metadata": {},
   "outputs": [],
   "source": [
    "number_of_blocks_list = range(2, 50)\n",
    "entropies = []\n",
    "for n_b_i in number_of_blocks_list:\n",
    "    state = gt.minimize_blockmodel_dl(g, deg_corr=False, B_max=n_b_i, B_min=n_b_i)\n",
    "    entropies.append(state.entropy(adjacency=True, dl=False, dense=True, multigraph=False, exact=True))"
   ]
  },
  {
   "cell_type": "code",
   "execution_count": null,
   "metadata": {},
   "outputs": [],
   "source": [
    "plt.figure(figsize=(6, 3))\n",
    "plt.plot(number_of_blocks_list, entropies, marker=\"o\")\n",
    "plt.xlabel(\"Number of blocks\")\n",
    "plt.ylabel(\"Entropy\");"
   ]
  },
  {
   "cell_type": "markdown",
   "metadata": {},
   "source": [
    "Note that the entropy neglects the complexity of the model itself. It only measures the degree of order of an ensemble. \n",
    "\n",
    "Therefore, as $B$ increases, we start to memorize data (or noise), and we will have more order, so lower entropy. At the same time, we have a more complex model.\n",
    "\n",
    "## Minimum description length\n",
    "A way to account for the model complexity is to measure the description length. The description length provides us a way to measure the total amount of information required to describe data using an specific model. It is the number of bits required to send the compressed message plus the number of the encoding scheme. \n",
    "\n"
   ]
  },
  {
   "cell_type": "markdown",
   "metadata": {},
   "source": [
    "To calculate the description length, we just set `dl` to <b>`True`</b>, as follows:"
   ]
  },
  {
   "cell_type": "code",
   "execution_count": null,
   "metadata": {},
   "outputs": [],
   "source": [
    "state.entropy(adjacency=True, dl=True, dense=True, multigraph=False, exact=True)"
   ]
  },
  {
   "cell_type": "code",
   "execution_count": null,
   "metadata": {},
   "outputs": [],
   "source": [
    "number_of_blocks_list = range(2, 10)\n",
    "entropies = []\n",
    "for n_b_i in number_of_blocks_list:\n",
    "    state = gt.minimize_blockmodel_dl(g, deg_corr=False, B_max=n_b_i, B_min=n_b_i)\n",
    "    entropies.append(state.entropy(adjacency=True, dl=True, dense=True, multigraph=False, exact=True))"
   ]
  },
  {
   "cell_type": "code",
   "execution_count": null,
   "metadata": {},
   "outputs": [],
   "source": [
    "plt.figure(figsize=(6, 3))\n",
    "plt.plot(number_of_blocks_list, entropies, marker=\"o\")\n",
    "plt.xlabel(\"Number of blocks\")\n",
    "plt.ylabel(\"Entropy\");"
   ]
  },
  {
   "cell_type": "markdown",
   "metadata": {},
   "source": [
    "## Minimizing block model description length\n",
    "\n",
    "With `graph-tool`, we can minimize the description length of our model. "
   ]
  },
  {
   "cell_type": "code",
   "execution_count": null,
   "metadata": {},
   "outputs": [],
   "source": [
    "state = gt.minimize_blockmodel_dl(g, deg_corr=False)"
   ]
  },
  {
   "cell_type": "code",
   "execution_count": null,
   "metadata": {},
   "outputs": [],
   "source": [
    "state.B"
   ]
  },
  {
   "cell_type": "code",
   "execution_count": null,
   "metadata": {},
   "outputs": [],
   "source": [
    "b = state.get_blocks()\n",
    "\n",
    "gt.graph_draw(g, output_size=(400, 400), pos=pos, vertex_fill_color=node_colors(g, b.a));  "
   ]
  },
  {
   "cell_type": "code",
   "execution_count": null,
   "metadata": {},
   "outputs": [],
   "source": [
    "membership_dict = {}\n",
    "for i, k in zip(range(len(b.a)), b.a):\n",
    "    if k not in membership_dict:\n",
    "        membership_dict[k] = []\n",
    "    membership_dict[k].append(i)\n",
    "order = np.concatenate(list(membership_dict.values()))\n",
    "plt.matshow(adjacency[order][:, order]);"
   ]
  },
  {
   "cell_type": "code",
   "execution_count": null,
   "metadata": {},
   "outputs": [],
   "source": [
    "plt.matshow(state.get_matrix().todense(), cmap=plt.cm.jet);"
   ]
  },
  {
   "cell_type": "markdown",
   "metadata": {},
   "source": [
    "### Degree heterogeneity"
   ]
  },
  {
   "cell_type": "code",
   "execution_count": null,
   "metadata": {},
   "outputs": [],
   "source": [
    "g = gt.collection.data[\"polbooks\"]\n",
    "g.num_edges(), g.num_vertices()"
   ]
  },
  {
   "cell_type": "code",
   "execution_count": null,
   "metadata": {},
   "outputs": [],
   "source": [
    "pos = gt.sfdp_layout(g)\n",
    "gt.graph_draw(g, output_size=(400, 400), pos=pos);  "
   ]
  },
  {
   "cell_type": "code",
   "execution_count": null,
   "metadata": {},
   "outputs": [],
   "source": [
    "state = gt.minimize_blockmodel_dl(g, deg_corr=False)\n",
    "b = state.get_blocks()\n",
    "gt.graph_draw(g, output_size=(400, 400), pos=pos, vertex_fill_color=node_colors(g, b.a));  \n",
    "state.B"
   ]
  },
  {
   "cell_type": "code",
   "execution_count": null,
   "metadata": {},
   "outputs": [],
   "source": [
    "plt.matshow(state.get_matrix().todense(), cmap=plt.cm.jet);"
   ]
  },
  {
   "cell_type": "markdown",
   "metadata": {},
   "source": [
    "The well-connected nodes can influence the block assignment."
   ]
  },
  {
   "cell_type": "code",
   "execution_count": null,
   "metadata": {},
   "outputs": [],
   "source": [
    "degrees = [i for i in g.degree_property_map('total')]"
   ]
  },
  {
   "cell_type": "code",
   "execution_count": null,
   "metadata": {},
   "outputs": [],
   "source": [
    "plt.figure(figsize=(5, 3))\n",
    "plt.hist(degrees, bins=20, edgecolor='k')\n",
    "plt.xlabel('Degree')\n",
    "plt.ylabel('Frequency');"
   ]
  },
  {
   "cell_type": "markdown",
   "metadata": {},
   "source": [
    "The degree-corrected stochastic block model includes the degree sequence in the model."
   ]
  },
  {
   "cell_type": "code",
   "execution_count": null,
   "metadata": {},
   "outputs": [],
   "source": [
    "state = gt.minimize_blockmodel_dl(g, deg_corr=True)\n",
    "b = state.get_blocks()\n",
    "gt.graph_draw(g, output_size=(400, 400), pos=pos, vertex_fill_color=node_colors(g, b.a));  \n",
    "state.B"
   ]
  },
  {
   "cell_type": "code",
   "execution_count": null,
   "metadata": {},
   "outputs": [],
   "source": [
    "plt.matshow(state.get_matrix().todense(), cmap=plt.cm.jet);"
   ]
  },
  {
   "cell_type": "code",
   "execution_count": null,
   "metadata": {},
   "outputs": [],
   "source": [
    "membership_dict = {}\n",
    "for i, k in zip(range(len(b.a)), b.a):\n",
    "    if k not in membership_dict:\n",
    "        membership_dict[k] = []\n",
    "    membership_dict[k].append(i)\n",
    "order = np.concatenate(list(membership_dict.values()))\n",
    "plt.matshow(adjacency[order][:, order]);"
   ]
  }
 ],
 "metadata": {
  "kernelspec": {
   "display_name": "Python 3",
   "language": "python",
   "name": "python3"
  },
  "language_info": {
   "codemirror_mode": {
    "name": "ipython",
    "version": 3
   },
   "file_extension": ".py",
   "mimetype": "text/x-python",
   "name": "python",
   "nbconvert_exporter": "python",
   "pygments_lexer": "ipython3",
   "version": "3.7.1"
  }
 },
 "nbformat": 4,
 "nbformat_minor": 2
}
