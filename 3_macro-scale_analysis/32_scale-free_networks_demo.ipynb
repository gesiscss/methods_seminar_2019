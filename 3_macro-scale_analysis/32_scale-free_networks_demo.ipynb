{
 "cells": [
  {
   "cell_type": "markdown",
   "metadata": {},
   "source": [
    "### 39. Methodenseminar\n",
    "## Big Data Module II: Introduction to Social Network Science with Python\n",
    "# 3.2 Scale-Free Networks (Demo)\n",
    "**Author**: <a href='https://www.gesis.org/person/haiko.lietz'>Haiko Lietz</a>, GESIS - Leibniz Institute for the Social Sciences\n",
    "\n",
    "**Date**: 17 July 2019\n",
    "\n",
    "**Library versions**: ``networkx`` 2.2 ([documentation](https://networkx.github.io/documentation/))"
   ]
  },
  {
   "cell_type": "markdown",
   "metadata": {},
   "source": [
    "***\n",
    "## Table of Contents\n",
    "#### [3.2.1 Fitting Degree Distributions](#3_2_1)\n",
    "#### [3.2.2 Alternative Distributions](#3_2_2)\n",
    "#### [3.2.3 Plausibility of Power Law Fit](#3_2_3)\n",
    "#### [3.2.4 Citation In Social Network Science](#3_2_4)\n",
    "[3.2.4.1 Fitting the Citation Distribution](#3_2_4_1) |\n",
    "[3.2.4.1 Measuring Preferential Attachment](#3_2_4_2)\n",
    "***"
   ]
  },
  {
   "cell_type": "markdown",
   "metadata": {},
   "source": [
    "## 3.2.1 Fitting Degree Distributions <a name='3_2_1'></a>"
   ]
  },
  {
   "cell_type": "markdown",
   "metadata": {},
   "source": [
    "#### Erdős-Rényi Graph At Phase Transition"
   ]
  },
  {
   "cell_type": "code",
   "execution_count": null,
   "metadata": {},
   "outputs": [],
   "source": []
  },
  {
   "cell_type": "markdown",
   "metadata": {},
   "source": [
    "#### Barabási–Albert Model From Preferential Attachment"
   ]
  },
  {
   "cell_type": "code",
   "execution_count": null,
   "metadata": {},
   "outputs": [],
   "source": []
  },
  {
   "cell_type": "markdown",
   "metadata": {},
   "source": [
    "#### Estimation of Lower Cutoff"
   ]
  },
  {
   "cell_type": "code",
   "execution_count": null,
   "metadata": {},
   "outputs": [],
   "source": []
  },
  {
   "cell_type": "markdown",
   "metadata": {},
   "source": [
    "### 3.2.2 Alternative Distributions <a name='3_2_2'></a>"
   ]
  },
  {
   "cell_type": "code",
   "execution_count": 1,
   "metadata": {},
   "outputs": [
    {
     "ename": "NameError",
     "evalue": "name 'fit_er' is not defined",
     "output_type": "error",
     "traceback": [
      "\u001b[1;31m---------------------------------------------------------------------------\u001b[0m",
      "\u001b[1;31mNameError\u001b[0m                                 Traceback (most recent call last)",
      "\u001b[1;32m<ipython-input-1-07e0afa55a42>\u001b[0m in \u001b[0;36m<module>\u001b[1;34m\u001b[0m\n\u001b[1;32m----> 1\u001b[1;33m \u001b[0mfit_er\u001b[0m\u001b[1;33m.\u001b[0m\u001b[0mplot_pdf\u001b[0m\u001b[1;33m(\u001b[0m\u001b[0mmarker\u001b[0m\u001b[1;33m=\u001b[0m\u001b[1;34m'o'\u001b[0m\u001b[1;33m,\u001b[0m \u001b[0mls\u001b[0m\u001b[1;33m=\u001b[0m\u001b[1;34m''\u001b[0m\u001b[1;33m)\u001b[0m\u001b[1;33m\u001b[0m\u001b[1;33m\u001b[0m\u001b[0m\n\u001b[0m\u001b[0;32m      2\u001b[0m \u001b[0mfit_er\u001b[0m\u001b[1;33m.\u001b[0m\u001b[0mexponential\u001b[0m\u001b[1;33m.\u001b[0m\u001b[0mplot_pdf\u001b[0m\u001b[1;33m(\u001b[0m\u001b[0mlabel\u001b[0m\u001b[1;33m=\u001b[0m\u001b[1;34m'Exponential'\u001b[0m\u001b[1;33m)\u001b[0m\u001b[1;33m\u001b[0m\u001b[1;33m\u001b[0m\u001b[0m\n\u001b[0;32m      3\u001b[0m \u001b[0mfit_er\u001b[0m\u001b[1;33m.\u001b[0m\u001b[0mstretched_exponential\u001b[0m\u001b[1;33m.\u001b[0m\u001b[0mplot_pdf\u001b[0m\u001b[1;33m(\u001b[0m\u001b[0mlabel\u001b[0m\u001b[1;33m=\u001b[0m\u001b[1;34m'Stretched Exponential'\u001b[0m\u001b[1;33m)\u001b[0m\u001b[1;33m\u001b[0m\u001b[1;33m\u001b[0m\u001b[0m\n\u001b[0;32m      4\u001b[0m \u001b[0mfit_er\u001b[0m\u001b[1;33m.\u001b[0m\u001b[0mlognormal_positive\u001b[0m\u001b[1;33m.\u001b[0m\u001b[0mplot_pdf\u001b[0m\u001b[1;33m(\u001b[0m\u001b[0mlabel\u001b[0m\u001b[1;33m=\u001b[0m\u001b[1;34m'Lognormal'\u001b[0m\u001b[1;33m)\u001b[0m\u001b[1;33m\u001b[0m\u001b[1;33m\u001b[0m\u001b[0m\n\u001b[0;32m      5\u001b[0m \u001b[0mfit_er\u001b[0m\u001b[1;33m.\u001b[0m\u001b[0mpower_law\u001b[0m\u001b[1;33m.\u001b[0m\u001b[0mplot_pdf\u001b[0m\u001b[1;33m(\u001b[0m\u001b[0mlabel\u001b[0m\u001b[1;33m=\u001b[0m\u001b[1;34m'Power Law'\u001b[0m\u001b[1;33m)\u001b[0m\u001b[1;33m\u001b[0m\u001b[1;33m\u001b[0m\u001b[0m\n",
      "\u001b[1;31mNameError\u001b[0m: name 'fit_er' is not defined"
     ]
    }
   ],
   "source": [
    "fit_er.plot_pdf(marker='o', ls='')\n",
    "fit_er.exponential.plot_pdf(label='Exponential')\n",
    "fit_er.stretched_exponential.plot_pdf(label='Stretched Exponential')\n",
    "fit_er.lognormal_positive.plot_pdf(label='Lognormal')\n",
    "fit_er.power_law.plot_pdf(label='Power Law')\n",
    "fit_er.truncated_power_law.plot_pdf(label='Truncated Power Law')\n",
    "plt.legend()"
   ]
  },
  {
   "cell_type": "code",
   "execution_count": null,
   "metadata": {},
   "outputs": [],
   "source": [
    "fit_ba.plot_pdf(marker='o', ls='')\n",
    "#fit_ba.exponential.plot_pdf(label='Exponential')\n",
    "fit_ba.stretched_exponential.plot_pdf(label='Stretched Exponential')\n",
    "fit_ba.lognormal_positive.plot_pdf(label='Lognormal')\n",
    "fit_ba.power_law.plot_pdf(label='Power Law')\n",
    "fit_ba.truncated_power_law.plot_pdf(label='Truncated Power Law')\n",
    "plt.legend()"
   ]
  },
  {
   "cell_type": "markdown",
   "metadata": {},
   "source": [
    "#### Identifying the Best Fit"
   ]
  },
  {
   "cell_type": "code",
   "execution_count": null,
   "metadata": {},
   "outputs": [],
   "source": []
  },
  {
   "cell_type": "code",
   "execution_count": null,
   "metadata": {},
   "outputs": [],
   "source": [
    "def compare_functions(f):\n",
    "    function = ['exponential', 'stretched_exponential', 'lognormal', 'lognormal_positive', 'power_law', 'truncated_power_law']\n",
    "    from numpy import zeros\n",
    "    f_compare_R = zeros((6, 6), dtype=float)\n",
    "    f_compare_p_R = zeros((6, 6), dtype=float)\n",
    "    for i in range(0, 6):\n",
    "        for j in range(0, 6):\n",
    "            R, p_R = f.distribution_compare(function[i], function[j])\n",
    "            f_compare_R[i, j] = R\n",
    "            f_compare_p_R[i, j] = p_R\n",
    "    from pandas import DataFrame\n",
    "    return DataFrame(f_compare_R, index=function, columns=function), DataFrame(f_compare_p_R, index=function, columns=function)"
   ]
  },
  {
   "cell_type": "code",
   "execution_count": null,
   "metadata": {},
   "outputs": [],
   "source": []
  },
  {
   "cell_type": "markdown",
   "metadata": {},
   "source": [
    "### 3.2.3 Plausibility of Power Law Fit <a name='3_2_3'></a>"
   ]
  },
  {
   "cell_type": "code",
   "execution_count": null,
   "metadata": {},
   "outputs": [],
   "source": [
    "def p_value(f, sims=2500):\n",
    "    prob = f.n_tail/len(f.data_original)\n",
    "    body = [x for x in f.data_original if x < f.xmin]\n",
    "    l = []\n",
    "    from random import random, sample\n",
    "    from powerlaw import Fit, Power_Law\n",
    "    for i in range(0, sims):\n",
    "        x = []\n",
    "        for j in range(0, len(f.data_original)):\n",
    "            if random() <= prob:\n",
    "                x.append(int(Power_Law(discrete=True, xmin=f.xmin, parameters=[f.power_law.alpha]).generate_random(1)))\n",
    "            else:\n",
    "                x.append(sample(body, 1)[0])\n",
    "        x_fit = Fit(x, discrete=True).power_law\n",
    "        l.append(x_fit.KS() > f.power_law.KS())\n",
    "    p = sum(l)/sims\n",
    "    return p"
   ]
  },
  {
   "cell_type": "code",
   "execution_count": null,
   "metadata": {},
   "outputs": [],
   "source": [
    "p_value(fit_er, sims=10)"
   ]
  },
  {
   "cell_type": "code",
   "execution_count": null,
   "metadata": {},
   "outputs": [],
   "source": [
    "p_value(fit_ba, sims=10)"
   ]
  },
  {
   "cell_type": "markdown",
   "metadata": {},
   "source": [
    "### 3.2.4 Citation In Social Network Science <a name='3_2_4'></a>"
   ]
  },
  {
   "cell_type": "code",
   "execution_count": null,
   "metadata": {},
   "outputs": [],
   "source": [
    "import pandas as pd"
   ]
  },
  {
   "cell_type": "code",
   "execution_count": null,
   "metadata": {},
   "outputs": [],
   "source": [
    "citations = pd.read_csv('../data/sns/citations.txt', header='infer', delimiter='\\t', encoding='utf-8')\n",
    "references = pd.read_csv('../data/sns/references.txt', header='infer', delimiter='\\t', encoding='utf-8')\n",
    "cited_references = pd.merge(left=citations, right=references, on='reference_id')\n",
    "cited_references = cited_references.groupby('reference').size().reset_index(name='citations')\n",
    "cited_references = cited_references.sort_values('citations', ascending=False)\n",
    "cited_references.head()"
   ]
  },
  {
   "cell_type": "markdown",
   "metadata": {},
   "source": [
    "#### 3.2.4.1 Fitting the Citation Distribution <a name='3_2_4_1'></a>"
   ]
  },
  {
   "cell_type": "code",
   "execution_count": null,
   "metadata": {},
   "outputs": [],
   "source": []
  },
  {
   "cell_type": "markdown",
   "metadata": {},
   "source": [
    "#### 3.2.4.1 Measuring Preferential Attachment <a name='3_2_4_1'></a>"
   ]
  },
  {
   "cell_type": "code",
   "execution_count": null,
   "metadata": {},
   "outputs": [],
   "source": [
    "import numpy as np"
   ]
  },
  {
   "cell_type": "code",
   "execution_count": null,
   "metadata": {},
   "outputs": [],
   "source": [
    "citations = pd.read_csv('../data/sns/citations.txt', header='infer', delimiter='\\t', encoding='utf-8')\n",
    "references = pd.read_csv('../data/sns/references.txt', header='infer', delimiter='\\t', encoding='utf-8')\n",
    "cited_references = pd.merge(left=citations, right=references, on='reference_id')\n",
    "publications = pd.read_csv('../data/sns/publications.txt', header='infer', delimiter='\\t', encoding='utf-8')\n",
    "publications['time'] = (3*np.floor(publications['time']/3)+2).astype('int')\n",
    "cited_references_time = pd.merge(left=cited_references, right=publications[['publication_id', 'time']], on='publication_id')\n",
    "cited_references_time = cited_references_time.groupby(['time', 'reference']).size().reset_index(name='citations')\n",
    "cited_references_time.head()"
   ]
  },
  {
   "cell_type": "code",
   "execution_count": null,
   "metadata": {},
   "outputs": [],
   "source": []
  },
  {
   "cell_type": "code",
   "execution_count": null,
   "metadata": {},
   "outputs": [],
   "source": [
    "t = 27\n",
    "cited_references_t_0 = cited_references_time[cited_references_time['time'] == years[t-1]]\n",
    "cited_references_t = cited_references_time[cited_references_time['time'] == years[t]]\n",
    "preferential_attachment = pd.merge(left=cited_references_t_0, right=cited_references_t, on='reference')\n",
    "preferential_attachment.columns = ['time_0', 'reference', 'citations_0', 'time', 'citations']\n",
    "preferential_attachment = preferential_attachment[['time_0', 'time', 'reference', 'citations_0', 'citations']]\n",
    "preferential_attachment.head()"
   ]
  },
  {
   "cell_type": "code",
   "execution_count": null,
   "metadata": {},
   "outputs": [],
   "source": []
  },
  {
   "cell_type": "markdown",
   "metadata": {},
   "source": [
    "#### Fitting A Scaling Law"
   ]
  },
  {
   "cell_type": "code",
   "execution_count": null,
   "metadata": {},
   "outputs": [],
   "source": [
    "def ols_reg(a):\n",
    "    # log and reshape data\n",
    "    x_log10 = np.log10(a[:, 0])\n",
    "    x_log10_reshape = x_log10.reshape(len(x_log10), 1)\n",
    "    y_log10 = np.log10(a[:, 1])\n",
    "    y_log10_reshape = y_log10.reshape(len(y_log10), 1)\n",
    "    # fit linear model in log space\n",
    "    import sklearn.linear_model as sk_lm\n",
    "    reg = sk_lm.LinearRegression()\n",
    "    reg.fit(x_log10_reshape, y_log10_reshape)\n",
    "    y_log10_reshape_predict = reg.predict(x_log10_reshape)\n",
    "    # create output\n",
    "    x_min = min(a[:, 0])\n",
    "    x_max = max(a[:, 0])\n",
    "    d = 10**reg.intercept_[0]\n",
    "    beta = reg.coef_[0][0]\n",
    "    from sklearn.metrics import r2_score\n",
    "    r2 = r2_score(y_log10_reshape, y_log10_reshape_predict)\n",
    "    a_fit = np.array([[x_min, d*x_min**beta], [x_max, d*x_max**beta]])\n",
    "    return beta, r2, a_fit"
   ]
  },
  {
   "cell_type": "code",
   "execution_count": null,
   "metadata": {},
   "outputs": [],
   "source": []
  },
  {
   "cell_type": "markdown",
   "metadata": {},
   "source": [
    "#### Fitting A Scaling Law On Averaged Data"
   ]
  },
  {
   "cell_type": "code",
   "execution_count": null,
   "metadata": {},
   "outputs": [],
   "source": []
  },
  {
   "cell_type": "code",
   "execution_count": null,
   "metadata": {},
   "outputs": [],
   "source": [
    "plt.scatter(a[:, 0], a[:, 1])\n",
    "plt.scatter(a_mean[:, 0], a_mean[:, 1])\n",
    "plt.plot(a_fit_mean[:, 0], a_fit_mean[:, 1])\n",
    "plt.xscale('log')\n",
    "plt.yscale('log')"
   ]
  },
  {
   "cell_type": "code",
   "execution_count": null,
   "metadata": {},
   "outputs": [],
   "source": []
  }
 ],
 "metadata": {
  "kernelspec": {
   "display_name": "Python 3",
   "language": "python",
   "name": "python3"
  },
  "language_info": {
   "codemirror_mode": {
    "name": "ipython",
    "version": 3
   },
   "file_extension": ".py",
   "mimetype": "text/x-python",
   "name": "python",
   "nbconvert_exporter": "python",
   "pygments_lexer": "ipython3",
   "version": "3.7.3"
  }
 },
 "nbformat": 4,
 "nbformat_minor": 2
}
