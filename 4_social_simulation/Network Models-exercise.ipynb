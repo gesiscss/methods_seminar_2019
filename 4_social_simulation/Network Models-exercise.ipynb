{
 "cells": [
  {
   "cell_type": "markdown",
   "metadata": {},
   "source": [
    "Author: Fariba Karimi\n",
    "\n",
    "Website: frbkrm.com\n",
    "\n",
    "Version: 18 July 2019\n",
    "\n",
    "Generating networks with python and networkx"
   ]
  },
  {
   "cell_type": "markdown",
   "metadata": {},
   "source": [
    "# A tutorial on generating networks\n"
   ]
  },
  {
   "cell_type": "markdown",
   "metadata": {},
   "source": []
  },
  {
   "cell_type": "code",
   "execution_count": 8,
   "metadata": {
    "collapsed": true
   },
   "outputs": [],
   "source": [
    "## let's import libraries that we need\n",
    "import networkx as nx\n",
    "import random\n",
    "import numpy as np"
   ]
  },
  {
   "cell_type": "markdown",
   "metadata": {},
   "source": [
    "## Exercises"
   ]
  },
  {
   "cell_type": "markdown",
   "metadata": {},
   "source": [
    "<div class=\"alert alert-success\">\n",
    "    <b>Exercise 1</b> \n",
    "In many social networks, it could be other mechanisms that drive the formation of links. One example could be fitness. Nodes with higher fitness have higher chance of being chosen even if they don't have large degress. Generate a network model that only individual fitness drives link formation. Individual fitness is a random number between 0 and 1 that is drawn from a uniform distribution. Hint: instead of degree, assign fitness to nodes\n",
    "</div>"
   ]
  },
  {
   "cell_type": "code",
   "execution_count": null,
   "metadata": {
    "collapsed": false
   },
   "outputs": [],
   "source": []
  },
  {
   "cell_type": "markdown",
   "metadata": {
    "collapsed": true
   },
   "source": [
    "<div class=\"alert alert-success\">\n",
    "    <b>Exercise 2</b> \n",
    "In many social networks, apart from preferential attachment, it could be other mechanisms that drive the formation of links. One example could be fitness. Nodes with higher fitness have higher chance of being chosen even if they don't have large degress. Generate a network model with preferential attachment and individual fitness. Individual fitness is a random number between 0 and 1 that is drawn from a uniform distribution. Hint: node_prob = (fitness x degree) /sum(fitness x degree)\n",
    "</div>"
   ]
  },
  {
   "cell_type": "markdown",
   "metadata": {},
   "source": [
    "<div class=\"alert alert-success\">\n",
    "    <b>Exercise 3 (optional)</b> \n",
    "Generate networks with preferential attachment and pair-wise homophily. As an excersie, let's try to add homophily to the model. Let's assume we have two types of nodes, red and blue and homophily determines the intrinsic tendency between red to red (h_rr) and blue to blue (h_bb). Homophily in this definition can vary from 0 to 1. Let's first assume homophily is 0.5. In this case h_rr = 0.5 h_bb = 0.5.\n",
    "homophily between red to blue is simply the complementory values: h_rb = 1 - h_rr. Hint: the main code can be found here: https://github.com/frbkrm/HomophilicNtwMinorities/blob/master/generate_homophilic_graph_symmetric.py\n",
    "\n",
    "</div>"
   ]
  },
  {
   "cell_type": "code",
   "execution_count": null,
   "metadata": {
    "collapsed": true
   },
   "outputs": [],
   "source": []
  },
  {
   "cell_type": "markdown",
   "metadata": {},
   "source": [
    "<div class=\"alert alert-success\">\n",
    "    <b>Exercise 4 (optional)</b> \n",
    "Think about any other social mechanism that you are interested to study and model the network based on that.\n",
    "</div>"
   ]
  },
  {
   "cell_type": "code",
   "execution_count": null,
   "metadata": {
    "collapsed": true
   },
   "outputs": [],
   "source": []
  },
  {
   "cell_type": "markdown",
   "metadata": {
    "collapsed": true
   },
   "source": [
    "<div class=\"alert alert-success\">\n",
    "    <b>Exercise 5 (optional)</b> \n",
    "Pick your favorite social network. Measure triangles in it and test whether they are signficiant (by using null models). \n",
    "</div>"
   ]
  },
  {
   "cell_type": "code",
   "execution_count": null,
   "metadata": {
    "collapsed": true
   },
   "outputs": [],
   "source": []
  }
 ],
 "metadata": {
  "kernelspec": {
   "display_name": "Python 3",
   "language": "python",
   "name": "python3"
  },
  "language_info": {
   "codemirror_mode": {
    "name": "ipython",
    "version": 3
   },
   "file_extension": ".py",
   "mimetype": "text/x-python",
   "name": "python",
   "nbconvert_exporter": "python",
   "pygments_lexer": "ipython3",
   "version": "3.4.2"
  }
 },
 "nbformat": 4,
 "nbformat_minor": 1
}
